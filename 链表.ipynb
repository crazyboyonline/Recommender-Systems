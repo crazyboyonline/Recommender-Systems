{
  "nbformat": 4,
  "nbformat_minor": 0,
  "metadata": {
    "colab": {
      "name": "Untitled13.ipynb",
      "provenance": [],
      "authorship_tag": "ABX9TyMU1Mvz+d6+l+fc3vDdjr5x",
      "include_colab_link": true
    },
    "kernelspec": {
      "name": "python3",
      "display_name": "Python 3"
    },
    "language_info": {
      "name": "python"
    }
  },
  "cells": [
    {
      "cell_type": "markdown",
      "metadata": {
        "id": "view-in-github",
        "colab_type": "text"
      },
      "source": [
        "<a href=\"https://colab.research.google.com/github/crazyboyonline/Recommender-Systems/blob/main/%E9%93%BE%E8%A1%A8.ipynb\" target=\"_parent\"><img src=\"https://colab.research.google.com/assets/colab-badge.svg\" alt=\"Open In Colab\"/></a>"
      ]
    },
    {
      "cell_type": "code",
      "execution_count": 24,
      "metadata": {
        "colab": {
          "base_uri": "https://localhost:8080/"
        },
        "id": "ymni5U428rtx",
        "outputId": "8aa4f960-5c15-4ec5-ca69-c03403a48a86"
      },
      "outputs": [
        {
          "output_type": "stream",
          "name": "stdout",
          "text": [
            "[1, 1, 2, 3, 4, 4]\n"
          ]
        }
      ],
      "source": [
        "#定义节点\n",
        "class ListNode():\n",
        "    def __init__(self, x):\n",
        "        self.val = x\n",
        "        self.next = None\n",
        "#将传入的数组转化为链表\n",
        "def create_linked_list(arr):\n",
        "    head = ListNode(arr[0])\n",
        "    cur = head\n",
        "    for i in range(1, len(arr)):\n",
        "        cur.next = ListNode(arr[i])\n",
        "        cur = cur.next\n",
        "    return head\n",
        "#传入链表头节点，以数组形式返回\n",
        "def print_linked_list(head):\n",
        "    cur = head\n",
        "    res = []\n",
        "    while cur:\n",
        "        res.append(cur.val)\n",
        "        cur = cur.next\n",
        "    return res\n",
        "class Solution():\n",
        "    def mergeTwoLists(self, l1, l2):\n",
        "        pre = ListNode(0)\n",
        "        head = pre\n",
        "        while l1 and l2:\n",
        "            if l1.val >= l2.val:\n",
        "                pre.next = l2\n",
        "                l2 = l2.next\n",
        "            else:\n",
        "                pre.next = l1\n",
        "                l1 = l1.next\n",
        "            pre = pre.next\n",
        "        pre.next = l1 if l1 else l2\n",
        "        return head.next\n",
        "if __name__ == \"__main__\":\n",
        "    head1 = create_linked_list([1, 2, 4])\n",
        "    head2 = create_linked_list([1, 3, 4])\n",
        "    solution = Solution()\n",
        "    sorted_lists = solution.mergeTwoLists(head1, head2)\n",
        "    print(print_linked_list(sorted_lists))\n",
        "#输出：[1, 1, 2, 3, 4, 4]\n"
      ]
    },
    {
      "cell_type": "code",
      "source": [
        ""
      ],
      "metadata": {
        "id": "gZMQbnKE3_Wc"
      },
      "execution_count": null,
      "outputs": []
    },
    {
      "cell_type": "code",
      "source": [
        ""
      ],
      "metadata": {
        "colab": {
          "base_uri": "https://localhost:8080/",
          "height": 194
        },
        "id": "kgP4AvW-DAvx",
        "outputId": "0cafa0ea-11bd-4b93-c349-00342fc4cac4"
      },
      "execution_count": 21,
      "outputs": [
        {
          "output_type": "error",
          "ename": "NameError",
          "evalue": "ignored",
          "traceback": [
            "\u001b[0;31m---------------------------------------------------------------------------\u001b[0m",
            "\u001b[0;31mNameError\u001b[0m                                 Traceback (most recent call last)",
            "\u001b[0;32m<ipython-input-21-ffdc918a6076>\u001b[0m in \u001b[0;36m<module>\u001b[0;34m()\u001b[0m\n\u001b[1;32m      1\u001b[0m \u001b[0ma\u001b[0m\u001b[0;34m=\u001b[0m \u001b[0;34m[\u001b[0m\u001b[0;34m[\u001b[0m\u001b[0;36m1\u001b[0m\u001b[0;34m,\u001b[0m\u001b[0;36m3\u001b[0m\u001b[0;34m,\u001b[0m\u001b[0;36m1\u001b[0m\u001b[0;34m]\u001b[0m\u001b[0;34m,\u001b[0m\u001b[0;34m[\u001b[0m\u001b[0;36m1\u001b[0m\u001b[0;34m,\u001b[0m\u001b[0;36m5\u001b[0m\u001b[0;34m,\u001b[0m\u001b[0;36m1\u001b[0m\u001b[0;34m]\u001b[0m\u001b[0;34m,\u001b[0m\u001b[0;34m[\u001b[0m\u001b[0;36m4\u001b[0m\u001b[0;34m,\u001b[0m\u001b[0;36m2\u001b[0m\u001b[0;34m,\u001b[0m\u001b[0;36m1\u001b[0m\u001b[0;34m]\u001b[0m\u001b[0;34m]\u001b[0m\u001b[0;34m\u001b[0m\u001b[0;34m\u001b[0m\u001b[0m\n\u001b[0;32m----> 2\u001b[0;31m \u001b[0mminPathSum\u001b[0m\u001b[0;34m(\u001b[0m\u001b[0ma\u001b[0m\u001b[0;34m)\u001b[0m\u001b[0;34m\u001b[0m\u001b[0;34m\u001b[0m\u001b[0m\n\u001b[0m",
            "\u001b[0;31mNameError\u001b[0m: name 'minPathSum' is not defined"
          ]
        }
      ]
    }
  ]
}