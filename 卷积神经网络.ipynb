{
  "nbformat": 4,
  "nbformat_minor": 0,
  "metadata": {
    "colab": {
      "name": "卷积神经网络.ipynb",
      "provenance": [],
      "authorship_tag": "ABX9TyObDhvoT+HdlXDpZ+zGMuZT",
      "include_colab_link": true
    },
    "kernelspec": {
      "name": "python3",
      "display_name": "Python 3"
    },
    "language_info": {
      "name": "python"
    },
    "accelerator": "GPU"
  },
  "cells": [
    {
      "cell_type": "markdown",
      "metadata": {
        "id": "view-in-github",
        "colab_type": "text"
      },
      "source": [
        "<a href=\"https://colab.research.google.com/github/crazyboyonline/Recommender-Systems/blob/main/%E5%8D%B7%E7%A7%AF%E7%A5%9E%E7%BB%8F%E7%BD%91%E7%BB%9C.ipynb\" target=\"_parent\"><img src=\"https://colab.research.google.com/assets/colab-badge.svg\" alt=\"Open In Colab\"/></a>"
      ]
    },
    {
      "cell_type": "code",
      "execution_count": 1,
      "metadata": {
        "id": "XBX3cvinjCSX"
      },
      "outputs": [],
      "source": [
        "import numpy as np\n",
        "from tensorflow import keras\n",
        "from tensorflow.keras import layers "
      ]
    },
    {
      "cell_type": "code",
      "source": [
        "#prepare the data\n",
        "#model\n",
        "\n",
        "num_classes = 10;\n",
        "input_shape = (28,28,1);\n",
        "#the data split between train and test sets\n",
        "(x_train,y_train),(x_test,y_test) = keras.datasets.mnist.load_data()\n",
        "\n",
        "\n",
        "#scale image to [0,1] range\n",
        "\n",
        "x_train = x_train.astype(\"float32\")/255\n",
        "x_test = x_test.astype(\"float32\")/255\n",
        "\n",
        "#make sure image have shape (28,28,1)\n",
        "\n",
        "x_train = np.expand_dims(x_train, -1)\n",
        "x_test = np.expand_dims(x_test,-1)\n",
        "\n",
        "print(\"x_train shape:\", x_train.shape)\n",
        "\n",
        "print(x_train.shape[0],\"train samples\")\n",
        "print(x_test.shape[0],\"test samples\")\n",
        "\n",
        "#convert class vectors to binary class matrices\n",
        "y_train = keras.utils.to_categorical(y_train,num_classes)\n",
        "y_test = keras.utils.to_categorical(y_test,num_classes)\n"
      ],
      "metadata": {
        "colab": {
          "base_uri": "https://localhost:8080/"
        },
        "id": "K33N8sFmjX9y",
        "outputId": "3ffd446e-6656-4d11-bd3b-01c0dcc95952"
      },
      "execution_count": 2,
      "outputs": [
        {
          "output_type": "stream",
          "name": "stdout",
          "text": [
            "Downloading data from https://storage.googleapis.com/tensorflow/tf-keras-datasets/mnist.npz\n",
            "11493376/11490434 [==============================] - 0s 0us/step\n",
            "11501568/11490434 [==============================] - 0s 0us/step\n",
            "x_train shape: (60000, 28, 28, 1)\n",
            "60000 train samples\n",
            "10000 test samples\n"
          ]
        }
      ]
    },
    {
      "cell_type": "code",
      "source": [
        "#bulid model\n",
        "\n",
        "model = keras.Sequential(\n",
        "    [\n",
        "     keras.Input(shape= input_shape),\n",
        "     layers.Conv2D(32,kernel_size=(3,3),activation = \"relu\"),\n",
        "     layers.MaxPooling2D(pool_size=(2,2)),\n",
        "     layers.Conv2D(64,kernel_size=(3,3), activation =\"relu\"),\n",
        "     layers.MaxPooling2D(pool_size=(2,2)),\n",
        "     layers.Flatten(),\n",
        "     layers.Dropout(0.5),\n",
        "     layers.Dense(num_classes,activation = \"softmax\"),\n",
        "    ]\n",
        ")\n",
        "     \n",
        "model.summary()"
      ],
      "metadata": {
        "colab": {
          "base_uri": "https://localhost:8080/"
        },
        "id": "vYwghkwSo0p6",
        "outputId": "e9d461ce-9b20-4f8f-ec12-d4f71236666a"
      },
      "execution_count": 6,
      "outputs": [
        {
          "output_type": "stream",
          "name": "stdout",
          "text": [
            "Model: \"sequential\"\n",
            "_________________________________________________________________\n",
            " Layer (type)                Output Shape              Param #   \n",
            "=================================================================\n",
            " conv2d_2 (Conv2D)           (None, 26, 26, 32)        320       \n",
            "                                                                 \n",
            " max_pooling2d_2 (MaxPooling  (None, 13, 13, 32)       0         \n",
            " 2D)                                                             \n",
            "                                                                 \n",
            " conv2d_3 (Conv2D)           (None, 11, 11, 64)        18496     \n",
            "                                                                 \n",
            " max_pooling2d_3 (MaxPooling  (None, 5, 5, 64)         0         \n",
            " 2D)                                                             \n",
            "                                                                 \n",
            " flatten_1 (Flatten)         (None, 1600)              0         \n",
            "                                                                 \n",
            " dropout (Dropout)           (None, 1600)              0         \n",
            "                                                                 \n",
            " dense (Dense)               (None, 10)                16010     \n",
            "                                                                 \n",
            "=================================================================\n",
            "Total params: 34,826\n",
            "Trainable params: 34,826\n",
            "Non-trainable params: 0\n",
            "_________________________________________________________________\n"
          ]
        }
      ]
    },
    {
      "cell_type": "code",
      "source": [
        "batch_size = 128\n",
        "epochs = 15\n",
        "model.compile(loss =\"categorical_crossentropy\", optimizer = \"adam\",metrics = [\"accuracy\"])\n",
        "\n",
        "model.fit(x_train,y_train,batch_size= batch_size,epochs = epochs,validation_split= 0.1)\n",
        "\n"
      ],
      "metadata": {
        "colab": {
          "base_uri": "https://localhost:8080/"
        },
        "id": "w-gsH8SYqjZ8",
        "outputId": "d39fcd5a-ec45-4e74-a788-6c17fde00571"
      },
      "execution_count": 11,
      "outputs": [
        {
          "output_type": "stream",
          "name": "stdout",
          "text": [
            "Epoch 1/15\n",
            "422/422 [==============================] - 11s 5ms/step - loss: 0.3630 - accuracy: 0.8884 - val_loss: 0.0866 - val_accuracy: 0.9755\n",
            "Epoch 2/15\n",
            "422/422 [==============================] - 2s 4ms/step - loss: 0.1167 - accuracy: 0.9641 - val_loss: 0.0621 - val_accuracy: 0.9822\n",
            "Epoch 3/15\n",
            "422/422 [==============================] - 2s 4ms/step - loss: 0.0893 - accuracy: 0.9726 - val_loss: 0.0510 - val_accuracy: 0.9870\n",
            "Epoch 4/15\n",
            "422/422 [==============================] - 2s 4ms/step - loss: 0.0757 - accuracy: 0.9766 - val_loss: 0.0469 - val_accuracy: 0.9877\n",
            "Epoch 5/15\n",
            "422/422 [==============================] - 2s 4ms/step - loss: 0.0668 - accuracy: 0.9790 - val_loss: 0.0408 - val_accuracy: 0.9897\n",
            "Epoch 6/15\n",
            "422/422 [==============================] - 2s 4ms/step - loss: 0.0604 - accuracy: 0.9814 - val_loss: 0.0389 - val_accuracy: 0.9893\n",
            "Epoch 7/15\n",
            "422/422 [==============================] - 2s 4ms/step - loss: 0.0553 - accuracy: 0.9832 - val_loss: 0.0372 - val_accuracy: 0.9902\n",
            "Epoch 8/15\n",
            "422/422 [==============================] - 2s 4ms/step - loss: 0.0496 - accuracy: 0.9842 - val_loss: 0.0356 - val_accuracy: 0.9903\n",
            "Epoch 9/15\n",
            "422/422 [==============================] - 2s 4ms/step - loss: 0.0477 - accuracy: 0.9848 - val_loss: 0.0349 - val_accuracy: 0.9905\n",
            "Epoch 10/15\n",
            "422/422 [==============================] - 2s 4ms/step - loss: 0.0477 - accuracy: 0.9850 - val_loss: 0.0351 - val_accuracy: 0.9910\n",
            "Epoch 11/15\n",
            "422/422 [==============================] - 2s 4ms/step - loss: 0.0428 - accuracy: 0.9868 - val_loss: 0.0317 - val_accuracy: 0.9912\n",
            "Epoch 12/15\n",
            "422/422 [==============================] - 2s 4ms/step - loss: 0.0386 - accuracy: 0.9877 - val_loss: 0.0322 - val_accuracy: 0.9910\n",
            "Epoch 13/15\n",
            "422/422 [==============================] - 2s 5ms/step - loss: 0.0383 - accuracy: 0.9872 - val_loss: 0.0337 - val_accuracy: 0.9908\n",
            "Epoch 14/15\n",
            "422/422 [==============================] - 2s 4ms/step - loss: 0.0353 - accuracy: 0.9884 - val_loss: 0.0315 - val_accuracy: 0.9910\n",
            "Epoch 15/15\n",
            "422/422 [==============================] - 2s 5ms/step - loss: 0.0357 - accuracy: 0.9884 - val_loss: 0.0318 - val_accuracy: 0.9918\n"
          ]
        },
        {
          "output_type": "execute_result",
          "data": {
            "text/plain": [
              "<keras.callbacks.History at 0x7f0ef0013a90>"
            ]
          },
          "metadata": {},
          "execution_count": 11
        }
      ]
    },
    {
      "cell_type": "code",
      "source": [
        "score = model.evaluate(x_test,y_test,verbose = 0)\n",
        "print(\"Test loss:\",score[0])\n",
        "print(\"Test accuracy:\", score[1])"
      ],
      "metadata": {
        "colab": {
          "base_uri": "https://localhost:8080/"
        },
        "id": "IaqvepnE0edR",
        "outputId": "c27d1dd6-fdb1-457f-caf7-0f839ac69ae9"
      },
      "execution_count": 16,
      "outputs": [
        {
          "output_type": "stream",
          "name": "stdout",
          "text": [
            "Test loss: 0.026649216189980507\n",
            "Test accuracy: 0.9902999997138977\n"
          ]
        }
      ]
    }
  ]
}