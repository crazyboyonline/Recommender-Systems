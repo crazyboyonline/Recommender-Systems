{
  "nbformat": 4,
  "nbformat_minor": 0,
  "metadata": {
    "colab": {
      "name": "新闻推荐-数据分析.ipynb",
      "provenance": [],
      "mount_file_id": "1Qxp9BaM6p8qBh4lBKfwqWnFkD9sywaEC",
      "authorship_tag": "ABX9TyNg0dLbI+xx1bhX85Jpgc6P",
      "include_colab_link": true
    },
    "kernelspec": {
      "name": "python3",
      "display_name": "Python 3"
    },
    "language_info": {
      "name": "python"
    }
  },
  "cells": [
    {
      "cell_type": "markdown",
      "metadata": {
        "id": "view-in-github",
        "colab_type": "text"
      },
      "source": [
        "<a href=\"https://colab.research.google.com/github/crazyboyonline/Recommender-Systems/blob/main/%E6%96%B0%E9%97%BB%E6%8E%A8%E8%8D%90_%E6%95%B0%E6%8D%AE%E5%88%86%E6%9E%90.ipynb\" target=\"_parent\"><img src=\"https://colab.research.google.com/assets/colab-badge.svg\" alt=\"Open In Colab\"/></a>"
      ]
    },
    {
      "cell_type": "code",
      "execution_count": 1,
      "metadata": {
        "colab": {
          "base_uri": "https://localhost:8080/"
        },
        "id": "-EjwiIEjkX4Q",
        "outputId": "69558ea9-20c4-4fbe-d960-0e4298d6f110"
      },
      "outputs": [
        {
          "output_type": "stream",
          "name": "stdout",
          "text": [
            "Archive:  /content/drive/MyDrive/新闻推荐/新闻推荐.zip\n",
            "  inflating: /content/drive/MyDrive/新闻推荐/articles.csv  \n",
            "  inflating: /content/drive/MyDrive/新闻推荐/articles_emb.csv  \n",
            "  inflating: /content/drive/MyDrive/新闻推荐/testA_click_log.csv  \n",
            "  inflating: /content/drive/MyDrive/新闻推荐/train_click_log.csv  \n"
          ]
        }
      ],
      "source": [
        "!unzip '/content/drive/MyDrive/新闻推荐/新闻推荐.zip' -d '/content/drive/MyDrive/新闻推荐'"
      ]
    },
    {
      "cell_type": "code",
      "source": [
        "import pandas as pd\n",
        "import numpy as np\n",
        "\n",
        "import matplotlib.pyplot as plt\n",
        "import seaborn as sns\n",
        "plt.rc('font', family='SimHei', size=13)\n",
        "\n",
        "import os,gc,re,warnings,sys\n",
        "warnings.filterwarnings(\"ignore\")"
      ],
      "metadata": {
        "id": "vsgCAmIYqxCc"
      },
      "execution_count": 2,
      "outputs": []
    },
    {
      "cell_type": "markdown",
      "source": [
        "#读取数据"
      ],
      "metadata": {
        "id": "rSQscA70q0AW"
      }
    },
    {
      "cell_type": "code",
      "source": [
        "# path = './data/' # 自定义的路径\n",
        "path = '/content/drive/MyDrive/新闻推荐/' # 路径\n",
        "\n",
        "#####train\n",
        "trn_click = pd.read_csv(path+'train_click_log.csv')\n",
        "#trn_click = pd.read_csv(path+'train_click_log.csv', names=['user_id','item_id','click_time','click_environment','click_deviceGroup','click_os','click_country','click_region','click_referrer_type'])\n",
        "item_df = pd.read_csv(path+'articles.csv')\n",
        "item_df = item_df.rename(columns={'article_id': 'click_article_id'})  #重命名，方便后续match\n",
        "item_emb_df = pd.read_csv(path+'articles_emb.csv')\n",
        "\n",
        "#####test\n",
        "tst_click = pd.read_csv(path+'testA_click_log.csv')"
      ],
      "metadata": {
        "id": "rX1eSJt9q3jw"
      },
      "execution_count": 5,
      "outputs": []
    },
    {
      "cell_type": "markdown",
      "source": [
        "#数据预处理\n",
        "计算用户点击rank和点击次数\n"
      ],
      "metadata": {
        "id": "BppJ29PyrWAX"
      }
    },
    {
      "cell_type": "code",
      "source": [
        "# 对每个用户的点击时间戳进行排序\n",
        "trn_click['rank'] = trn_click.groupby(['user_id'])['click_timestamp'].rank(ascending=False).astype(int)\n",
        "tst_click['rank'] = tst_click.groupby(['user_id'])['click_timestamp'].rank(ascending=False).astype(int)"
      ],
      "metadata": {
        "id": "aNHPWgHMrOIQ"
      },
      "execution_count": 6,
      "outputs": []
    },
    {
      "cell_type": "code",
      "source": [
        "#计算用户点击文章的次数，并添加新的一列count\n",
        "trn_click['click_cnts'] = trn_click.groupby(['user_id'])['click_timestamp'].transform('count')\n",
        "tst_click['click_cnts'] = tst_click.groupby(['user_id'])['click_timestamp'].transform('count')"
      ],
      "metadata": {
        "id": "FFz0K-AMrdrM"
      },
      "execution_count": 7,
      "outputs": []
    },
    {
      "cell_type": "markdown",
      "source": [
        "#数据浏览\n",
        "用户点击日志文件_训练集"
      ],
      "metadata": {
        "id": "euUtGuyZrkl0"
      }
    },
    {
      "cell_type": "code",
      "source": [
        "trn_click = trn_click.merge(item_df, how='left', on=['click_article_id'])\n",
        "trn_click.head()"
      ],
      "metadata": {
        "colab": {
          "base_uri": "https://localhost:8080/",
          "height": 214
        },
        "id": "eJnvy8-rrjDq",
        "outputId": "2269bd0f-0f58-45bc-ccc1-25b15e0b49b0"
      },
      "execution_count": 8,
      "outputs": [
        {
          "output_type": "execute_result",
          "data": {
            "text/html": [
              "\n",
              "  <div id=\"df-fcf7989f-8886-49ce-9c87-9cb97ae2406b\">\n",
              "    <div class=\"colab-df-container\">\n",
              "      <div>\n",
              "<style scoped>\n",
              "    .dataframe tbody tr th:only-of-type {\n",
              "        vertical-align: middle;\n",
              "    }\n",
              "\n",
              "    .dataframe tbody tr th {\n",
              "        vertical-align: top;\n",
              "    }\n",
              "\n",
              "    .dataframe thead th {\n",
              "        text-align: right;\n",
              "    }\n",
              "</style>\n",
              "<table border=\"1\" class=\"dataframe\">\n",
              "  <thead>\n",
              "    <tr style=\"text-align: right;\">\n",
              "      <th></th>\n",
              "      <th>user_id</th>\n",
              "      <th>click_article_id</th>\n",
              "      <th>click_timestamp</th>\n",
              "      <th>click_environment</th>\n",
              "      <th>click_deviceGroup</th>\n",
              "      <th>click_os</th>\n",
              "      <th>click_country</th>\n",
              "      <th>click_region</th>\n",
              "      <th>click_referrer_type</th>\n",
              "      <th>rank</th>\n",
              "      <th>click_cnts</th>\n",
              "      <th>category_id</th>\n",
              "      <th>created_at_ts</th>\n",
              "      <th>words_count</th>\n",
              "    </tr>\n",
              "  </thead>\n",
              "  <tbody>\n",
              "    <tr>\n",
              "      <th>0</th>\n",
              "      <td>199999</td>\n",
              "      <td>160417</td>\n",
              "      <td>1507029570190</td>\n",
              "      <td>4</td>\n",
              "      <td>1</td>\n",
              "      <td>17</td>\n",
              "      <td>1</td>\n",
              "      <td>13</td>\n",
              "      <td>1</td>\n",
              "      <td>11</td>\n",
              "      <td>11</td>\n",
              "      <td>281</td>\n",
              "      <td>1506942089000</td>\n",
              "      <td>173</td>\n",
              "    </tr>\n",
              "    <tr>\n",
              "      <th>1</th>\n",
              "      <td>199999</td>\n",
              "      <td>5408</td>\n",
              "      <td>1507029571478</td>\n",
              "      <td>4</td>\n",
              "      <td>1</td>\n",
              "      <td>17</td>\n",
              "      <td>1</td>\n",
              "      <td>13</td>\n",
              "      <td>1</td>\n",
              "      <td>10</td>\n",
              "      <td>11</td>\n",
              "      <td>4</td>\n",
              "      <td>1506994257000</td>\n",
              "      <td>118</td>\n",
              "    </tr>\n",
              "    <tr>\n",
              "      <th>2</th>\n",
              "      <td>199999</td>\n",
              "      <td>50823</td>\n",
              "      <td>1507029601478</td>\n",
              "      <td>4</td>\n",
              "      <td>1</td>\n",
              "      <td>17</td>\n",
              "      <td>1</td>\n",
              "      <td>13</td>\n",
              "      <td>1</td>\n",
              "      <td>9</td>\n",
              "      <td>11</td>\n",
              "      <td>99</td>\n",
              "      <td>1507013614000</td>\n",
              "      <td>213</td>\n",
              "    </tr>\n",
              "    <tr>\n",
              "      <th>3</th>\n",
              "      <td>199998</td>\n",
              "      <td>157770</td>\n",
              "      <td>1507029532200</td>\n",
              "      <td>4</td>\n",
              "      <td>1</td>\n",
              "      <td>17</td>\n",
              "      <td>1</td>\n",
              "      <td>25</td>\n",
              "      <td>5</td>\n",
              "      <td>40</td>\n",
              "      <td>40</td>\n",
              "      <td>281</td>\n",
              "      <td>1506983935000</td>\n",
              "      <td>201</td>\n",
              "    </tr>\n",
              "    <tr>\n",
              "      <th>4</th>\n",
              "      <td>199998</td>\n",
              "      <td>96613</td>\n",
              "      <td>1507029671831</td>\n",
              "      <td>4</td>\n",
              "      <td>1</td>\n",
              "      <td>17</td>\n",
              "      <td>1</td>\n",
              "      <td>25</td>\n",
              "      <td>5</td>\n",
              "      <td>39</td>\n",
              "      <td>40</td>\n",
              "      <td>209</td>\n",
              "      <td>1506938444000</td>\n",
              "      <td>185</td>\n",
              "    </tr>\n",
              "  </tbody>\n",
              "</table>\n",
              "</div>\n",
              "      <button class=\"colab-df-convert\" onclick=\"convertToInteractive('df-fcf7989f-8886-49ce-9c87-9cb97ae2406b')\"\n",
              "              title=\"Convert this dataframe to an interactive table.\"\n",
              "              style=\"display:none;\">\n",
              "        \n",
              "  <svg xmlns=\"http://www.w3.org/2000/svg\" height=\"24px\"viewBox=\"0 0 24 24\"\n",
              "       width=\"24px\">\n",
              "    <path d=\"M0 0h24v24H0V0z\" fill=\"none\"/>\n",
              "    <path d=\"M18.56 5.44l.94 2.06.94-2.06 2.06-.94-2.06-.94-.94-2.06-.94 2.06-2.06.94zm-11 1L8.5 8.5l.94-2.06 2.06-.94-2.06-.94L8.5 2.5l-.94 2.06-2.06.94zm10 10l.94 2.06.94-2.06 2.06-.94-2.06-.94-.94-2.06-.94 2.06-2.06.94z\"/><path d=\"M17.41 7.96l-1.37-1.37c-.4-.4-.92-.59-1.43-.59-.52 0-1.04.2-1.43.59L10.3 9.45l-7.72 7.72c-.78.78-.78 2.05 0 2.83L4 21.41c.39.39.9.59 1.41.59.51 0 1.02-.2 1.41-.59l7.78-7.78 2.81-2.81c.8-.78.8-2.07 0-2.86zM5.41 20L4 18.59l7.72-7.72 1.47 1.35L5.41 20z\"/>\n",
              "  </svg>\n",
              "      </button>\n",
              "      \n",
              "  <style>\n",
              "    .colab-df-container {\n",
              "      display:flex;\n",
              "      flex-wrap:wrap;\n",
              "      gap: 12px;\n",
              "    }\n",
              "\n",
              "    .colab-df-convert {\n",
              "      background-color: #E8F0FE;\n",
              "      border: none;\n",
              "      border-radius: 50%;\n",
              "      cursor: pointer;\n",
              "      display: none;\n",
              "      fill: #1967D2;\n",
              "      height: 32px;\n",
              "      padding: 0 0 0 0;\n",
              "      width: 32px;\n",
              "    }\n",
              "\n",
              "    .colab-df-convert:hover {\n",
              "      background-color: #E2EBFA;\n",
              "      box-shadow: 0px 1px 2px rgba(60, 64, 67, 0.3), 0px 1px 3px 1px rgba(60, 64, 67, 0.15);\n",
              "      fill: #174EA6;\n",
              "    }\n",
              "\n",
              "    [theme=dark] .colab-df-convert {\n",
              "      background-color: #3B4455;\n",
              "      fill: #D2E3FC;\n",
              "    }\n",
              "\n",
              "    [theme=dark] .colab-df-convert:hover {\n",
              "      background-color: #434B5C;\n",
              "      box-shadow: 0px 1px 3px 1px rgba(0, 0, 0, 0.15);\n",
              "      filter: drop-shadow(0px 1px 2px rgba(0, 0, 0, 0.3));\n",
              "      fill: #FFFFFF;\n",
              "    }\n",
              "  </style>\n",
              "\n",
              "      <script>\n",
              "        const buttonEl =\n",
              "          document.querySelector('#df-fcf7989f-8886-49ce-9c87-9cb97ae2406b button.colab-df-convert');\n",
              "        buttonEl.style.display =\n",
              "          google.colab.kernel.accessAllowed ? 'block' : 'none';\n",
              "\n",
              "        async function convertToInteractive(key) {\n",
              "          const element = document.querySelector('#df-fcf7989f-8886-49ce-9c87-9cb97ae2406b');\n",
              "          const dataTable =\n",
              "            await google.colab.kernel.invokeFunction('convertToInteractive',\n",
              "                                                     [key], {});\n",
              "          if (!dataTable) return;\n",
              "\n",
              "          const docLinkHtml = 'Like what you see? Visit the ' +\n",
              "            '<a target=\"_blank\" href=https://colab.research.google.com/notebooks/data_table.ipynb>data table notebook</a>'\n",
              "            + ' to learn more about interactive tables.';\n",
              "          element.innerHTML = '';\n",
              "          dataTable['output_type'] = 'display_data';\n",
              "          await google.colab.output.renderOutput(dataTable, element);\n",
              "          const docLink = document.createElement('div');\n",
              "          docLink.innerHTML = docLinkHtml;\n",
              "          element.appendChild(docLink);\n",
              "        }\n",
              "      </script>\n",
              "    </div>\n",
              "  </div>\n",
              "  "
            ],
            "text/plain": [
              "   user_id  click_article_id  ...  created_at_ts  words_count\n",
              "0   199999            160417  ...  1506942089000          173\n",
              "1   199999              5408  ...  1506994257000          118\n",
              "2   199999             50823  ...  1507013614000          213\n",
              "3   199998            157770  ...  1506983935000          201\n",
              "4   199998             96613  ...  1506938444000          185\n",
              "\n",
              "[5 rows x 14 columns]"
            ]
          },
          "metadata": {},
          "execution_count": 8
        }
      ]
    },
    {
      "cell_type": "markdown",
      "source": [
        "#train_click_log.csv文件数据中每个字段的含义\n",
        "user_id: 用户的唯一标识 \n",
        "click_article_id: 用户点击的文章唯一标识\n",
        "click_timestamp: 用户点击文章时的时间戳\n",
        "click_environment: 用户点击文章的环境\n",
        "click_deviceGroup: 用户点击文章的设备组\n",
        "click_os: 用户点击文章时的操作系统\n",
        "click_country: 用户点击文章时的所在的国家\n",
        "click_region: 用户点击文章时所在的区域\n",
        "click_referrer_type: 用户点击文章时，文章的来源\n",
        "\n",
        "\n",
        "\n",
        "\n",
        "\n",
        "\n",
        "\n"
      ],
      "metadata": {
        "id": "p4894Yvtr7Dz"
      }
    },
    {
      "cell_type": "code",
      "source": [
        "trn_click.info()"
      ],
      "metadata": {
        "colab": {
          "base_uri": "https://localhost:8080/"
        },
        "id": "Z1VdFSywr2hw",
        "outputId": "04b2da66-30bd-4293-87dc-101c24239c50"
      },
      "execution_count": 9,
      "outputs": [
        {
          "output_type": "stream",
          "name": "stdout",
          "text": [
            "<class 'pandas.core.frame.DataFrame'>\n",
            "Int64Index: 1112623 entries, 0 to 1112622\n",
            "Data columns (total 14 columns):\n",
            " #   Column               Non-Null Count    Dtype\n",
            "---  ------               --------------    -----\n",
            " 0   user_id              1112623 non-null  int64\n",
            " 1   click_article_id     1112623 non-null  int64\n",
            " 2   click_timestamp      1112623 non-null  int64\n",
            " 3   click_environment    1112623 non-null  int64\n",
            " 4   click_deviceGroup    1112623 non-null  int64\n",
            " 5   click_os             1112623 non-null  int64\n",
            " 6   click_country        1112623 non-null  int64\n",
            " 7   click_region         1112623 non-null  int64\n",
            " 8   click_referrer_type  1112623 non-null  int64\n",
            " 9   rank                 1112623 non-null  int64\n",
            " 10  click_cnts           1112623 non-null  int64\n",
            " 11  category_id          1112623 non-null  int64\n",
            " 12  created_at_ts        1112623 non-null  int64\n",
            " 13  words_count          1112623 non-null  int64\n",
            "dtypes: int64(14)\n",
            "memory usage: 127.3 MB\n"
          ]
        }
      ]
    },
    {
      "cell_type": "code",
      "source": [
        "trn_click.describe()"
      ],
      "metadata": {
        "colab": {
          "base_uri": "https://localhost:8080/",
          "height": 278
        },
        "id": "7mnq0wtlsztt",
        "outputId": "c89aaf18-3045-4491-dbe7-6204a940df40"
      },
      "execution_count": 10,
      "outputs": [
        {
          "output_type": "execute_result",
          "data": {
            "text/html": [
              "\n",
              "  <div id=\"df-7a40649c-376e-4dc0-abd3-eb1431f80e9b\">\n",
              "    <div class=\"colab-df-container\">\n",
              "      <div>\n",
              "<style scoped>\n",
              "    .dataframe tbody tr th:only-of-type {\n",
              "        vertical-align: middle;\n",
              "    }\n",
              "\n",
              "    .dataframe tbody tr th {\n",
              "        vertical-align: top;\n",
              "    }\n",
              "\n",
              "    .dataframe thead th {\n",
              "        text-align: right;\n",
              "    }\n",
              "</style>\n",
              "<table border=\"1\" class=\"dataframe\">\n",
              "  <thead>\n",
              "    <tr style=\"text-align: right;\">\n",
              "      <th></th>\n",
              "      <th>user_id</th>\n",
              "      <th>click_article_id</th>\n",
              "      <th>click_timestamp</th>\n",
              "      <th>click_environment</th>\n",
              "      <th>click_deviceGroup</th>\n",
              "      <th>click_os</th>\n",
              "      <th>click_country</th>\n",
              "      <th>click_region</th>\n",
              "      <th>click_referrer_type</th>\n",
              "      <th>rank</th>\n",
              "      <th>click_cnts</th>\n",
              "      <th>category_id</th>\n",
              "      <th>created_at_ts</th>\n",
              "      <th>words_count</th>\n",
              "    </tr>\n",
              "  </thead>\n",
              "  <tbody>\n",
              "    <tr>\n",
              "      <th>count</th>\n",
              "      <td>1.112623e+06</td>\n",
              "      <td>1.112623e+06</td>\n",
              "      <td>1.112623e+06</td>\n",
              "      <td>1.112623e+06</td>\n",
              "      <td>1.112623e+06</td>\n",
              "      <td>1.112623e+06</td>\n",
              "      <td>1.112623e+06</td>\n",
              "      <td>1.112623e+06</td>\n",
              "      <td>1.112623e+06</td>\n",
              "      <td>1.112623e+06</td>\n",
              "      <td>1.112623e+06</td>\n",
              "      <td>1.112623e+06</td>\n",
              "      <td>1.112623e+06</td>\n",
              "      <td>1.112623e+06</td>\n",
              "    </tr>\n",
              "    <tr>\n",
              "      <th>mean</th>\n",
              "      <td>1.221198e+05</td>\n",
              "      <td>1.951541e+05</td>\n",
              "      <td>1.507588e+12</td>\n",
              "      <td>3.947786e+00</td>\n",
              "      <td>1.815981e+00</td>\n",
              "      <td>1.301976e+01</td>\n",
              "      <td>1.310776e+00</td>\n",
              "      <td>1.813587e+01</td>\n",
              "      <td>1.910063e+00</td>\n",
              "      <td>7.118518e+00</td>\n",
              "      <td>1.323704e+01</td>\n",
              "      <td>3.056176e+02</td>\n",
              "      <td>1.506598e+12</td>\n",
              "      <td>2.011981e+02</td>\n",
              "    </tr>\n",
              "    <tr>\n",
              "      <th>std</th>\n",
              "      <td>5.540349e+04</td>\n",
              "      <td>9.292286e+04</td>\n",
              "      <td>3.363466e+08</td>\n",
              "      <td>3.276715e-01</td>\n",
              "      <td>1.035170e+00</td>\n",
              "      <td>6.967844e+00</td>\n",
              "      <td>1.618264e+00</td>\n",
              "      <td>7.105832e+00</td>\n",
              "      <td>1.220012e+00</td>\n",
              "      <td>1.016095e+01</td>\n",
              "      <td>1.631503e+01</td>\n",
              "      <td>1.155791e+02</td>\n",
              "      <td>8.343066e+09</td>\n",
              "      <td>5.223881e+01</td>\n",
              "    </tr>\n",
              "    <tr>\n",
              "      <th>min</th>\n",
              "      <td>0.000000e+00</td>\n",
              "      <td>3.000000e+00</td>\n",
              "      <td>1.507030e+12</td>\n",
              "      <td>1.000000e+00</td>\n",
              "      <td>1.000000e+00</td>\n",
              "      <td>2.000000e+00</td>\n",
              "      <td>1.000000e+00</td>\n",
              "      <td>1.000000e+00</td>\n",
              "      <td>1.000000e+00</td>\n",
              "      <td>1.000000e+00</td>\n",
              "      <td>2.000000e+00</td>\n",
              "      <td>1.000000e+00</td>\n",
              "      <td>1.166573e+12</td>\n",
              "      <td>0.000000e+00</td>\n",
              "    </tr>\n",
              "    <tr>\n",
              "      <th>25%</th>\n",
              "      <td>7.934700e+04</td>\n",
              "      <td>1.239090e+05</td>\n",
              "      <td>1.507297e+12</td>\n",
              "      <td>4.000000e+00</td>\n",
              "      <td>1.000000e+00</td>\n",
              "      <td>2.000000e+00</td>\n",
              "      <td>1.000000e+00</td>\n",
              "      <td>1.300000e+01</td>\n",
              "      <td>1.000000e+00</td>\n",
              "      <td>2.000000e+00</td>\n",
              "      <td>4.000000e+00</td>\n",
              "      <td>2.500000e+02</td>\n",
              "      <td>1.507220e+12</td>\n",
              "      <td>1.700000e+02</td>\n",
              "    </tr>\n",
              "    <tr>\n",
              "      <th>50%</th>\n",
              "      <td>1.309670e+05</td>\n",
              "      <td>2.038900e+05</td>\n",
              "      <td>1.507596e+12</td>\n",
              "      <td>4.000000e+00</td>\n",
              "      <td>1.000000e+00</td>\n",
              "      <td>1.700000e+01</td>\n",
              "      <td>1.000000e+00</td>\n",
              "      <td>2.100000e+01</td>\n",
              "      <td>2.000000e+00</td>\n",
              "      <td>4.000000e+00</td>\n",
              "      <td>8.000000e+00</td>\n",
              "      <td>3.280000e+02</td>\n",
              "      <td>1.507553e+12</td>\n",
              "      <td>1.970000e+02</td>\n",
              "    </tr>\n",
              "    <tr>\n",
              "      <th>75%</th>\n",
              "      <td>1.704010e+05</td>\n",
              "      <td>2.777120e+05</td>\n",
              "      <td>1.507841e+12</td>\n",
              "      <td>4.000000e+00</td>\n",
              "      <td>3.000000e+00</td>\n",
              "      <td>1.700000e+01</td>\n",
              "      <td>1.000000e+00</td>\n",
              "      <td>2.500000e+01</td>\n",
              "      <td>2.000000e+00</td>\n",
              "      <td>8.000000e+00</td>\n",
              "      <td>1.600000e+01</td>\n",
              "      <td>4.100000e+02</td>\n",
              "      <td>1.507756e+12</td>\n",
              "      <td>2.280000e+02</td>\n",
              "    </tr>\n",
              "    <tr>\n",
              "      <th>max</th>\n",
              "      <td>1.999990e+05</td>\n",
              "      <td>3.640460e+05</td>\n",
              "      <td>1.510603e+12</td>\n",
              "      <td>4.000000e+00</td>\n",
              "      <td>5.000000e+00</td>\n",
              "      <td>2.000000e+01</td>\n",
              "      <td>1.100000e+01</td>\n",
              "      <td>2.800000e+01</td>\n",
              "      <td>7.000000e+00</td>\n",
              "      <td>2.410000e+02</td>\n",
              "      <td>2.410000e+02</td>\n",
              "      <td>4.600000e+02</td>\n",
              "      <td>1.510666e+12</td>\n",
              "      <td>6.690000e+03</td>\n",
              "    </tr>\n",
              "  </tbody>\n",
              "</table>\n",
              "</div>\n",
              "      <button class=\"colab-df-convert\" onclick=\"convertToInteractive('df-7a40649c-376e-4dc0-abd3-eb1431f80e9b')\"\n",
              "              title=\"Convert this dataframe to an interactive table.\"\n",
              "              style=\"display:none;\">\n",
              "        \n",
              "  <svg xmlns=\"http://www.w3.org/2000/svg\" height=\"24px\"viewBox=\"0 0 24 24\"\n",
              "       width=\"24px\">\n",
              "    <path d=\"M0 0h24v24H0V0z\" fill=\"none\"/>\n",
              "    <path d=\"M18.56 5.44l.94 2.06.94-2.06 2.06-.94-2.06-.94-.94-2.06-.94 2.06-2.06.94zm-11 1L8.5 8.5l.94-2.06 2.06-.94-2.06-.94L8.5 2.5l-.94 2.06-2.06.94zm10 10l.94 2.06.94-2.06 2.06-.94-2.06-.94-.94-2.06-.94 2.06-2.06.94z\"/><path d=\"M17.41 7.96l-1.37-1.37c-.4-.4-.92-.59-1.43-.59-.52 0-1.04.2-1.43.59L10.3 9.45l-7.72 7.72c-.78.78-.78 2.05 0 2.83L4 21.41c.39.39.9.59 1.41.59.51 0 1.02-.2 1.41-.59l7.78-7.78 2.81-2.81c.8-.78.8-2.07 0-2.86zM5.41 20L4 18.59l7.72-7.72 1.47 1.35L5.41 20z\"/>\n",
              "  </svg>\n",
              "      </button>\n",
              "      \n",
              "  <style>\n",
              "    .colab-df-container {\n",
              "      display:flex;\n",
              "      flex-wrap:wrap;\n",
              "      gap: 12px;\n",
              "    }\n",
              "\n",
              "    .colab-df-convert {\n",
              "      background-color: #E8F0FE;\n",
              "      border: none;\n",
              "      border-radius: 50%;\n",
              "      cursor: pointer;\n",
              "      display: none;\n",
              "      fill: #1967D2;\n",
              "      height: 32px;\n",
              "      padding: 0 0 0 0;\n",
              "      width: 32px;\n",
              "    }\n",
              "\n",
              "    .colab-df-convert:hover {\n",
              "      background-color: #E2EBFA;\n",
              "      box-shadow: 0px 1px 2px rgba(60, 64, 67, 0.3), 0px 1px 3px 1px rgba(60, 64, 67, 0.15);\n",
              "      fill: #174EA6;\n",
              "    }\n",
              "\n",
              "    [theme=dark] .colab-df-convert {\n",
              "      background-color: #3B4455;\n",
              "      fill: #D2E3FC;\n",
              "    }\n",
              "\n",
              "    [theme=dark] .colab-df-convert:hover {\n",
              "      background-color: #434B5C;\n",
              "      box-shadow: 0px 1px 3px 1px rgba(0, 0, 0, 0.15);\n",
              "      filter: drop-shadow(0px 1px 2px rgba(0, 0, 0, 0.3));\n",
              "      fill: #FFFFFF;\n",
              "    }\n",
              "  </style>\n",
              "\n",
              "      <script>\n",
              "        const buttonEl =\n",
              "          document.querySelector('#df-7a40649c-376e-4dc0-abd3-eb1431f80e9b button.colab-df-convert');\n",
              "        buttonEl.style.display =\n",
              "          google.colab.kernel.accessAllowed ? 'block' : 'none';\n",
              "\n",
              "        async function convertToInteractive(key) {\n",
              "          const element = document.querySelector('#df-7a40649c-376e-4dc0-abd3-eb1431f80e9b');\n",
              "          const dataTable =\n",
              "            await google.colab.kernel.invokeFunction('convertToInteractive',\n",
              "                                                     [key], {});\n",
              "          if (!dataTable) return;\n",
              "\n",
              "          const docLinkHtml = 'Like what you see? Visit the ' +\n",
              "            '<a target=\"_blank\" href=https://colab.research.google.com/notebooks/data_table.ipynb>data table notebook</a>'\n",
              "            + ' to learn more about interactive tables.';\n",
              "          element.innerHTML = '';\n",
              "          dataTable['output_type'] = 'display_data';\n",
              "          await google.colab.output.renderOutput(dataTable, element);\n",
              "          const docLink = document.createElement('div');\n",
              "          docLink.innerHTML = docLinkHtml;\n",
              "          element.appendChild(docLink);\n",
              "        }\n",
              "      </script>\n",
              "    </div>\n",
              "  </div>\n",
              "  "
            ],
            "text/plain": [
              "            user_id  click_article_id  ...  created_at_ts   words_count\n",
              "count  1.112623e+06      1.112623e+06  ...   1.112623e+06  1.112623e+06\n",
              "mean   1.221198e+05      1.951541e+05  ...   1.506598e+12  2.011981e+02\n",
              "std    5.540349e+04      9.292286e+04  ...   8.343066e+09  5.223881e+01\n",
              "min    0.000000e+00      3.000000e+00  ...   1.166573e+12  0.000000e+00\n",
              "25%    7.934700e+04      1.239090e+05  ...   1.507220e+12  1.700000e+02\n",
              "50%    1.309670e+05      2.038900e+05  ...   1.507553e+12  1.970000e+02\n",
              "75%    1.704010e+05      2.777120e+05  ...   1.507756e+12  2.280000e+02\n",
              "max    1.999990e+05      3.640460e+05  ...   1.510666e+12  6.690000e+03\n",
              "\n",
              "[8 rows x 14 columns]"
            ]
          },
          "metadata": {},
          "execution_count": 10
        }
      ]
    },
    {
      "cell_type": "code",
      "source": [
        "#训练集中的用户数量为20w\n",
        "trn_click.user_id.nunique()"
      ],
      "metadata": {
        "colab": {
          "base_uri": "https://localhost:8080/"
        },
        "id": "8XU7rPsTtCsA",
        "outputId": "62f6062c-299c-4ddb-842f-7d7bde1ec36c"
      },
      "execution_count": 11,
      "outputs": [
        {
          "output_type": "execute_result",
          "data": {
            "text/plain": [
              "200000"
            ]
          },
          "metadata": {},
          "execution_count": 11
        }
      ]
    },
    {
      "cell_type": "code",
      "source": [
        "trn_click.groupby('user_id')['click_article_id'].count().min()  # 训练集里面每个用户至少点击了两篇文章"
      ],
      "metadata": {
        "colab": {
          "base_uri": "https://localhost:8080/"
        },
        "id": "YycS4tH6tFn1",
        "outputId": "0b9eda3f-e9e1-40b7-cffb-7756ac1e1c00"
      },
      "execution_count": 12,
      "outputs": [
        {
          "output_type": "execute_result",
          "data": {
            "text/plain": [
              "2"
            ]
          },
          "metadata": {},
          "execution_count": 12
        }
      ]
    },
    {
      "cell_type": "code",
      "source": [
        "plt.figure()\n",
        "plt.figure(figsize=(15, 20))\n",
        "i = 1\n",
        "for col in ['click_article_id', 'click_timestamp', 'click_environment', 'click_deviceGroup', 'click_os', 'click_country', \n",
        "            'click_region', 'click_referrer_type', 'rank', 'click_cnts']:\n",
        "    plot_envs = plt.subplot(5, 2, i)\n",
        "    i += 1\n",
        "    v = trn_click[col].value_counts().reset_index()[:10]\n",
        "    fig = sns.barplot(x=v['index'], y=v[col])\n",
        "    for item in fig.get_xticklabels():\n",
        "        item.set_rotation(90)\n",
        "    plt.title(col)\n",
        "plt.tight_layout()\n",
        "plt.show()"
      ],
      "metadata": {
        "colab": {
          "base_uri": "https://localhost:8080/",
          "height": 1000
        },
        "id": "WM4EFFxftKKv",
        "outputId": "7061fc2d-028d-4613-f1c3-6139630f69d0"
      },
      "execution_count": 13,
      "outputs": [
        {
          "output_type": "stream",
          "name": "stderr",
          "text": [
            "findfont: Font family ['SimHei'] not found. Falling back to DejaVu Sans.\n",
            "findfont: Font family ['SimHei'] not found. Falling back to DejaVu Sans.\n"
          ]
        },
        {
          "output_type": "display_data",
          "data": {
            "text/plain": [
              "<Figure size 432x288 with 0 Axes>"
            ]
          },
          "metadata": {}
        },
        {
          "output_type": "display_data",
          "data": {
            "image/png": "[encoded data removed]",
            "text/plain": [
              "<Figure size 1080x1440 with 10 Axes>"
            ]
          },
          "metadata": {
            "needs_background": "light"
          }
        }
      ]
    },
    {
      "cell_type": "markdown",
      "source": [
        "也可以以用户角度分析，画出每个用户点击文章次数的直方图\n",
        "\n"
      ],
      "metadata": {
        "id": "ZmKr6wNjt-lX"
      }
    },
    {
      "cell_type": "code",
      "source": [
        "trn_click['click_environment'].value_counts()"
      ],
      "metadata": {
        "colab": {
          "base_uri": "https://localhost:8080/"
        },
        "id": "XcLTUC8RuBEk",
        "outputId": "64e3e57a-34fd-4933-b30b-b8e2ba8892cc"
      },
      "execution_count": 14,
      "outputs": [
        {
          "output_type": "execute_result",
          "data": {
            "text/plain": [
              "4    1084627\n",
              "2      25894\n",
              "1       2102\n",
              "Name: click_environment, dtype: int64"
            ]
          },
          "metadata": {},
          "execution_count": 14
        }
      ]
    },
    {
      "cell_type": "markdown",
      "source": [
        "从点击环境click_environment来看，仅有2102次（占0.19%）点击环境为1；仅有25894次（占2.3%）点击环境为2；剩余（占97.6%）点击环境为4。"
      ],
      "metadata": {
        "id": "tFnf1a_DuTP8"
      }
    },
    {
      "cell_type": "code",
      "source": [
        "trn_click['click_deviceGroup'].value_counts()"
      ],
      "metadata": {
        "colab": {
          "base_uri": "https://localhost:8080/"
        },
        "id": "XfDdMVKzuRHe",
        "outputId": "b401f22f-ac35-4f0d-854c-d139af7bcec4"
      },
      "execution_count": 15,
      "outputs": [
        {
          "output_type": "execute_result",
          "data": {
            "text/plain": [
              "1    678187\n",
              "3    395558\n",
              "4     38731\n",
              "5       141\n",
              "2         6\n",
              "Name: click_deviceGroup, dtype: int64"
            ]
          },
          "metadata": {},
          "execution_count": 15
        }
      ]
    },
    {
      "cell_type": "markdown",
      "source": [
        "从点击设备组click_deviceGroup来看，设备1占大部分（61%），设备3占36%。"
      ],
      "metadata": {
        "id": "UiOOHlzPuhpu"
      }
    },
    {
      "cell_type": "markdown",
      "source": [
        "#测试集用户点击日志"
      ],
      "metadata": {
        "id": "IY2pPxOQulOY"
      }
    },
    {
      "cell_type": "code",
      "source": [
        "tst_click = tst_click.merge(item_df,how = 'left', on = ['click_article_id'])\n",
        "tst_click.head()"
      ],
      "metadata": {
        "colab": {
          "base_uri": "https://localhost:8080/",
          "height": 206
        },
        "id": "JVGeXjACujf3",
        "outputId": "1ca2893c-965b-460b-d516-2378bf4be459"
      },
      "execution_count": 16,
      "outputs": [
        {
          "output_type": "execute_result",
          "data": {
            "text/html": [
              "\n",
              "  <div id=\"df-ecac9544-5116-4b2a-8c28-5aec53e9da76\">\n",
              "    <div class=\"colab-df-container\">\n",
              "      <div>\n",
              "<style scoped>\n",
              "    .dataframe tbody tr th:only-of-type {\n",
              "        vertical-align: middle;\n",
              "    }\n",
              "\n",
              "    .dataframe tbody tr th {\n",
              "        vertical-align: top;\n",
              "    }\n",
              "\n",
              "    .dataframe thead th {\n",
              "        text-align: right;\n",
              "    }\n",
              "</style>\n",
              "<table border=\"1\" class=\"dataframe\">\n",
              "  <thead>\n",
              "    <tr style=\"text-align: right;\">\n",
              "      <th></th>\n",
              "      <th>user_id</th>\n",
              "      <th>click_article_id</th>\n",
              "      <th>click_timestamp</th>\n",
              "      <th>click_environment</th>\n",
              "      <th>click_deviceGroup</th>\n",
              "      <th>click_os</th>\n",
              "      <th>click_country</th>\n",
              "      <th>click_region</th>\n",
              "      <th>click_referrer_type</th>\n",
              "      <th>rank</th>\n",
              "      <th>click_cnts</th>\n",
              "      <th>category_id</th>\n",
              "      <th>created_at_ts</th>\n",
              "      <th>words_count</th>\n",
              "    </tr>\n",
              "  </thead>\n",
              "  <tbody>\n",
              "    <tr>\n",
              "      <th>0</th>\n",
              "      <td>249999</td>\n",
              "      <td>160974</td>\n",
              "      <td>1506959142820</td>\n",
              "      <td>4</td>\n",
              "      <td>1</td>\n",
              "      <td>17</td>\n",
              "      <td>1</td>\n",
              "      <td>13</td>\n",
              "      <td>2</td>\n",
              "      <td>19</td>\n",
              "      <td>19</td>\n",
              "      <td>281</td>\n",
              "      <td>1506912747000</td>\n",
              "      <td>259</td>\n",
              "    </tr>\n",
              "    <tr>\n",
              "      <th>1</th>\n",
              "      <td>249999</td>\n",
              "      <td>160417</td>\n",
              "      <td>1506959172820</td>\n",
              "      <td>4</td>\n",
              "      <td>1</td>\n",
              "      <td>17</td>\n",
              "      <td>1</td>\n",
              "      <td>13</td>\n",
              "      <td>2</td>\n",
              "      <td>18</td>\n",
              "      <td>19</td>\n",
              "      <td>281</td>\n",
              "      <td>1506942089000</td>\n",
              "      <td>173</td>\n",
              "    </tr>\n",
              "    <tr>\n",
              "      <th>2</th>\n",
              "      <td>249998</td>\n",
              "      <td>160974</td>\n",
              "      <td>1506959056066</td>\n",
              "      <td>4</td>\n",
              "      <td>1</td>\n",
              "      <td>12</td>\n",
              "      <td>1</td>\n",
              "      <td>13</td>\n",
              "      <td>2</td>\n",
              "      <td>5</td>\n",
              "      <td>5</td>\n",
              "      <td>281</td>\n",
              "      <td>1506912747000</td>\n",
              "      <td>259</td>\n",
              "    </tr>\n",
              "    <tr>\n",
              "      <th>3</th>\n",
              "      <td>249998</td>\n",
              "      <td>202557</td>\n",
              "      <td>1506959086066</td>\n",
              "      <td>4</td>\n",
              "      <td>1</td>\n",
              "      <td>12</td>\n",
              "      <td>1</td>\n",
              "      <td>13</td>\n",
              "      <td>2</td>\n",
              "      <td>4</td>\n",
              "      <td>5</td>\n",
              "      <td>327</td>\n",
              "      <td>1506938401000</td>\n",
              "      <td>219</td>\n",
              "    </tr>\n",
              "    <tr>\n",
              "      <th>4</th>\n",
              "      <td>249997</td>\n",
              "      <td>183665</td>\n",
              "      <td>1506959088613</td>\n",
              "      <td>4</td>\n",
              "      <td>1</td>\n",
              "      <td>17</td>\n",
              "      <td>1</td>\n",
              "      <td>15</td>\n",
              "      <td>5</td>\n",
              "      <td>7</td>\n",
              "      <td>7</td>\n",
              "      <td>301</td>\n",
              "      <td>1500895686000</td>\n",
              "      <td>256</td>\n",
              "    </tr>\n",
              "  </tbody>\n",
              "</table>\n",
              "</div>\n",
              "      <button class=\"colab-df-convert\" onclick=\"convertToInteractive('df-ecac9544-5116-4b2a-8c28-5aec53e9da76')\"\n",
              "              title=\"Convert this dataframe to an interactive table.\"\n",
              "              style=\"display:none;\">\n",
              "        \n",
              "  <svg xmlns=\"http://www.w3.org/2000/svg\" height=\"24px\"viewBox=\"0 0 24 24\"\n",
              "       width=\"24px\">\n",
              "    <path d=\"M0 0h24v24H0V0z\" fill=\"none\"/>\n",
              "    <path d=\"M18.56 5.44l.94 2.06.94-2.06 2.06-.94-2.06-.94-.94-2.06-.94 2.06-2.06.94zm-11 1L8.5 8.5l.94-2.06 2.06-.94-2.06-.94L8.5 2.5l-.94 2.06-2.06.94zm10 10l.94 2.06.94-2.06 2.06-.94-2.06-.94-.94-2.06-.94 2.06-2.06.94z\"/><path d=\"M17.41 7.96l-1.37-1.37c-.4-.4-.92-.59-1.43-.59-.52 0-1.04.2-1.43.59L10.3 9.45l-7.72 7.72c-.78.78-.78 2.05 0 2.83L4 21.41c.39.39.9.59 1.41.59.51 0 1.02-.2 1.41-.59l7.78-7.78 2.81-2.81c.8-.78.8-2.07 0-2.86zM5.41 20L4 18.59l7.72-7.72 1.47 1.35L5.41 20z\"/>\n",
              "  </svg>\n",
              "      </button>\n",
              "      \n",
              "  <style>\n",
              "    .colab-df-container {\n",
              "      display:flex;\n",
              "      flex-wrap:wrap;\n",
              "      gap: 12px;\n",
              "    }\n",
              "\n",
              "    .colab-df-convert {\n",
              "      background-color: #E8F0FE;\n",
              "      border: none;\n",
              "      border-radius: 50%;\n",
              "      cursor: pointer;\n",
              "      display: none;\n",
              "      fill: #1967D2;\n",
              "      height: 32px;\n",
              "      padding: 0 0 0 0;\n",
              "      width: 32px;\n",
              "    }\n",
              "\n",
              "    .colab-df-convert:hover {\n",
              "      background-color: #E2EBFA;\n",
              "      box-shadow: 0px 1px 2px rgba(60, 64, 67, 0.3), 0px 1px 3px 1px rgba(60, 64, 67, 0.15);\n",
              "      fill: #174EA6;\n",
              "    }\n",
              "\n",
              "    [theme=dark] .colab-df-convert {\n",
              "      background-color: #3B4455;\n",
              "      fill: #D2E3FC;\n",
              "    }\n",
              "\n",
              "    [theme=dark] .colab-df-convert:hover {\n",
              "      background-color: #434B5C;\n",
              "      box-shadow: 0px 1px 3px 1px rgba(0, 0, 0, 0.15);\n",
              "      filter: drop-shadow(0px 1px 2px rgba(0, 0, 0, 0.3));\n",
              "      fill: #FFFFFF;\n",
              "    }\n",
              "  </style>\n",
              "\n",
              "      <script>\n",
              "        const buttonEl =\n",
              "          document.querySelector('#df-ecac9544-5116-4b2a-8c28-5aec53e9da76 button.colab-df-convert');\n",
              "        buttonEl.style.display =\n",
              "          google.colab.kernel.accessAllowed ? 'block' : 'none';\n",
              "\n",
              "        async function convertToInteractive(key) {\n",
              "          const element = document.querySelector('#df-ecac9544-5116-4b2a-8c28-5aec53e9da76');\n",
              "          const dataTable =\n",
              "            await google.colab.kernel.invokeFunction('convertToInteractive',\n",
              "                                                     [key], {});\n",
              "          if (!dataTable) return;\n",
              "\n",
              "          const docLinkHtml = 'Like what you see? Visit the ' +\n",
              "            '<a target=\"_blank\" href=https://colab.research.google.com/notebooks/data_table.ipynb>data table notebook</a>'\n",
              "            + ' to learn more about interactive tables.';\n",
              "          element.innerHTML = '';\n",
              "          dataTable['output_type'] = 'display_data';\n",
              "          await google.colab.output.renderOutput(dataTable, element);\n",
              "          const docLink = document.createElement('div');\n",
              "          docLink.innerHTML = docLinkHtml;\n",
              "          element.appendChild(docLink);\n",
              "        }\n",
              "      </script>\n",
              "    </div>\n",
              "  </div>\n",
              "  "
            ],
            "text/plain": [
              "   user_id  click_article_id  ...  created_at_ts  words_count\n",
              "0   249999            160974  ...  1506912747000          259\n",
              "1   249999            160417  ...  1506942089000          173\n",
              "2   249998            160974  ...  1506912747000          259\n",
              "3   249998            202557  ...  1506938401000          219\n",
              "4   249997            183665  ...  1500895686000          256\n",
              "\n",
              "[5 rows x 14 columns]"
            ]
          },
          "metadata": {},
          "execution_count": 16
        }
      ]
    },
    {
      "cell_type": "code",
      "source": [
        "tst_click.describe()"
      ],
      "metadata": {
        "colab": {
          "base_uri": "https://localhost:8080/",
          "height": 300
        },
        "id": "QRDAEacEu_xP",
        "outputId": "fadbb9ca-1e8c-47b9-ef3d-69dec1006d85"
      },
      "execution_count": 17,
      "outputs": [
        {
          "output_type": "execute_result",
          "data": {
            "text/html": [
              "\n",
              "  <div id=\"df-76d3dcff-3bbb-4273-8601-0cf6aeb87757\">\n",
              "    <div class=\"colab-df-container\">\n",
              "      <div>\n",
              "<style scoped>\n",
              "    .dataframe tbody tr th:only-of-type {\n",
              "        vertical-align: middle;\n",
              "    }\n",
              "\n",
              "    .dataframe tbody tr th {\n",
              "        vertical-align: top;\n",
              "    }\n",
              "\n",
              "    .dataframe thead th {\n",
              "        text-align: right;\n",
              "    }\n",
              "</style>\n",
              "<table border=\"1\" class=\"dataframe\">\n",
              "  <thead>\n",
              "    <tr style=\"text-align: right;\">\n",
              "      <th></th>\n",
              "      <th>user_id</th>\n",
              "      <th>click_article_id</th>\n",
              "      <th>click_timestamp</th>\n",
              "      <th>click_environment</th>\n",
              "      <th>click_deviceGroup</th>\n",
              "      <th>click_os</th>\n",
              "      <th>click_country</th>\n",
              "      <th>click_region</th>\n",
              "      <th>click_referrer_type</th>\n",
              "      <th>rank</th>\n",
              "      <th>click_cnts</th>\n",
              "      <th>category_id</th>\n",
              "      <th>created_at_ts</th>\n",
              "      <th>words_count</th>\n",
              "    </tr>\n",
              "  </thead>\n",
              "  <tbody>\n",
              "    <tr>\n",
              "      <th>count</th>\n",
              "      <td>518010.000000</td>\n",
              "      <td>518010.000000</td>\n",
              "      <td>5.180100e+05</td>\n",
              "      <td>518010.000000</td>\n",
              "      <td>518010.000000</td>\n",
              "      <td>518010.000000</td>\n",
              "      <td>518010.000000</td>\n",
              "      <td>518010.000000</td>\n",
              "      <td>518010.000000</td>\n",
              "      <td>518010.000000</td>\n",
              "      <td>518010.000000</td>\n",
              "      <td>518010.000000</td>\n",
              "      <td>5.180100e+05</td>\n",
              "      <td>518010.000000</td>\n",
              "    </tr>\n",
              "    <tr>\n",
              "      <th>mean</th>\n",
              "      <td>227342.428169</td>\n",
              "      <td>193803.792550</td>\n",
              "      <td>1.507387e+12</td>\n",
              "      <td>3.947300</td>\n",
              "      <td>1.738285</td>\n",
              "      <td>13.628467</td>\n",
              "      <td>1.348209</td>\n",
              "      <td>18.250250</td>\n",
              "      <td>1.819614</td>\n",
              "      <td>15.521785</td>\n",
              "      <td>30.043586</td>\n",
              "      <td>305.324961</td>\n",
              "      <td>1.506883e+12</td>\n",
              "      <td>210.966331</td>\n",
              "    </tr>\n",
              "    <tr>\n",
              "      <th>std</th>\n",
              "      <td>14613.907188</td>\n",
              "      <td>88279.388177</td>\n",
              "      <td>3.706127e+08</td>\n",
              "      <td>0.323916</td>\n",
              "      <td>1.020858</td>\n",
              "      <td>6.625564</td>\n",
              "      <td>1.703524</td>\n",
              "      <td>7.060798</td>\n",
              "      <td>1.082657</td>\n",
              "      <td>33.957702</td>\n",
              "      <td>56.868021</td>\n",
              "      <td>110.411513</td>\n",
              "      <td>5.816668e+09</td>\n",
              "      <td>83.040065</td>\n",
              "    </tr>\n",
              "    <tr>\n",
              "      <th>min</th>\n",
              "      <td>200000.000000</td>\n",
              "      <td>137.000000</td>\n",
              "      <td>1.506959e+12</td>\n",
              "      <td>1.000000</td>\n",
              "      <td>1.000000</td>\n",
              "      <td>2.000000</td>\n",
              "      <td>1.000000</td>\n",
              "      <td>1.000000</td>\n",
              "      <td>1.000000</td>\n",
              "      <td>1.000000</td>\n",
              "      <td>1.000000</td>\n",
              "      <td>1.000000</td>\n",
              "      <td>1.265812e+12</td>\n",
              "      <td>0.000000</td>\n",
              "    </tr>\n",
              "    <tr>\n",
              "      <th>25%</th>\n",
              "      <td>214926.000000</td>\n",
              "      <td>128551.000000</td>\n",
              "      <td>1.507026e+12</td>\n",
              "      <td>4.000000</td>\n",
              "      <td>1.000000</td>\n",
              "      <td>12.000000</td>\n",
              "      <td>1.000000</td>\n",
              "      <td>13.000000</td>\n",
              "      <td>1.000000</td>\n",
              "      <td>4.000000</td>\n",
              "      <td>10.000000</td>\n",
              "      <td>252.000000</td>\n",
              "      <td>1.506970e+12</td>\n",
              "      <td>176.000000</td>\n",
              "    </tr>\n",
              "    <tr>\n",
              "      <th>50%</th>\n",
              "      <td>229109.000000</td>\n",
              "      <td>199197.000000</td>\n",
              "      <td>1.507308e+12</td>\n",
              "      <td>4.000000</td>\n",
              "      <td>1.000000</td>\n",
              "      <td>17.000000</td>\n",
              "      <td>1.000000</td>\n",
              "      <td>21.000000</td>\n",
              "      <td>2.000000</td>\n",
              "      <td>8.000000</td>\n",
              "      <td>19.000000</td>\n",
              "      <td>323.000000</td>\n",
              "      <td>1.507249e+12</td>\n",
              "      <td>199.000000</td>\n",
              "    </tr>\n",
              "    <tr>\n",
              "      <th>75%</th>\n",
              "      <td>240182.000000</td>\n",
              "      <td>272143.000000</td>\n",
              "      <td>1.507666e+12</td>\n",
              "      <td>4.000000</td>\n",
              "      <td>3.000000</td>\n",
              "      <td>17.000000</td>\n",
              "      <td>1.000000</td>\n",
              "      <td>25.000000</td>\n",
              "      <td>2.000000</td>\n",
              "      <td>18.000000</td>\n",
              "      <td>35.000000</td>\n",
              "      <td>399.000000</td>\n",
              "      <td>1.507630e+12</td>\n",
              "      <td>232.000000</td>\n",
              "    </tr>\n",
              "    <tr>\n",
              "      <th>max</th>\n",
              "      <td>249999.000000</td>\n",
              "      <td>364043.000000</td>\n",
              "      <td>1.508832e+12</td>\n",
              "      <td>4.000000</td>\n",
              "      <td>5.000000</td>\n",
              "      <td>20.000000</td>\n",
              "      <td>11.000000</td>\n",
              "      <td>28.000000</td>\n",
              "      <td>7.000000</td>\n",
              "      <td>938.000000</td>\n",
              "      <td>938.000000</td>\n",
              "      <td>460.000000</td>\n",
              "      <td>1.509949e+12</td>\n",
              "      <td>3082.000000</td>\n",
              "    </tr>\n",
              "  </tbody>\n",
              "</table>\n",
              "</div>\n",
              "      <button class=\"colab-df-convert\" onclick=\"convertToInteractive('df-76d3dcff-3bbb-4273-8601-0cf6aeb87757')\"\n",
              "              title=\"Convert this dataframe to an interactive table.\"\n",
              "              style=\"display:none;\">\n",
              "        \n",
              "  <svg xmlns=\"http://www.w3.org/2000/svg\" height=\"24px\"viewBox=\"0 0 24 24\"\n",
              "       width=\"24px\">\n",
              "    <path d=\"M0 0h24v24H0V0z\" fill=\"none\"/>\n",
              "    <path d=\"M18.56 5.44l.94 2.06.94-2.06 2.06-.94-2.06-.94-.94-2.06-.94 2.06-2.06.94zm-11 1L8.5 8.5l.94-2.06 2.06-.94-2.06-.94L8.5 2.5l-.94 2.06-2.06.94zm10 10l.94 2.06.94-2.06 2.06-.94-2.06-.94-.94-2.06-.94 2.06-2.06.94z\"/><path d=\"M17.41 7.96l-1.37-1.37c-.4-.4-.92-.59-1.43-.59-.52 0-1.04.2-1.43.59L10.3 9.45l-7.72 7.72c-.78.78-.78 2.05 0 2.83L4 21.41c.39.39.9.59 1.41.59.51 0 1.02-.2 1.41-.59l7.78-7.78 2.81-2.81c.8-.78.8-2.07 0-2.86zM5.41 20L4 18.59l7.72-7.72 1.47 1.35L5.41 20z\"/>\n",
              "  </svg>\n",
              "      </button>\n",
              "      \n",
              "  <style>\n",
              "    .colab-df-container {\n",
              "      display:flex;\n",
              "      flex-wrap:wrap;\n",
              "      gap: 12px;\n",
              "    }\n",
              "\n",
              "    .colab-df-convert {\n",
              "      background-color: #E8F0FE;\n",
              "      border: none;\n",
              "      border-radius: 50%;\n",
              "      cursor: pointer;\n",
              "      display: none;\n",
              "      fill: #1967D2;\n",
              "      height: 32px;\n",
              "      padding: 0 0 0 0;\n",
              "      width: 32px;\n",
              "    }\n",
              "\n",
              "    .colab-df-convert:hover {\n",
              "      background-color: #E2EBFA;\n",
              "      box-shadow: 0px 1px 2px rgba(60, 64, 67, 0.3), 0px 1px 3px 1px rgba(60, 64, 67, 0.15);\n",
              "      fill: #174EA6;\n",
              "    }\n",
              "\n",
              "    [theme=dark] .colab-df-convert {\n",
              "      background-color: #3B4455;\n",
              "      fill: #D2E3FC;\n",
              "    }\n",
              "\n",
              "    [theme=dark] .colab-df-convert:hover {\n",
              "      background-color: #434B5C;\n",
              "      box-shadow: 0px 1px 3px 1px rgba(0, 0, 0, 0.15);\n",
              "      filter: drop-shadow(0px 1px 2px rgba(0, 0, 0, 0.3));\n",
              "      fill: #FFFFFF;\n",
              "    }\n",
              "  </style>\n",
              "\n",
              "      <script>\n",
              "        const buttonEl =\n",
              "          document.querySelector('#df-76d3dcff-3bbb-4273-8601-0cf6aeb87757 button.colab-df-convert');\n",
              "        buttonEl.style.display =\n",
              "          google.colab.kernel.accessAllowed ? 'block' : 'none';\n",
              "\n",
              "        async function convertToInteractive(key) {\n",
              "          const element = document.querySelector('#df-76d3dcff-3bbb-4273-8601-0cf6aeb87757');\n",
              "          const dataTable =\n",
              "            await google.colab.kernel.invokeFunction('convertToInteractive',\n",
              "                                                     [key], {});\n",
              "          if (!dataTable) return;\n",
              "\n",
              "          const docLinkHtml = 'Like what you see? Visit the ' +\n",
              "            '<a target=\"_blank\" href=https://colab.research.google.com/notebooks/data_table.ipynb>data table notebook</a>'\n",
              "            + ' to learn more about interactive tables.';\n",
              "          element.innerHTML = '';\n",
              "          dataTable['output_type'] = 'display_data';\n",
              "          await google.colab.output.renderOutput(dataTable, element);\n",
              "          const docLink = document.createElement('div');\n",
              "          docLink.innerHTML = docLinkHtml;\n",
              "          element.appendChild(docLink);\n",
              "        }\n",
              "      </script>\n",
              "    </div>\n",
              "  </div>\n",
              "  "
            ],
            "text/plain": [
              "             user_id  click_article_id  ...  created_at_ts    words_count\n",
              "count  518010.000000     518010.000000  ...   5.180100e+05  518010.000000\n",
              "mean   227342.428169     193803.792550  ...   1.506883e+12     210.966331\n",
              "std     14613.907188      88279.388177  ...   5.816668e+09      83.040065\n",
              "min    200000.000000        137.000000  ...   1.265812e+12       0.000000\n",
              "25%    214926.000000     128551.000000  ...   1.506970e+12     176.000000\n",
              "50%    229109.000000     199197.000000  ...   1.507249e+12     199.000000\n",
              "75%    240182.000000     272143.000000  ...   1.507630e+12     232.000000\n",
              "max    249999.000000     364043.000000  ...   1.509949e+12    3082.000000\n",
              "\n",
              "[8 rows x 14 columns]"
            ]
          },
          "metadata": {},
          "execution_count": 17
        }
      ]
    },
    {
      "cell_type": "markdown",
      "source": [
        "我们可以看出训练集和测试集的用户是完全不一样的\n",
        "\n",
        "训练集的用户ID由0 ~ 199999，而测试集A的用户ID由200000 ~ 249999。\n",
        "\n",
        "因此，也就是我们在训练时，需要把测试集的数据也包括在内，称为全量数据。"
      ],
      "metadata": {
        "id": "Pu53Ui8jvKvn"
      }
    },
    {
      "cell_type": "code",
      "source": [
        "#测试集中的用户数量为5W\n",
        "tst_click.user_id.nunique()"
      ],
      "metadata": {
        "colab": {
          "base_uri": "https://localhost:8080/"
        },
        "id": "vOSwt7jBvH2j",
        "outputId": "e9910e86-8537-499e-8fa7-c3fb48f1c2b9"
      },
      "execution_count": 18,
      "outputs": [
        {
          "output_type": "execute_result",
          "data": {
            "text/plain": [
              "50000"
            ]
          },
          "metadata": {},
          "execution_count": 18
        }
      ]
    },
    {
      "cell_type": "code",
      "source": [
        "tst_click.groupby('user_id')['click_article_id'].count().min()#注意测试集里面有只点击过一次文章的用户"
      ],
      "metadata": {
        "colab": {
          "base_uri": "https://localhost:8080/"
        },
        "id": "hbGVpHR2vZ2k",
        "outputId": "ef8e0b50-33d1-454b-cec8-62ed57efafc8"
      },
      "execution_count": 19,
      "outputs": [
        {
          "output_type": "execute_result",
          "data": {
            "text/plain": [
              "1"
            ]
          },
          "metadata": {},
          "execution_count": 19
        }
      ]
    },
    {
      "cell_type": "code",
      "source": [
        "#新闻文章数据集浏览\n",
        "item_df.head().append(item_df.tail())"
      ],
      "metadata": {
        "colab": {
          "base_uri": "https://localhost:8080/",
          "height": 363
        },
        "id": "gadizbRxv2-J",
        "outputId": "a31b344c-59a8-4099-ab3c-643a253f39ae"
      },
      "execution_count": 20,
      "outputs": [
        {
          "output_type": "execute_result",
          "data": {
            "text/html": [
              "\n",
              "  <div id=\"df-7a3c38eb-d4ca-44de-9907-adc93c156bf9\">\n",
              "    <div class=\"colab-df-container\">\n",
              "      <div>\n",
              "<style scoped>\n",
              "    .dataframe tbody tr th:only-of-type {\n",
              "        vertical-align: middle;\n",
              "    }\n",
              "\n",
              "    .dataframe tbody tr th {\n",
              "        vertical-align: top;\n",
              "    }\n",
              "\n",
              "    .dataframe thead th {\n",
              "        text-align: right;\n",
              "    }\n",
              "</style>\n",
              "<table border=\"1\" class=\"dataframe\">\n",
              "  <thead>\n",
              "    <tr style=\"text-align: right;\">\n",
              "      <th></th>\n",
              "      <th>click_article_id</th>\n",
              "      <th>category_id</th>\n",
              "      <th>created_at_ts</th>\n",
              "      <th>words_count</th>\n",
              "    </tr>\n",
              "  </thead>\n",
              "  <tbody>\n",
              "    <tr>\n",
              "      <th>0</th>\n",
              "      <td>0</td>\n",
              "      <td>0</td>\n",
              "      <td>1513144419000</td>\n",
              "      <td>168</td>\n",
              "    </tr>\n",
              "    <tr>\n",
              "      <th>1</th>\n",
              "      <td>1</td>\n",
              "      <td>1</td>\n",
              "      <td>1405341936000</td>\n",
              "      <td>189</td>\n",
              "    </tr>\n",
              "    <tr>\n",
              "      <th>2</th>\n",
              "      <td>2</td>\n",
              "      <td>1</td>\n",
              "      <td>1408667706000</td>\n",
              "      <td>250</td>\n",
              "    </tr>\n",
              "    <tr>\n",
              "      <th>3</th>\n",
              "      <td>3</td>\n",
              "      <td>1</td>\n",
              "      <td>1408468313000</td>\n",
              "      <td>230</td>\n",
              "    </tr>\n",
              "    <tr>\n",
              "      <th>4</th>\n",
              "      <td>4</td>\n",
              "      <td>1</td>\n",
              "      <td>1407071171000</td>\n",
              "      <td>162</td>\n",
              "    </tr>\n",
              "    <tr>\n",
              "      <th>364042</th>\n",
              "      <td>364042</td>\n",
              "      <td>460</td>\n",
              "      <td>1434034118000</td>\n",
              "      <td>144</td>\n",
              "    </tr>\n",
              "    <tr>\n",
              "      <th>364043</th>\n",
              "      <td>364043</td>\n",
              "      <td>460</td>\n",
              "      <td>1434148472000</td>\n",
              "      <td>463</td>\n",
              "    </tr>\n",
              "    <tr>\n",
              "      <th>364044</th>\n",
              "      <td>364044</td>\n",
              "      <td>460</td>\n",
              "      <td>1457974279000</td>\n",
              "      <td>177</td>\n",
              "    </tr>\n",
              "    <tr>\n",
              "      <th>364045</th>\n",
              "      <td>364045</td>\n",
              "      <td>460</td>\n",
              "      <td>1515964737000</td>\n",
              "      <td>126</td>\n",
              "    </tr>\n",
              "    <tr>\n",
              "      <th>364046</th>\n",
              "      <td>364046</td>\n",
              "      <td>460</td>\n",
              "      <td>1505811330000</td>\n",
              "      <td>479</td>\n",
              "    </tr>\n",
              "  </tbody>\n",
              "</table>\n",
              "</div>\n",
              "      <button class=\"colab-df-convert\" onclick=\"convertToInteractive('df-7a3c38eb-d4ca-44de-9907-adc93c156bf9')\"\n",
              "              title=\"Convert this dataframe to an interactive table.\"\n",
              "              style=\"display:none;\">\n",
              "        \n",
              "  <svg xmlns=\"http://www.w3.org/2000/svg\" height=\"24px\"viewBox=\"0 0 24 24\"\n",
              "       width=\"24px\">\n",
              "    <path d=\"M0 0h24v24H0V0z\" fill=\"none\"/>\n",
              "    <path d=\"M18.56 5.44l.94 2.06.94-2.06 2.06-.94-2.06-.94-.94-2.06-.94 2.06-2.06.94zm-11 1L8.5 8.5l.94-2.06 2.06-.94-2.06-.94L8.5 2.5l-.94 2.06-2.06.94zm10 10l.94 2.06.94-2.06 2.06-.94-2.06-.94-.94-2.06-.94 2.06-2.06.94z\"/><path d=\"M17.41 7.96l-1.37-1.37c-.4-.4-.92-.59-1.43-.59-.52 0-1.04.2-1.43.59L10.3 9.45l-7.72 7.72c-.78.78-.78 2.05 0 2.83L4 21.41c.39.39.9.59 1.41.59.51 0 1.02-.2 1.41-.59l7.78-7.78 2.81-2.81c.8-.78.8-2.07 0-2.86zM5.41 20L4 18.59l7.72-7.72 1.47 1.35L5.41 20z\"/>\n",
              "  </svg>\n",
              "      </button>\n",
              "      \n",
              "  <style>\n",
              "    .colab-df-container {\n",
              "      display:flex;\n",
              "      flex-wrap:wrap;\n",
              "      gap: 12px;\n",
              "    }\n",
              "\n",
              "    .colab-df-convert {\n",
              "      background-color: #E8F0FE;\n",
              "      border: none;\n",
              "      border-radius: 50%;\n",
              "      cursor: pointer;\n",
              "      display: none;\n",
              "      fill: #1967D2;\n",
              "      height: 32px;\n",
              "      padding: 0 0 0 0;\n",
              "      width: 32px;\n",
              "    }\n",
              "\n",
              "    .colab-df-convert:hover {\n",
              "      background-color: #E2EBFA;\n",
              "      box-shadow: 0px 1px 2px rgba(60, 64, 67, 0.3), 0px 1px 3px 1px rgba(60, 64, 67, 0.15);\n",
              "      fill: #174EA6;\n",
              "    }\n",
              "\n",
              "    [theme=dark] .colab-df-convert {\n",
              "      background-color: #3B4455;\n",
              "      fill: #D2E3FC;\n",
              "    }\n",
              "\n",
              "    [theme=dark] .colab-df-convert:hover {\n",
              "      background-color: #434B5C;\n",
              "      box-shadow: 0px 1px 3px 1px rgba(0, 0, 0, 0.15);\n",
              "      filter: drop-shadow(0px 1px 2px rgba(0, 0, 0, 0.3));\n",
              "      fill: #FFFFFF;\n",
              "    }\n",
              "  </style>\n",
              "\n",
              "      <script>\n",
              "        const buttonEl =\n",
              "          document.querySelector('#df-7a3c38eb-d4ca-44de-9907-adc93c156bf9 button.colab-df-convert');\n",
              "        buttonEl.style.display =\n",
              "          google.colab.kernel.accessAllowed ? 'block' : 'none';\n",
              "\n",
              "        async function convertToInteractive(key) {\n",
              "          const element = document.querySelector('#df-7a3c38eb-d4ca-44de-9907-adc93c156bf9');\n",
              "          const dataTable =\n",
              "            await google.colab.kernel.invokeFunction('convertToInteractive',\n",
              "                                                     [key], {});\n",
              "          if (!dataTable) return;\n",
              "\n",
              "          const docLinkHtml = 'Like what you see? Visit the ' +\n",
              "            '<a target=\"_blank\" href=https://colab.research.google.com/notebooks/data_table.ipynb>data table notebook</a>'\n",
              "            + ' to learn more about interactive tables.';\n",
              "          element.innerHTML = '';\n",
              "          dataTable['output_type'] = 'display_data';\n",
              "          await google.colab.output.renderOutput(dataTable, element);\n",
              "          const docLink = document.createElement('div');\n",
              "          docLink.innerHTML = docLinkHtml;\n",
              "          element.appendChild(docLink);\n",
              "        }\n",
              "      </script>\n",
              "    </div>\n",
              "  </div>\n",
              "  "
            ],
            "text/plain": [
              "        click_article_id  category_id  created_at_ts  words_count\n",
              "0                      0            0  1513144419000          168\n",
              "1                      1            1  1405341936000          189\n",
              "2                      2            1  1408667706000          250\n",
              "3                      3            1  1408468313000          230\n",
              "4                      4            1  1407071171000          162\n",
              "364042            364042          460  1434034118000          144\n",
              "364043            364043          460  1434148472000          463\n",
              "364044            364044          460  1457974279000          177\n",
              "364045            364045          460  1515964737000          126\n",
              "364046            364046          460  1505811330000          479"
            ]
          },
          "metadata": {},
          "execution_count": 20
        }
      ]
    },
    {
      "cell_type": "code",
      "source": [
        "item_df['words_count'].value_counts()"
      ],
      "metadata": {
        "colab": {
          "base_uri": "https://localhost:8080/"
        },
        "id": "_YnByHcLwFlK",
        "outputId": "4e6014e7-9fe4-4318-e39e-d9465dc8c9e6"
      },
      "execution_count": 22,
      "outputs": [
        {
          "output_type": "execute_result",
          "data": {
            "text/plain": [
              "176     3485\n",
              "182     3480\n",
              "179     3463\n",
              "178     3458\n",
              "174     3456\n",
              "        ... \n",
              "556        1\n",
              "625        1\n",
              "2798       1\n",
              "767        1\n",
              "841        1\n",
              "Name: words_count, Length: 866, dtype: int64"
            ]
          },
          "metadata": {},
          "execution_count": 22
        }
      ]
    },
    {
      "cell_type": "code",
      "source": [
        "print(item_df['category_id'].nunique())\n",
        "item_df['category_id'].hist()"
      ],
      "metadata": {
        "colab": {
          "base_uri": "https://localhost:8080/",
          "height": 306
        },
        "id": "3NFhEguqwRz6",
        "outputId": "7c36579d-67ab-434b-c1be-d151d3d33d91"
      },
      "execution_count": 23,
      "outputs": [
        {
          "output_type": "stream",
          "name": "stdout",
          "text": [
            "461\n"
          ]
        },
        {
          "output_type": "execute_result",
          "data": {
            "text/plain": [
              "<matplotlib.axes._subplots.AxesSubplot at 0x7f632cc347d0>"
            ]
          },
          "metadata": {},
          "execution_count": 23
        },
        {
          "output_type": "display_data",
          "data": {
            "image/png": "[encoded data removed]",
            "text/plain": [
              "<Figure size 432x288 with 1 Axes>"
            ]
          },
          "metadata": {
            "needs_background": "light"
          }
        }
      ]
    },
    {
      "cell_type": "code",
      "source": [
        "item_df.shape #364047篇文章"
      ],
      "metadata": {
        "colab": {
          "base_uri": "https://localhost:8080/"
        },
        "id": "FM3nEZKPwkvy",
        "outputId": "3a9a8c55-2cd2-4fad-958b-11718609d273"
      },
      "execution_count": 24,
      "outputs": [
        {
          "output_type": "execute_result",
          "data": {
            "text/plain": [
              "(364047, 4)"
            ]
          },
          "metadata": {},
          "execution_count": 24
        }
      ]
    },
    {
      "cell_type": "markdown",
      "source": [
        "#新闻文章embedding向量表示"
      ],
      "metadata": {
        "id": "bXxMb3HSwvWH"
      }
    },
    {
      "cell_type": "code",
      "source": [
        "item_emb_df.head()"
      ],
      "metadata": {
        "colab": {
          "base_uri": "https://localhost:8080/",
          "height": 300
        },
        "id": "JqRRXGMGwtwR",
        "outputId": "1f146bbe-16bc-4793-cb8e-922bb7d78db7"
      },
      "execution_count": 25,
      "outputs": [
        {
          "output_type": "execute_result",
          "data": {
            "text/html": [
              "\n",
              "  <div id=\"df-220cf285-6101-463f-9def-9eeef78b2907\">\n",
              "    <div class=\"colab-df-container\">\n",
              "      <div>\n",
              "<style scoped>\n",
              "    .dataframe tbody tr th:only-of-type {\n",
              "        vertical-align: middle;\n",
              "    }\n",
              "\n",
              "    .dataframe tbody tr th {\n",
              "        vertical-align: top;\n",
              "    }\n",
              "\n",
              "    .dataframe thead th {\n",
              "        text-align: right;\n",
              "    }\n",
              "</style>\n",
              "<table border=\"1\" class=\"dataframe\">\n",
              "  <thead>\n",
              "    <tr style=\"text-align: right;\">\n",
              "      <th></th>\n",
              "      <th>article_id</th>\n",
              "      <th>emb_0</th>\n",
              "      <th>emb_1</th>\n",
              "      <th>emb_2</th>\n",
              "      <th>emb_3</th>\n",
              "      <th>emb_4</th>\n",
              "      <th>emb_5</th>\n",
              "      <th>emb_6</th>\n",
              "      <th>emb_7</th>\n",
              "      <th>emb_8</th>\n",
              "      <th>emb_9</th>\n",
              "      <th>emb_10</th>\n",
              "      <th>emb_11</th>\n",
              "      <th>emb_12</th>\n",
              "      <th>emb_13</th>\n",
              "      <th>emb_14</th>\n",
              "      <th>emb_15</th>\n",
              "      <th>emb_16</th>\n",
              "      <th>emb_17</th>\n",
              "      <th>emb_18</th>\n",
              "      <th>emb_19</th>\n",
              "      <th>emb_20</th>\n",
              "      <th>emb_21</th>\n",
              "      <th>emb_22</th>\n",
              "      <th>emb_23</th>\n",
              "      <th>emb_24</th>\n",
              "      <th>emb_25</th>\n",
              "      <th>emb_26</th>\n",
              "      <th>emb_27</th>\n",
              "      <th>emb_28</th>\n",
              "      <th>emb_29</th>\n",
              "      <th>emb_30</th>\n",
              "      <th>emb_31</th>\n",
              "      <th>emb_32</th>\n",
              "      <th>emb_33</th>\n",
              "      <th>emb_34</th>\n",
              "      <th>emb_35</th>\n",
              "      <th>emb_36</th>\n",
              "      <th>emb_37</th>\n",
              "      <th>emb_38</th>\n",
              "      <th>...</th>\n",
              "      <th>emb_210</th>\n",
              "      <th>emb_211</th>\n",
              "      <th>emb_212</th>\n",
              "      <th>emb_213</th>\n",
              "      <th>emb_214</th>\n",
              "      <th>emb_215</th>\n",
              "      <th>emb_216</th>\n",
              "      <th>emb_217</th>\n",
              "      <th>emb_218</th>\n",
              "      <th>emb_219</th>\n",
              "      <th>emb_220</th>\n",
              "      <th>emb_221</th>\n",
              "      <th>emb_222</th>\n",
              "      <th>emb_223</th>\n",
              "      <th>emb_224</th>\n",
              "      <th>emb_225</th>\n",
              "      <th>emb_226</th>\n",
              "      <th>emb_227</th>\n",
              "      <th>emb_228</th>\n",
              "      <th>emb_229</th>\n",
              "      <th>emb_230</th>\n",
              "      <th>emb_231</th>\n",
              "      <th>emb_232</th>\n",
              "      <th>emb_233</th>\n",
              "      <th>emb_234</th>\n",
              "      <th>emb_235</th>\n",
              "      <th>emb_236</th>\n",
              "      <th>emb_237</th>\n",
              "      <th>emb_238</th>\n",
              "      <th>emb_239</th>\n",
              "      <th>emb_240</th>\n",
              "      <th>emb_241</th>\n",
              "      <th>emb_242</th>\n",
              "      <th>emb_243</th>\n",
              "      <th>emb_244</th>\n",
              "      <th>emb_245</th>\n",
              "      <th>emb_246</th>\n",
              "      <th>emb_247</th>\n",
              "      <th>emb_248</th>\n",
              "      <th>emb_249</th>\n",
              "    </tr>\n",
              "  </thead>\n",
              "  <tbody>\n",
              "    <tr>\n",
              "      <th>0</th>\n",
              "      <td>0</td>\n",
              "      <td>-0.161183</td>\n",
              "      <td>-0.957233</td>\n",
              "      <td>-0.137944</td>\n",
              "      <td>0.050855</td>\n",
              "      <td>0.830055</td>\n",
              "      <td>0.901365</td>\n",
              "      <td>-0.335148</td>\n",
              "      <td>-0.559561</td>\n",
              "      <td>-0.500603</td>\n",
              "      <td>0.165183</td>\n",
              "      <td>0.428434</td>\n",
              "      <td>0.355056</td>\n",
              "      <td>0.874437</td>\n",
              "      <td>-0.528883</td>\n",
              "      <td>0.625487</td>\n",
              "      <td>0.268920</td>\n",
              "      <td>-0.822835</td>\n",
              "      <td>-0.703853</td>\n",
              "      <td>-0.625845</td>\n",
              "      <td>-0.152855</td>\n",
              "      <td>-0.666241</td>\n",
              "      <td>0.043295</td>\n",
              "      <td>0.178638</td>\n",
              "      <td>0.046890</td>\n",
              "      <td>0.594531</td>\n",
              "      <td>-0.183348</td>\n",
              "      <td>0.195107</td>\n",
              "      <td>-0.467640</td>\n",
              "      <td>-0.304807</td>\n",
              "      <td>0.353175</td>\n",
              "      <td>0.278188</td>\n",
              "      <td>0.538623</td>\n",
              "      <td>-0.371209</td>\n",
              "      <td>0.489898</td>\n",
              "      <td>-0.103833</td>\n",
              "      <td>0.119174</td>\n",
              "      <td>0.132437</td>\n",
              "      <td>-0.621084</td>\n",
              "      <td>-0.453311</td>\n",
              "      <td>...</td>\n",
              "      <td>0.764381</td>\n",
              "      <td>0.275644</td>\n",
              "      <td>-0.692138</td>\n",
              "      <td>-0.393240</td>\n",
              "      <td>-0.325693</td>\n",
              "      <td>0.163377</td>\n",
              "      <td>-0.154952</td>\n",
              "      <td>-0.701639</td>\n",
              "      <td>0.711825</td>\n",
              "      <td>-0.839063</td>\n",
              "      <td>-0.459145</td>\n",
              "      <td>0.919913</td>\n",
              "      <td>0.621834</td>\n",
              "      <td>-0.640471</td>\n",
              "      <td>0.389934</td>\n",
              "      <td>0.764178</td>\n",
              "      <td>0.164851</td>\n",
              "      <td>-0.747023</td>\n",
              "      <td>0.411034</td>\n",
              "      <td>0.750901</td>\n",
              "      <td>0.860643</td>\n",
              "      <td>0.614755</td>\n",
              "      <td>0.549660</td>\n",
              "      <td>0.334437</td>\n",
              "      <td>-0.388059</td>\n",
              "      <td>-0.703730</td>\n",
              "      <td>-0.567420</td>\n",
              "      <td>0.006478</td>\n",
              "      <td>-0.206590</td>\n",
              "      <td>-0.385272</td>\n",
              "      <td>0.321248</td>\n",
              "      <td>0.313999</td>\n",
              "      <td>0.636412</td>\n",
              "      <td>0.169179</td>\n",
              "      <td>0.540524</td>\n",
              "      <td>-0.813182</td>\n",
              "      <td>0.286870</td>\n",
              "      <td>-0.231686</td>\n",
              "      <td>0.597416</td>\n",
              "      <td>0.409623</td>\n",
              "    </tr>\n",
              "    <tr>\n",
              "      <th>1</th>\n",
              "      <td>1</td>\n",
              "      <td>-0.523216</td>\n",
              "      <td>-0.974058</td>\n",
              "      <td>0.738608</td>\n",
              "      <td>0.155234</td>\n",
              "      <td>0.626294</td>\n",
              "      <td>0.485297</td>\n",
              "      <td>-0.715657</td>\n",
              "      <td>-0.897996</td>\n",
              "      <td>-0.359747</td>\n",
              "      <td>0.398246</td>\n",
              "      <td>0.672840</td>\n",
              "      <td>-0.011180</td>\n",
              "      <td>-0.347506</td>\n",
              "      <td>-0.541346</td>\n",
              "      <td>0.458492</td>\n",
              "      <td>0.482316</td>\n",
              "      <td>0.713665</td>\n",
              "      <td>-0.474050</td>\n",
              "      <td>0.405787</td>\n",
              "      <td>0.671431</td>\n",
              "      <td>-0.480856</td>\n",
              "      <td>0.434779</td>\n",
              "      <td>0.468499</td>\n",
              "      <td>0.376424</td>\n",
              "      <td>0.368048</td>\n",
              "      <td>0.192545</td>\n",
              "      <td>0.095572</td>\n",
              "      <td>-0.542234</td>\n",
              "      <td>0.065547</td>\n",
              "      <td>0.363267</td>\n",
              "      <td>-0.162804</td>\n",
              "      <td>0.319617</td>\n",
              "      <td>0.469473</td>\n",
              "      <td>0.578466</td>\n",
              "      <td>-0.803637</td>\n",
              "      <td>-0.304545</td>\n",
              "      <td>0.635511</td>\n",
              "      <td>0.089978</td>\n",
              "      <td>-0.569946</td>\n",
              "      <td>...</td>\n",
              "      <td>0.344321</td>\n",
              "      <td>-0.534050</td>\n",
              "      <td>0.728764</td>\n",
              "      <td>0.860110</td>\n",
              "      <td>-0.028166</td>\n",
              "      <td>0.491114</td>\n",
              "      <td>0.531556</td>\n",
              "      <td>0.545350</td>\n",
              "      <td>-0.241544</td>\n",
              "      <td>-0.091119</td>\n",
              "      <td>0.001625</td>\n",
              "      <td>0.950923</td>\n",
              "      <td>-0.367805</td>\n",
              "      <td>-0.215411</td>\n",
              "      <td>-0.131891</td>\n",
              "      <td>0.709081</td>\n",
              "      <td>0.612876</td>\n",
              "      <td>0.814885</td>\n",
              "      <td>0.278680</td>\n",
              "      <td>0.003690</td>\n",
              "      <td>-0.286773</td>\n",
              "      <td>-0.100936</td>\n",
              "      <td>-0.382605</td>\n",
              "      <td>-0.191886</td>\n",
              "      <td>-0.416420</td>\n",
              "      <td>-0.856593</td>\n",
              "      <td>0.537442</td>\n",
              "      <td>0.281693</td>\n",
              "      <td>-0.681829</td>\n",
              "      <td>0.666095</td>\n",
              "      <td>-0.487843</td>\n",
              "      <td>0.823124</td>\n",
              "      <td>0.412688</td>\n",
              "      <td>-0.338654</td>\n",
              "      <td>0.320786</td>\n",
              "      <td>0.588643</td>\n",
              "      <td>-0.594137</td>\n",
              "      <td>0.182828</td>\n",
              "      <td>0.397090</td>\n",
              "      <td>-0.834364</td>\n",
              "    </tr>\n",
              "    <tr>\n",
              "      <th>2</th>\n",
              "      <td>2</td>\n",
              "      <td>-0.619619</td>\n",
              "      <td>-0.972960</td>\n",
              "      <td>-0.207360</td>\n",
              "      <td>-0.128861</td>\n",
              "      <td>0.044748</td>\n",
              "      <td>-0.387535</td>\n",
              "      <td>-0.730477</td>\n",
              "      <td>-0.066126</td>\n",
              "      <td>-0.754899</td>\n",
              "      <td>-0.242004</td>\n",
              "      <td>0.670484</td>\n",
              "      <td>-0.280388</td>\n",
              "      <td>-0.557285</td>\n",
              "      <td>-0.084145</td>\n",
              "      <td>0.027782</td>\n",
              "      <td>0.294074</td>\n",
              "      <td>0.362697</td>\n",
              "      <td>-0.368549</td>\n",
              "      <td>0.147960</td>\n",
              "      <td>-0.011751</td>\n",
              "      <td>0.030209</td>\n",
              "      <td>0.106317</td>\n",
              "      <td>0.628013</td>\n",
              "      <td>0.388849</td>\n",
              "      <td>0.615911</td>\n",
              "      <td>-0.445113</td>\n",
              "      <td>0.106028</td>\n",
              "      <td>0.137109</td>\n",
              "      <td>-0.095536</td>\n",
              "      <td>0.342532</td>\n",
              "      <td>0.592646</td>\n",
              "      <td>-0.261791</td>\n",
              "      <td>0.342123</td>\n",
              "      <td>0.704539</td>\n",
              "      <td>-0.433067</td>\n",
              "      <td>0.104154</td>\n",
              "      <td>0.785971</td>\n",
              "      <td>0.588640</td>\n",
              "      <td>-0.627687</td>\n",
              "      <td>...</td>\n",
              "      <td>-0.600840</td>\n",
              "      <td>-0.539323</td>\n",
              "      <td>0.418196</td>\n",
              "      <td>0.028715</td>\n",
              "      <td>0.135008</td>\n",
              "      <td>-0.313483</td>\n",
              "      <td>0.744361</td>\n",
              "      <td>-0.145113</td>\n",
              "      <td>-0.485484</td>\n",
              "      <td>-0.591555</td>\n",
              "      <td>0.030112</td>\n",
              "      <td>0.952736</td>\n",
              "      <td>-0.569376</td>\n",
              "      <td>-0.359680</td>\n",
              "      <td>0.561676</td>\n",
              "      <td>0.381671</td>\n",
              "      <td>-0.189300</td>\n",
              "      <td>0.420950</td>\n",
              "      <td>0.022337</td>\n",
              "      <td>-0.329559</td>\n",
              "      <td>0.232765</td>\n",
              "      <td>0.424368</td>\n",
              "      <td>-0.484598</td>\n",
              "      <td>0.394343</td>\n",
              "      <td>-0.329527</td>\n",
              "      <td>-0.852293</td>\n",
              "      <td>0.634992</td>\n",
              "      <td>-0.532673</td>\n",
              "      <td>-0.469396</td>\n",
              "      <td>0.714991</td>\n",
              "      <td>0.454756</td>\n",
              "      <td>0.473184</td>\n",
              "      <td>0.377866</td>\n",
              "      <td>-0.863887</td>\n",
              "      <td>-0.383365</td>\n",
              "      <td>0.137721</td>\n",
              "      <td>-0.810877</td>\n",
              "      <td>-0.447580</td>\n",
              "      <td>0.805932</td>\n",
              "      <td>-0.285284</td>\n",
              "    </tr>\n",
              "    <tr>\n",
              "      <th>3</th>\n",
              "      <td>3</td>\n",
              "      <td>-0.740843</td>\n",
              "      <td>-0.975749</td>\n",
              "      <td>0.391698</td>\n",
              "      <td>0.641738</td>\n",
              "      <td>-0.268645</td>\n",
              "      <td>0.191745</td>\n",
              "      <td>-0.825593</td>\n",
              "      <td>-0.710591</td>\n",
              "      <td>-0.040099</td>\n",
              "      <td>-0.110514</td>\n",
              "      <td>0.591640</td>\n",
              "      <td>-0.245205</td>\n",
              "      <td>-0.788418</td>\n",
              "      <td>-0.345293</td>\n",
              "      <td>-0.756407</td>\n",
              "      <td>0.141115</td>\n",
              "      <td>0.283782</td>\n",
              "      <td>-0.369959</td>\n",
              "      <td>0.374733</td>\n",
              "      <td>0.922633</td>\n",
              "      <td>0.172219</td>\n",
              "      <td>0.253582</td>\n",
              "      <td>0.552108</td>\n",
              "      <td>-0.454131</td>\n",
              "      <td>0.385160</td>\n",
              "      <td>-0.151101</td>\n",
              "      <td>0.598559</td>\n",
              "      <td>-0.614190</td>\n",
              "      <td>-0.258765</td>\n",
              "      <td>0.591907</td>\n",
              "      <td>0.618749</td>\n",
              "      <td>0.414598</td>\n",
              "      <td>0.698184</td>\n",
              "      <td>-0.114862</td>\n",
              "      <td>-0.069056</td>\n",
              "      <td>-0.420455</td>\n",
              "      <td>0.589368</td>\n",
              "      <td>0.496948</td>\n",
              "      <td>-0.449707</td>\n",
              "      <td>...</td>\n",
              "      <td>-0.137121</td>\n",
              "      <td>-0.245490</td>\n",
              "      <td>0.170559</td>\n",
              "      <td>0.568090</td>\n",
              "      <td>-0.252295</td>\n",
              "      <td>-0.455726</td>\n",
              "      <td>0.756765</td>\n",
              "      <td>0.626615</td>\n",
              "      <td>-0.005399</td>\n",
              "      <td>-0.472355</td>\n",
              "      <td>0.324625</td>\n",
              "      <td>0.954345</td>\n",
              "      <td>-0.840553</td>\n",
              "      <td>-0.800332</td>\n",
              "      <td>0.111637</td>\n",
              "      <td>-0.501806</td>\n",
              "      <td>0.115986</td>\n",
              "      <td>0.805840</td>\n",
              "      <td>-0.041481</td>\n",
              "      <td>0.320630</td>\n",
              "      <td>-0.450113</td>\n",
              "      <td>-0.378700</td>\n",
              "      <td>0.509616</td>\n",
              "      <td>0.142787</td>\n",
              "      <td>0.149670</td>\n",
              "      <td>-0.896181</td>\n",
              "      <td>0.234389</td>\n",
              "      <td>-0.189831</td>\n",
              "      <td>-0.597612</td>\n",
              "      <td>0.263807</td>\n",
              "      <td>0.271535</td>\n",
              "      <td>0.036040</td>\n",
              "      <td>0.480029</td>\n",
              "      <td>-0.763173</td>\n",
              "      <td>0.022627</td>\n",
              "      <td>0.565165</td>\n",
              "      <td>-0.910286</td>\n",
              "      <td>-0.537838</td>\n",
              "      <td>0.243541</td>\n",
              "      <td>-0.885329</td>\n",
              "    </tr>\n",
              "    <tr>\n",
              "      <th>4</th>\n",
              "      <td>4</td>\n",
              "      <td>-0.279052</td>\n",
              "      <td>-0.972315</td>\n",
              "      <td>0.685374</td>\n",
              "      <td>0.113056</td>\n",
              "      <td>0.238315</td>\n",
              "      <td>0.271913</td>\n",
              "      <td>-0.568816</td>\n",
              "      <td>0.341194</td>\n",
              "      <td>-0.600554</td>\n",
              "      <td>-0.125644</td>\n",
              "      <td>0.698668</td>\n",
              "      <td>0.467503</td>\n",
              "      <td>-0.740664</td>\n",
              "      <td>-0.258062</td>\n",
              "      <td>-0.094110</td>\n",
              "      <td>0.256941</td>\n",
              "      <td>0.582071</td>\n",
              "      <td>-0.025041</td>\n",
              "      <td>0.339164</td>\n",
              "      <td>-0.348473</td>\n",
              "      <td>0.413076</td>\n",
              "      <td>0.159945</td>\n",
              "      <td>0.511137</td>\n",
              "      <td>0.608007</td>\n",
              "      <td>0.626225</td>\n",
              "      <td>-0.540690</td>\n",
              "      <td>0.623640</td>\n",
              "      <td>-0.019697</td>\n",
              "      <td>0.027607</td>\n",
              "      <td>-0.236370</td>\n",
              "      <td>0.311671</td>\n",
              "      <td>-0.559831</td>\n",
              "      <td>0.766381</td>\n",
              "      <td>0.412553</td>\n",
              "      <td>-0.663338</td>\n",
              "      <td>0.154626</td>\n",
              "      <td>0.708132</td>\n",
              "      <td>0.214954</td>\n",
              "      <td>-0.829963</td>\n",
              "      <td>...</td>\n",
              "      <td>0.234426</td>\n",
              "      <td>-0.689234</td>\n",
              "      <td>0.751153</td>\n",
              "      <td>0.647424</td>\n",
              "      <td>-0.033631</td>\n",
              "      <td>-0.578617</td>\n",
              "      <td>0.820915</td>\n",
              "      <td>0.370377</td>\n",
              "      <td>-0.528718</td>\n",
              "      <td>-0.536308</td>\n",
              "      <td>-0.088349</td>\n",
              "      <td>0.944439</td>\n",
              "      <td>-0.887679</td>\n",
              "      <td>-0.617358</td>\n",
              "      <td>0.254590</td>\n",
              "      <td>0.084341</td>\n",
              "      <td>0.286366</td>\n",
              "      <td>0.360714</td>\n",
              "      <td>0.369629</td>\n",
              "      <td>-0.452543</td>\n",
              "      <td>-0.292962</td>\n",
              "      <td>-0.530023</td>\n",
              "      <td>-0.237123</td>\n",
              "      <td>0.233008</td>\n",
              "      <td>0.002609</td>\n",
              "      <td>-0.835145</td>\n",
              "      <td>0.494137</td>\n",
              "      <td>0.029535</td>\n",
              "      <td>-0.619638</td>\n",
              "      <td>0.813445</td>\n",
              "      <td>0.238286</td>\n",
              "      <td>0.809268</td>\n",
              "      <td>0.427521</td>\n",
              "      <td>-0.615932</td>\n",
              "      <td>-0.503697</td>\n",
              "      <td>0.614450</td>\n",
              "      <td>-0.917760</td>\n",
              "      <td>-0.424061</td>\n",
              "      <td>0.185484</td>\n",
              "      <td>-0.580292</td>\n",
              "    </tr>\n",
              "  </tbody>\n",
              "</table>\n",
              "<p>5 rows × 251 columns</p>\n",
              "</div>\n",
              "      <button class=\"colab-df-convert\" onclick=\"convertToInteractive('df-220cf285-6101-463f-9def-9eeef78b2907')\"\n",
              "              title=\"Convert this dataframe to an interactive table.\"\n",
              "              style=\"display:none;\">\n",
              "        \n",
              "  <svg xmlns=\"http://www.w3.org/2000/svg\" height=\"24px\"viewBox=\"0 0 24 24\"\n",
              "       width=\"24px\">\n",
              "    <path d=\"M0 0h24v24H0V0z\" fill=\"none\"/>\n",
              "    <path d=\"M18.56 5.44l.94 2.06.94-2.06 2.06-.94-2.06-.94-.94-2.06-.94 2.06-2.06.94zm-11 1L8.5 8.5l.94-2.06 2.06-.94-2.06-.94L8.5 2.5l-.94 2.06-2.06.94zm10 10l.94 2.06.94-2.06 2.06-.94-2.06-.94-.94-2.06-.94 2.06-2.06.94z\"/><path d=\"M17.41 7.96l-1.37-1.37c-.4-.4-.92-.59-1.43-.59-.52 0-1.04.2-1.43.59L10.3 9.45l-7.72 7.72c-.78.78-.78 2.05 0 2.83L4 21.41c.39.39.9.59 1.41.59.51 0 1.02-.2 1.41-.59l7.78-7.78 2.81-2.81c.8-.78.8-2.07 0-2.86zM5.41 20L4 18.59l7.72-7.72 1.47 1.35L5.41 20z\"/>\n",
              "  </svg>\n",
              "      </button>\n",
              "      \n",
              "  <style>\n",
              "    .colab-df-container {\n",
              "      display:flex;\n",
              "      flex-wrap:wrap;\n",
              "      gap: 12px;\n",
              "    }\n",
              "\n",
              "    .colab-df-convert {\n",
              "      background-color: #E8F0FE;\n",
              "      border: none;\n",
              "      border-radius: 50%;\n",
              "      cursor: pointer;\n",
              "      display: none;\n",
              "      fill: #1967D2;\n",
              "      height: 32px;\n",
              "      padding: 0 0 0 0;\n",
              "      width: 32px;\n",
              "    }\n",
              "\n",
              "    .colab-df-convert:hover {\n",
              "      background-color: #E2EBFA;\n",
              "      box-shadow: 0px 1px 2px rgba(60, 64, 67, 0.3), 0px 1px 3px 1px rgba(60, 64, 67, 0.15);\n",
              "      fill: #174EA6;\n",
              "    }\n",
              "\n",
              "    [theme=dark] .colab-df-convert {\n",
              "      background-color: #3B4455;\n",
              "      fill: #D2E3FC;\n",
              "    }\n",
              "\n",
              "    [theme=dark] .colab-df-convert:hover {\n",
              "      background-color: #434B5C;\n",
              "      box-shadow: 0px 1px 3px 1px rgba(0, 0, 0, 0.15);\n",
              "      filter: drop-shadow(0px 1px 2px rgba(0, 0, 0, 0.3));\n",
              "      fill: #FFFFFF;\n",
              "    }\n",
              "  </style>\n",
              "\n",
              "      <script>\n",
              "        const buttonEl =\n",
              "          document.querySelector('#df-220cf285-6101-463f-9def-9eeef78b2907 button.colab-df-convert');\n",
              "        buttonEl.style.display =\n",
              "          google.colab.kernel.accessAllowed ? 'block' : 'none';\n",
              "\n",
              "        async function convertToInteractive(key) {\n",
              "          const element = document.querySelector('#df-220cf285-6101-463f-9def-9eeef78b2907');\n",
              "          const dataTable =\n",
              "            await google.colab.kernel.invokeFunction('convertToInteractive',\n",
              "                                                     [key], {});\n",
              "          if (!dataTable) return;\n",
              "\n",
              "          const docLinkHtml = 'Like what you see? Visit the ' +\n",
              "            '<a target=\"_blank\" href=https://colab.research.google.com/notebooks/data_table.ipynb>data table notebook</a>'\n",
              "            + ' to learn more about interactive tables.';\n",
              "          element.innerHTML = '';\n",
              "          dataTable['output_type'] = 'display_data';\n",
              "          await google.colab.output.renderOutput(dataTable, element);\n",
              "          const docLink = document.createElement('div');\n",
              "          docLink.innerHTML = docLinkHtml;\n",
              "          element.appendChild(docLink);\n",
              "        }\n",
              "      </script>\n",
              "    </div>\n",
              "  </div>\n",
              "  "
            ],
            "text/plain": [
              "   article_id     emb_0     emb_1  ...   emb_247   emb_248   emb_249\n",
              "0           0 -0.161183 -0.957233  ... -0.231686  0.597416  0.409623\n",
              "1           1 -0.523216 -0.974058  ...  0.182828  0.397090 -0.834364\n",
              "2           2 -0.619619 -0.972960  ... -0.447580  0.805932 -0.285284\n",
              "3           3 -0.740843 -0.975749  ... -0.537838  0.243541 -0.885329\n",
              "4           4 -0.279052 -0.972315  ... -0.424061  0.185484 -0.580292\n",
              "\n",
              "[5 rows x 251 columns]"
            ]
          },
          "metadata": {},
          "execution_count": 25
        }
      ]
    },
    {
      "cell_type": "code",
      "source": [
        "item_emb_df.shape"
      ],
      "metadata": {
        "colab": {
          "base_uri": "https://localhost:8080/"
        },
        "id": "M9UtPVqKw85s",
        "outputId": "f47b6ee8-612d-4a6e-ced7-aea4fbe69088"
      },
      "execution_count": 26,
      "outputs": [
        {
          "output_type": "execute_result",
          "data": {
            "text/plain": [
              "(364047, 251)"
            ]
          },
          "metadata": {},
          "execution_count": 26
        }
      ]
    },
    {
      "cell_type": "markdown",
      "source": [
        "#数据分析\n",
        "用户重复点击"
      ],
      "metadata": {
        "id": "yputUxsHxF6B"
      }
    },
    {
      "cell_type": "code",
      "source": [
        "#merge\n",
        "user_click_merge = trn_click.append(tst_click)"
      ],
      "metadata": {
        "id": "G9R_tYYVxC2y"
      },
      "execution_count": 27,
      "outputs": []
    },
    {
      "cell_type": "code",
      "source": [
        "#用户重复点击\n",
        "user_click_count = user_click_merge.groupby(['user_id','click_article_id'])['click_timestamp'].agg({'count'}).reset_index()\n",
        "user_click_count[:10]"
      ],
      "metadata": {
        "colab": {
          "base_uri": "https://localhost:8080/",
          "height": 363
        },
        "id": "Jd3BSx54xdg7",
        "outputId": "35a4c54b-0a4f-4ee6-e6f3-442925c323a4"
      },
      "execution_count": 31,
      "outputs": [
        {
          "output_type": "execute_result",
          "data": {
            "text/html": [
              "\n",
              "  <div id=\"df-2ac8fff0-c242-4b4e-b8fa-8adde8965907\">\n",
              "    <div class=\"colab-df-container\">\n",
              "      <div>\n",
              "<style scoped>\n",
              "    .dataframe tbody tr th:only-of-type {\n",
              "        vertical-align: middle;\n",
              "    }\n",
              "\n",
              "    .dataframe tbody tr th {\n",
              "        vertical-align: top;\n",
              "    }\n",
              "\n",
              "    .dataframe thead th {\n",
              "        text-align: right;\n",
              "    }\n",
              "</style>\n",
              "<table border=\"1\" class=\"dataframe\">\n",
              "  <thead>\n",
              "    <tr style=\"text-align: right;\">\n",
              "      <th></th>\n",
              "      <th>user_id</th>\n",
              "      <th>click_article_id</th>\n",
              "      <th>count</th>\n",
              "    </tr>\n",
              "  </thead>\n",
              "  <tbody>\n",
              "    <tr>\n",
              "      <th>0</th>\n",
              "      <td>0</td>\n",
              "      <td>30760</td>\n",
              "      <td>1</td>\n",
              "    </tr>\n",
              "    <tr>\n",
              "      <th>1</th>\n",
              "      <td>0</td>\n",
              "      <td>157507</td>\n",
              "      <td>1</td>\n",
              "    </tr>\n",
              "    <tr>\n",
              "      <th>2</th>\n",
              "      <td>1</td>\n",
              "      <td>63746</td>\n",
              "      <td>1</td>\n",
              "    </tr>\n",
              "    <tr>\n",
              "      <th>3</th>\n",
              "      <td>1</td>\n",
              "      <td>289197</td>\n",
              "      <td>1</td>\n",
              "    </tr>\n",
              "    <tr>\n",
              "      <th>4</th>\n",
              "      <td>2</td>\n",
              "      <td>36162</td>\n",
              "      <td>1</td>\n",
              "    </tr>\n",
              "    <tr>\n",
              "      <th>5</th>\n",
              "      <td>2</td>\n",
              "      <td>168401</td>\n",
              "      <td>1</td>\n",
              "    </tr>\n",
              "    <tr>\n",
              "      <th>6</th>\n",
              "      <td>3</td>\n",
              "      <td>36162</td>\n",
              "      <td>1</td>\n",
              "    </tr>\n",
              "    <tr>\n",
              "      <th>7</th>\n",
              "      <td>3</td>\n",
              "      <td>50644</td>\n",
              "      <td>1</td>\n",
              "    </tr>\n",
              "    <tr>\n",
              "      <th>8</th>\n",
              "      <td>4</td>\n",
              "      <td>39894</td>\n",
              "      <td>1</td>\n",
              "    </tr>\n",
              "    <tr>\n",
              "      <th>9</th>\n",
              "      <td>4</td>\n",
              "      <td>42567</td>\n",
              "      <td>1</td>\n",
              "    </tr>\n",
              "  </tbody>\n",
              "</table>\n",
              "</div>\n",
              "      <button class=\"colab-df-convert\" onclick=\"convertToInteractive('df-2ac8fff0-c242-4b4e-b8fa-8adde8965907')\"\n",
              "              title=\"Convert this dataframe to an interactive table.\"\n",
              "              style=\"display:none;\">\n",
              "        \n",
              "  <svg xmlns=\"http://www.w3.org/2000/svg\" height=\"24px\"viewBox=\"0 0 24 24\"\n",
              "       width=\"24px\">\n",
              "    <path d=\"M0 0h24v24H0V0z\" fill=\"none\"/>\n",
              "    <path d=\"M18.56 5.44l.94 2.06.94-2.06 2.06-.94-2.06-.94-.94-2.06-.94 2.06-2.06.94zm-11 1L8.5 8.5l.94-2.06 2.06-.94-2.06-.94L8.5 2.5l-.94 2.06-2.06.94zm10 10l.94 2.06.94-2.06 2.06-.94-2.06-.94-.94-2.06-.94 2.06-2.06.94z\"/><path d=\"M17.41 7.96l-1.37-1.37c-.4-.4-.92-.59-1.43-.59-.52 0-1.04.2-1.43.59L10.3 9.45l-7.72 7.72c-.78.78-.78 2.05 0 2.83L4 21.41c.39.39.9.59 1.41.59.51 0 1.02-.2 1.41-.59l7.78-7.78 2.81-2.81c.8-.78.8-2.07 0-2.86zM5.41 20L4 18.59l7.72-7.72 1.47 1.35L5.41 20z\"/>\n",
              "  </svg>\n",
              "      </button>\n",
              "      \n",
              "  <style>\n",
              "    .colab-df-container {\n",
              "      display:flex;\n",
              "      flex-wrap:wrap;\n",
              "      gap: 12px;\n",
              "    }\n",
              "\n",
              "    .colab-df-convert {\n",
              "      background-color: #E8F0FE;\n",
              "      border: none;\n",
              "      border-radius: 50%;\n",
              "      cursor: pointer;\n",
              "      display: none;\n",
              "      fill: #1967D2;\n",
              "      height: 32px;\n",
              "      padding: 0 0 0 0;\n",
              "      width: 32px;\n",
              "    }\n",
              "\n",
              "    .colab-df-convert:hover {\n",
              "      background-color: #E2EBFA;\n",
              "      box-shadow: 0px 1px 2px rgba(60, 64, 67, 0.3), 0px 1px 3px 1px rgba(60, 64, 67, 0.15);\n",
              "      fill: #174EA6;\n",
              "    }\n",
              "\n",
              "    [theme=dark] .colab-df-convert {\n",
              "      background-color: #3B4455;\n",
              "      fill: #D2E3FC;\n",
              "    }\n",
              "\n",
              "    [theme=dark] .colab-df-convert:hover {\n",
              "      background-color: #434B5C;\n",
              "      box-shadow: 0px 1px 3px 1px rgba(0, 0, 0, 0.15);\n",
              "      filter: drop-shadow(0px 1px 2px rgba(0, 0, 0, 0.3));\n",
              "      fill: #FFFFFF;\n",
              "    }\n",
              "  </style>\n",
              "\n",
              "      <script>\n",
              "        const buttonEl =\n",
              "          document.querySelector('#df-2ac8fff0-c242-4b4e-b8fa-8adde8965907 button.colab-df-convert');\n",
              "        buttonEl.style.display =\n",
              "          google.colab.kernel.accessAllowed ? 'block' : 'none';\n",
              "\n",
              "        async function convertToInteractive(key) {\n",
              "          const element = document.querySelector('#df-2ac8fff0-c242-4b4e-b8fa-8adde8965907');\n",
              "          const dataTable =\n",
              "            await google.colab.kernel.invokeFunction('convertToInteractive',\n",
              "                                                     [key], {});\n",
              "          if (!dataTable) return;\n",
              "\n",
              "          const docLinkHtml = 'Like what you see? Visit the ' +\n",
              "            '<a target=\"_blank\" href=https://colab.research.google.com/notebooks/data_table.ipynb>data table notebook</a>'\n",
              "            + ' to learn more about interactive tables.';\n",
              "          element.innerHTML = '';\n",
              "          dataTable['output_type'] = 'display_data';\n",
              "          await google.colab.output.renderOutput(dataTable, element);\n",
              "          const docLink = document.createElement('div');\n",
              "          docLink.innerHTML = docLinkHtml;\n",
              "          element.appendChild(docLink);\n",
              "        }\n",
              "      </script>\n",
              "    </div>\n",
              "  </div>\n",
              "  "
            ],
            "text/plain": [
              "   user_id  click_article_id  count\n",
              "0        0             30760      1\n",
              "1        0            157507      1\n",
              "2        1             63746      1\n",
              "3        1            289197      1\n",
              "4        2             36162      1\n",
              "5        2            168401      1\n",
              "6        3             36162      1\n",
              "7        3             50644      1\n",
              "8        4             39894      1\n",
              "9        4             42567      1"
            ]
          },
          "metadata": {},
          "execution_count": 31
        }
      ]
    },
    {
      "cell_type": "code",
      "source": [
        "user_click_count[user_click_count['count'] > 7]"
      ],
      "metadata": {
        "colab": {
          "base_uri": "https://localhost:8080/",
          "height": 206
        },
        "id": "kUW9z1181x3e",
        "outputId": "b49922f0-f645-4563-e65a-e809fec297ac"
      },
      "execution_count": 32,
      "outputs": [
        {
          "output_type": "execute_result",
          "data": {
            "text/html": [
              "\n",
              "  <div id=\"df-fb79fcfa-e0a1-44f9-bd7a-c86750f80e8f\">\n",
              "    <div class=\"colab-df-container\">\n",
              "      <div>\n",
              "<style scoped>\n",
              "    .dataframe tbody tr th:only-of-type {\n",
              "        vertical-align: middle;\n",
              "    }\n",
              "\n",
              "    .dataframe tbody tr th {\n",
              "        vertical-align: top;\n",
              "    }\n",
              "\n",
              "    .dataframe thead th {\n",
              "        text-align: right;\n",
              "    }\n",
              "</style>\n",
              "<table border=\"1\" class=\"dataframe\">\n",
              "  <thead>\n",
              "    <tr style=\"text-align: right;\">\n",
              "      <th></th>\n",
              "      <th>user_id</th>\n",
              "      <th>click_article_id</th>\n",
              "      <th>count</th>\n",
              "    </tr>\n",
              "  </thead>\n",
              "  <tbody>\n",
              "    <tr>\n",
              "      <th>311242</th>\n",
              "      <td>86295</td>\n",
              "      <td>74254</td>\n",
              "      <td>10</td>\n",
              "    </tr>\n",
              "    <tr>\n",
              "      <th>311243</th>\n",
              "      <td>86295</td>\n",
              "      <td>76268</td>\n",
              "      <td>10</td>\n",
              "    </tr>\n",
              "    <tr>\n",
              "      <th>393761</th>\n",
              "      <td>103237</td>\n",
              "      <td>205948</td>\n",
              "      <td>10</td>\n",
              "    </tr>\n",
              "    <tr>\n",
              "      <th>393763</th>\n",
              "      <td>103237</td>\n",
              "      <td>235689</td>\n",
              "      <td>10</td>\n",
              "    </tr>\n",
              "    <tr>\n",
              "      <th>576902</th>\n",
              "      <td>134850</td>\n",
              "      <td>69463</td>\n",
              "      <td>13</td>\n",
              "    </tr>\n",
              "  </tbody>\n",
              "</table>\n",
              "</div>\n",
              "      <button class=\"colab-df-convert\" onclick=\"convertToInteractive('df-fb79fcfa-e0a1-44f9-bd7a-c86750f80e8f')\"\n",
              "              title=\"Convert this dataframe to an interactive table.\"\n",
              "              style=\"display:none;\">\n",
              "        \n",
              "  <svg xmlns=\"http://www.w3.org/2000/svg\" height=\"24px\"viewBox=\"0 0 24 24\"\n",
              "       width=\"24px\">\n",
              "    <path d=\"M0 0h24v24H0V0z\" fill=\"none\"/>\n",
              "    <path d=\"M18.56 5.44l.94 2.06.94-2.06 2.06-.94-2.06-.94-.94-2.06-.94 2.06-2.06.94zm-11 1L8.5 8.5l.94-2.06 2.06-.94-2.06-.94L8.5 2.5l-.94 2.06-2.06.94zm10 10l.94 2.06.94-2.06 2.06-.94-2.06-.94-.94-2.06-.94 2.06-2.06.94z\"/><path d=\"M17.41 7.96l-1.37-1.37c-.4-.4-.92-.59-1.43-.59-.52 0-1.04.2-1.43.59L10.3 9.45l-7.72 7.72c-.78.78-.78 2.05 0 2.83L4 21.41c.39.39.9.59 1.41.59.51 0 1.02-.2 1.41-.59l7.78-7.78 2.81-2.81c.8-.78.8-2.07 0-2.86zM5.41 20L4 18.59l7.72-7.72 1.47 1.35L5.41 20z\"/>\n",
              "  </svg>\n",
              "      </button>\n",
              "      \n",
              "  <style>\n",
              "    .colab-df-container {\n",
              "      display:flex;\n",
              "      flex-wrap:wrap;\n",
              "      gap: 12px;\n",
              "    }\n",
              "\n",
              "    .colab-df-convert {\n",
              "      background-color: #E8F0FE;\n",
              "      border: none;\n",
              "      border-radius: 50%;\n",
              "      cursor: pointer;\n",
              "      display: none;\n",
              "      fill: #1967D2;\n",
              "      height: 32px;\n",
              "      padding: 0 0 0 0;\n",
              "      width: 32px;\n",
              "    }\n",
              "\n",
              "    .colab-df-convert:hover {\n",
              "      background-color: #E2EBFA;\n",
              "      box-shadow: 0px 1px 2px rgba(60, 64, 67, 0.3), 0px 1px 3px 1px rgba(60, 64, 67, 0.15);\n",
              "      fill: #174EA6;\n",
              "    }\n",
              "\n",
              "    [theme=dark] .colab-df-convert {\n",
              "      background-color: #3B4455;\n",
              "      fill: #D2E3FC;\n",
              "    }\n",
              "\n",
              "    [theme=dark] .colab-df-convert:hover {\n",
              "      background-color: #434B5C;\n",
              "      box-shadow: 0px 1px 3px 1px rgba(0, 0, 0, 0.15);\n",
              "      filter: drop-shadow(0px 1px 2px rgba(0, 0, 0, 0.3));\n",
              "      fill: #FFFFFF;\n",
              "    }\n",
              "  </style>\n",
              "\n",
              "      <script>\n",
              "        const buttonEl =\n",
              "          document.querySelector('#df-fb79fcfa-e0a1-44f9-bd7a-c86750f80e8f button.colab-df-convert');\n",
              "        buttonEl.style.display =\n",
              "          google.colab.kernel.accessAllowed ? 'block' : 'none';\n",
              "\n",
              "        async function convertToInteractive(key) {\n",
              "          const element = document.querySelector('#df-fb79fcfa-e0a1-44f9-bd7a-c86750f80e8f');\n",
              "          const dataTable =\n",
              "            await google.colab.kernel.invokeFunction('convertToInteractive',\n",
              "                                                     [key], {});\n",
              "          if (!dataTable) return;\n",
              "\n",
              "          const docLinkHtml = 'Like what you see? Visit the ' +\n",
              "            '<a target=\"_blank\" href=https://colab.research.google.com/notebooks/data_table.ipynb>data table notebook</a>'\n",
              "            + ' to learn more about interactive tables.';\n",
              "          element.innerHTML = '';\n",
              "          dataTable['output_type'] = 'display_data';\n",
              "          await google.colab.output.renderOutput(dataTable, element);\n",
              "          const docLink = document.createElement('div');\n",
              "          docLink.innerHTML = docLinkHtml;\n",
              "          element.appendChild(docLink);\n",
              "        }\n",
              "      </script>\n",
              "    </div>\n",
              "  </div>\n",
              "  "
            ],
            "text/plain": [
              "        user_id  click_article_id  count\n",
              "311242    86295             74254     10\n",
              "311243    86295             76268     10\n",
              "393761   103237            205948     10\n",
              "393763   103237            235689     10\n",
              "576902   134850             69463     13"
            ]
          },
          "metadata": {},
          "execution_count": 32
        }
      ]
    },
    {
      "cell_type": "code",
      "source": [
        "user_click_count['count'].unique()"
      ],
      "metadata": {
        "colab": {
          "base_uri": "https://localhost:8080/"
        },
        "id": "kV7vCjpx2Bf_",
        "outputId": "afc0f93b-d080-4bdc-a3f3-88a217e99d3d"
      },
      "execution_count": 33,
      "outputs": [
        {
          "output_type": "execute_result",
          "data": {
            "text/plain": [
              "array([ 1,  2,  4,  3,  6,  5, 10,  7, 13])"
            ]
          },
          "metadata": {},
          "execution_count": 33
        }
      ]
    },
    {
      "cell_type": "code",
      "source": [
        "#用户点击新闻次数\n",
        "user_click_count.loc[:,'count'].value_counts()"
      ],
      "metadata": {
        "colab": {
          "base_uri": "https://localhost:8080/"
        },
        "id": "yh5RjurB2PIh",
        "outputId": "f9ffc635-8ab4-44a6-eddc-53fee24eedf9"
      },
      "execution_count": 34,
      "outputs": [
        {
          "output_type": "execute_result",
          "data": {
            "text/plain": [
              "1     1605541\n",
              "2       11621\n",
              "3         422\n",
              "4          77\n",
              "5          26\n",
              "6          12\n",
              "10          4\n",
              "7           3\n",
              "13          1\n",
              "Name: count, dtype: int64"
            ]
          },
          "metadata": {},
          "execution_count": 34
        }
      ]
    },
    {
      "cell_type": "markdown",
      "source": [
        "可以看出：有1605541（约占99.2%）的用户未重复阅读过文章，仅有极少数用户重复点击过某篇文章。 这个也可以单独制作成特征\n"
      ],
      "metadata": {
        "id": "MNrjZLHu2dYK"
      }
    },
    {
      "cell_type": "markdown",
      "source": [
        "#用户点击环境变化分析"
      ],
      "metadata": {
        "id": "wN8D4dZH2gfN"
      }
    },
    {
      "cell_type": "code",
      "source": [
        "def plot_envs(df, cols, r, c):\n",
        "    plt.figure()\n",
        "    plt.figure(figsize=(10, 5))\n",
        "    i = 1\n",
        "    for col in cols:\n",
        "        plt.subplot(r, c, i)\n",
        "        i += 1\n",
        "        v = df[col].value_counts().reset_index()\n",
        "        fig = sns.barplot(x=v['index'], y=v[col])\n",
        "        for item in fig.get_xticklabels():\n",
        "            item.set_rotation(90)\n",
        "        plt.title(col)\n",
        "    plt.tight_layout()\n",
        "    plt.show()"
      ],
      "metadata": {
        "id": "ZdA7HerY2cMJ"
      },
      "execution_count": 35,
      "outputs": []
    },
    {
      "cell_type": "code",
      "source": [
        "# 分析用户点击环境变化是否明显，这里随机采样10个用户分析这些用户的点击环境分布\n",
        "sample_user_ids = np.random.choice(tst_click['user_id'].unique(), size=10, replace=False)\n",
        "sample_users = user_click_merge[user_click_merge['user_id'].isin(sample_user_ids)]\n",
        "cols = ['click_environment','click_deviceGroup', 'click_os', 'click_country', 'click_region','click_referrer_type']\n",
        "for _, user_df in sample_users.groupby('user_id'):\n",
        "    plot_envs(user_df, cols, 2, 3)"
      ],
      "metadata": {
        "colab": {
          "base_uri": "https://localhost:8080/",
          "height": 1000
        },
        "id": "R-8rIKnE2lFX",
        "outputId": "cfc1fe46-d894-4fad-f9e1-23fd3b3056e2"
      },
      "execution_count": 36,
      "outputs": [
        {
          "output_type": "display_data",
          "data": {
            "text/plain": [
              "<Figure size 432x288 with 0 Axes>"
            ]
          },
          "metadata": {}
        },
        {
          "output_type": "display_data",
          "data": {
            "image/png": "[encoded data removed]",
            "text/plain": [
              "<Figure size 720x360 with 6 Axes>"
            ]
          },
          "metadata": {
            "needs_background": "light"
          }
        },
        {
          "output_type": "display_data",
          "data": {
            "text/plain": [
              "<Figure size 432x288 with 0 Axes>"
            ]
          },
          "metadata": {}
        },
        {
          "output_type": "display_data",
          "data": {
            "image/png": "[encoded data removed]",
            "text/plain": [
              "<Figure size 720x360 with 6 Axes>"
            ]
          },
          "metadata": {
            "needs_background": "light"
          }
        },
        {
          "output_type": "display_data",
          "data": {
            "text/plain": [
              "<Figure size 432x288 with 0 Axes>"
            ]
          },
          "metadata": {}
        },
        {
          "output_type": "display_data",
          "data": {
            "image/png": "[encoded data removed]",
            "text/plain": [
              "<Figure size 720x360 with 6 Axes>"
            ]
          },
          "metadata": {
            "needs_background": "light"
          }
        },
        {
          "output_type": "display_data",
          "data": {
            "text/plain": [
              "<Figure size 432x288 with 0 Axes>"
            ]
          },
          "metadata": {}
        },
        {
          "output_type": "display_data",
          "data": {
            "image/png": "[encoded data removed]",
            "text/plain": [
              "<Figure size 720x360 with 6 Axes>"
            ]
          },
          "metadata": {
            "needs_background": "light"
          }
        },
        {
          "output_type": "display_data",
          "data": {
            "text/plain": [
              "<Figure size 432x288 with 0 Axes>"
            ]
          },
          "metadata": {}
        },
        {
          "output_type": "display_data",
          "data": {
            "image/png": "[encoded data removed]",
            "text/plain": [
              "<Figure size 720x360 with 6 Axes>"
            ]
          },
          "metadata": {
            "needs_background": "light"
          }
        },
        {
          "output_type": "display_data",
          "data": {
            "text/plain": [
              "<Figure size 432x288 with 0 Axes>"
            ]
          },
          "metadata": {}
        },
        {
          "output_type": "display_data",
          "data": {
            "image/png": "[encoded data removed]",
            "text/plain": [
              "<Figure size 720x360 with 6 Axes>"
            ]
          },
          "metadata": {
            "needs_background": "light"
          }
        },
        {
          "output_type": "display_data",
          "data": {
            "text/plain": [
              "<Figure size 432x288 with 0 Axes>"
            ]
          },
          "metadata": {}
        },
        {
          "output_type": "display_data",
          "data": {
            "image/png": "[encoded data removed]",
            "text/plain": [
              "<Figure size 720x360 with 6 Axes>"
            ]
          },
          "metadata": {
            "needs_background": "light"
          }
        },
        {
          "output_type": "display_data",
          "data": {
            "text/plain": [
              "<Figure size 432x288 with 0 Axes>"
            ]
          },
          "metadata": {}
        },
        {
          "output_type": "display_data",
          "data": {
            "image/png": "[encoded data removed]",
            "text/plain": [
              "<Figure size 720x360 with 6 Axes>"
            ]
          },
          "metadata": {
            "needs_background": "light"
          }
        },
        {
          "output_type": "display_data",
          "data": {
            "text/plain": [
              "<Figure size 432x288 with 0 Axes>"
            ]
          },
          "metadata": {}
        },
        {
          "output_type": "display_data",
          "data": {
            "image/png": "[encoded data removed]",
            "text/plain": [
              "<Figure size 720x360 with 6 Axes>"
            ]
          },
          "metadata": {
            "needs_background": "light"
          }
        },
        {
          "output_type": "display_data",
          "data": {
            "text/plain": [
              "<Figure size 432x288 with 0 Axes>"
            ]
          },
          "metadata": {}
        },
        {
          "output_type": "display_data",
          "data": {
            "image/png": "[encoded data removed]",
            "text/plain": [
              "<Figure size 720x360 with 6 Axes>"
            ]
          },
          "metadata": {
            "needs_background": "light"
          }
        }
      ]
    },
    {
      "cell_type": "markdown",
      "source": [
        "#可以看出绝大多数数的用户的点击环境是比较固定的。思路：可以基于这些环境的统计特征来代表该用户本身的属性\n",
        "\n"
      ],
      "metadata": {
        "id": "8Nt8mro32ugJ"
      }
    },
    {
      "cell_type": "markdown",
      "source": [
        "#用户点击新闻数量的分布\n"
      ],
      "metadata": {
        "id": "T-BUs_z82y4N"
      }
    },
    {
      "cell_type": "code",
      "source": [
        "user_click_item_count = sorted(user_click_merge.groupby('user_id')['click_article_id'].count(),reverse = True)\n",
        "plt.plot(user_click_item_count)"
      ],
      "metadata": {
        "colab": {
          "base_uri": "https://localhost:8080/",
          "height": 286
        },
        "id": "6reqjILQ2xjP",
        "outputId": "f363d6cf-929f-413b-95c5-4246117a7e4b"
      },
      "execution_count": 37,
      "outputs": [
        {
          "output_type": "execute_result",
          "data": {
            "text/plain": [
              "[<matplotlib.lines.Line2D at 0x7f632cbee2d0>]"
            ]
          },
          "metadata": {},
          "execution_count": 37
        },
        {
          "output_type": "display_data",
          "data": {
            "image/png": "[encoded data removed]",
            "text/plain": [
              "<Figure size 432x288 with 1 Axes>"
            ]
          },
          "metadata": {
            "needs_background": "light"
          }
        }
      ]
    },
    {
      "cell_type": "markdown",
      "source": [
        "#可以根据用户的点击文章次数看出用户的活跃度"
      ],
      "metadata": {
        "id": "K7whr7973Wpn"
      }
    },
    {
      "cell_type": "code",
      "source": [
        "#点击次数在前50的用户\n",
        "plt.plot(user_click_item_count[:50])"
      ],
      "metadata": {
        "colab": {
          "base_uri": "https://localhost:8080/",
          "height": 286
        },
        "id": "k8LtNobu3aXZ",
        "outputId": "69fbf824-e267-4cde-9f6e-27d6e14f7ec4"
      },
      "execution_count": 38,
      "outputs": [
        {
          "output_type": "execute_result",
          "data": {
            "text/plain": [
              "[<matplotlib.lines.Line2D at 0x7f632c9e2550>]"
            ]
          },
          "metadata": {},
          "execution_count": 38
        },
        {
          "output_type": "display_data",
          "data": {
            "image/png": "[encoded data removed]",
            "text/plain": [
              "<Figure size 432x288 with 1 Axes>"
            ]
          },
          "metadata": {
            "needs_background": "light"
          }
        }
      ]
    },
    {
      "cell_type": "markdown",
      "source": [
        "点击次数排前50的用户的点击次数都在100次以上。思路：我们可以定义点击次数大于等于100次的用户为活跃用户，这是一种简单的处理思路， 判断用户活跃度，更加全面的是再结合上点击时间，后面我们会基于点击次数和点击时间两个方面来判断用户活跃度。"
      ],
      "metadata": {
        "id": "oyEvO30U3vJI"
      }
    },
    {
      "cell_type": "code",
      "source": [
        "#点击次数排名在【25000：50000】之间\n",
        "plt.plot(user_click_item_count[25000:50000])"
      ],
      "metadata": {
        "colab": {
          "base_uri": "https://localhost:8080/",
          "height": 286
        },
        "id": "9AH1Yx773wDa",
        "outputId": "942981b6-b093-4c7c-f717-74498bd31793"
      },
      "execution_count": 39,
      "outputs": [
        {
          "output_type": "execute_result",
          "data": {
            "text/plain": [
              "[<matplotlib.lines.Line2D at 0x7f632c06bd10>]"
            ]
          },
          "metadata": {},
          "execution_count": 39
        },
        {
          "output_type": "display_data",
          "data": {
            "image/png": "[encoded data removed]",
            "text/plain": [
              "<Figure size 432x288 with 1 Axes>"
            ]
          },
          "metadata": {
            "needs_background": "light"
          }
        }
      ]
    },
    {
      "cell_type": "markdown",
      "source": [
        "#可以看出点击次数小于等于两次的用户非常的多，这些用户可以认为是非活跃用户"
      ],
      "metadata": {
        "id": "l_y8drEp4HEw"
      }
    },
    {
      "cell_type": "markdown",
      "source": [
        "#新闻点击次数分析\n"
      ],
      "metadata": {
        "id": "RsEywn7m4Mgh"
      }
    },
    {
      "cell_type": "code",
      "source": [
        "item_click_count = sorted(user_click_merge.groupby('click_article_id')['user_id'].count(), reverse = True)\n",
        "plt.plot(item_click_count)"
      ],
      "metadata": {
        "colab": {
          "base_uri": "https://localhost:8080/",
          "height": 286
        },
        "id": "pa3Yly_q4JNM",
        "outputId": "05e290b6-9d4d-49fb-fea3-a797e2850679"
      },
      "execution_count": 40,
      "outputs": [
        {
          "output_type": "execute_result",
          "data": {
            "text/plain": [
              "[<matplotlib.lines.Line2D at 0x7f632bfd9050>]"
            ]
          },
          "metadata": {},
          "execution_count": 40
        },
        {
          "output_type": "display_data",
          "data": {
            "image/png": "[encoded data removed]",
            "text/plain": [
              "<Figure size 432x288 with 1 Axes>"
            ]
          },
          "metadata": {
            "needs_background": "light"
          }
        }
      ]
    },
    {
      "cell_type": "code",
      "source": [
        "plt.plot(item_click_count[:100])"
      ],
      "metadata": {
        "colab": {
          "base_uri": "https://localhost:8080/",
          "height": 286
        },
        "id": "mh9cR3zY403D",
        "outputId": "202019f7-8f2b-4adc-bff7-6475eef673da"
      },
      "execution_count": 41,
      "outputs": [
        {
          "output_type": "execute_result",
          "data": {
            "text/plain": [
              "[<matplotlib.lines.Line2D at 0x7f632bf6fbd0>]"
            ]
          },
          "metadata": {},
          "execution_count": 41
        },
        {
          "output_type": "display_data",
          "data": {
            "image/png": "[encoded data removed]",
            "text/plain": [
              "<Figure size 432x288 with 1 Axes>"
            ]
          },
          "metadata": {
            "needs_background": "light"
          }
        }
      ]
    },
    {
      "cell_type": "markdown",
      "source": [
        "#可以看出点击次数最多的前100篇新闻，点击次数大于1000次\n",
        "\n"
      ],
      "metadata": {
        "id": "0AfpfCGK438d"
      }
    },
    {
      "cell_type": "code",
      "source": [
        "plt.plot(item_click_count[:20])"
      ],
      "metadata": {
        "colab": {
          "base_uri": "https://localhost:8080/",
          "height": 286
        },
        "id": "eKuDgWBW46dM",
        "outputId": "3d51a7fc-d0d0-4ebc-b9bd-c49adcda271c"
      },
      "execution_count": 42,
      "outputs": [
        {
          "output_type": "execute_result",
          "data": {
            "text/plain": [
              "[<matplotlib.lines.Line2D at 0x7f632beb81d0>]"
            ]
          },
          "metadata": {},
          "execution_count": 42
        },
        {
          "output_type": "display_data",
          "data": {
            "image/png": "[encoded data removed]",
            "text/plain": [
              "<Figure size 432x288 with 1 Axes>"
            ]
          },
          "metadata": {
            "needs_background": "light"
          }
        }
      ]
    },
    {
      "cell_type": "markdown",
      "source": [
        "点击次数最多的前20篇新闻，点击次数大于2500。思路：可以定义这些新闻为热门新闻， 这个也是简单的处理方式，后面我们也是根据点击次数和时间进行文章热度的一个划分。\n",
        "\n"
      ],
      "metadata": {
        "id": "CSJBR7xU4_2M"
      }
    },
    {
      "cell_type": "code",
      "source": [
        "plt.plot(item_click_count[3500:])"
      ],
      "metadata": {
        "colab": {
          "base_uri": "https://localhost:8080/",
          "height": 286
        },
        "id": "SRvvCQqe5A2M",
        "outputId": "4dd9ec58-1067-4f21-e3dc-0ebd49c1e0c3"
      },
      "execution_count": 43,
      "outputs": [
        {
          "output_type": "execute_result",
          "data": {
            "text/plain": [
              "[<matplotlib.lines.Line2D at 0x7f632be9bc10>]"
            ]
          },
          "metadata": {},
          "execution_count": 43
        },
        {
          "output_type": "display_data",
          "data": {
            "image/png": "[encoded data removed]",
            "text/plain": [
              "<Figure size 432x288 with 1 Axes>"
            ]
          },
          "metadata": {
            "needs_background": "light"
          }
        }
      ]
    },
    {
      "cell_type": "markdown",
      "source": [
        "可以发现很多新闻只被点击过一两次。思路：可以定义这些新闻是冷门新闻\n",
        "\n"
      ],
      "metadata": {
        "id": "AZYcTRXU5Ef0"
      }
    },
    {
      "cell_type": "markdown",
      "source": [
        "#新闻共现频次：两篇新闻连续出现的次数\n"
      ],
      "metadata": {
        "id": "zi5zMXON5Gfa"
      }
    },
    {
      "cell_type": "code",
      "source": [
        "tmp = user_click_merge.sort_values('click_timestamp')\n",
        "tmp['next_item'] = tmp.groupby(['user_id'])['click_article_id'].transform(lambda x:x.shift(-1))\n",
        "union_item = tmp.groupby(['click_article_id','next_item'])['click_timestamp'].agg({'count'}).reset_index().sort_values('count', ascending=False)\n",
        "union_item[['count']].describe()"
      ],
      "metadata": {
        "colab": {
          "base_uri": "https://localhost:8080/",
          "height": 300
        },
        "id": "7FjVcQEA5FKH",
        "outputId": "e9d5ae86-2879-4f89-af33-d2ee1a03bc1a"
      },
      "execution_count": 44,
      "outputs": [
        {
          "output_type": "execute_result",
          "data": {
            "text/html": [
              "\n",
              "  <div id=\"df-931d0644-309f-46e5-accf-39221f908b51\">\n",
              "    <div class=\"colab-df-container\">\n",
              "      <div>\n",
              "<style scoped>\n",
              "    .dataframe tbody tr th:only-of-type {\n",
              "        vertical-align: middle;\n",
              "    }\n",
              "\n",
              "    .dataframe tbody tr th {\n",
              "        vertical-align: top;\n",
              "    }\n",
              "\n",
              "    .dataframe thead th {\n",
              "        text-align: right;\n",
              "    }\n",
              "</style>\n",
              "<table border=\"1\" class=\"dataframe\">\n",
              "  <thead>\n",
              "    <tr style=\"text-align: right;\">\n",
              "      <th></th>\n",
              "      <th>count</th>\n",
              "    </tr>\n",
              "  </thead>\n",
              "  <tbody>\n",
              "    <tr>\n",
              "      <th>count</th>\n",
              "      <td>433597.000000</td>\n",
              "    </tr>\n",
              "    <tr>\n",
              "      <th>mean</th>\n",
              "      <td>3.184139</td>\n",
              "    </tr>\n",
              "    <tr>\n",
              "      <th>std</th>\n",
              "      <td>18.851753</td>\n",
              "    </tr>\n",
              "    <tr>\n",
              "      <th>min</th>\n",
              "      <td>1.000000</td>\n",
              "    </tr>\n",
              "    <tr>\n",
              "      <th>25%</th>\n",
              "      <td>1.000000</td>\n",
              "    </tr>\n",
              "    <tr>\n",
              "      <th>50%</th>\n",
              "      <td>1.000000</td>\n",
              "    </tr>\n",
              "    <tr>\n",
              "      <th>75%</th>\n",
              "      <td>2.000000</td>\n",
              "    </tr>\n",
              "    <tr>\n",
              "      <th>max</th>\n",
              "      <td>2202.000000</td>\n",
              "    </tr>\n",
              "  </tbody>\n",
              "</table>\n",
              "</div>\n",
              "      <button class=\"colab-df-convert\" onclick=\"convertToInteractive('df-931d0644-309f-46e5-accf-39221f908b51')\"\n",
              "              title=\"Convert this dataframe to an interactive table.\"\n",
              "              style=\"display:none;\">\n",
              "        \n",
              "  <svg xmlns=\"http://www.w3.org/2000/svg\" height=\"24px\"viewBox=\"0 0 24 24\"\n",
              "       width=\"24px\">\n",
              "    <path d=\"M0 0h24v24H0V0z\" fill=\"none\"/>\n",
              "    <path d=\"M18.56 5.44l.94 2.06.94-2.06 2.06-.94-2.06-.94-.94-2.06-.94 2.06-2.06.94zm-11 1L8.5 8.5l.94-2.06 2.06-.94-2.06-.94L8.5 2.5l-.94 2.06-2.06.94zm10 10l.94 2.06.94-2.06 2.06-.94-2.06-.94-.94-2.06-.94 2.06-2.06.94z\"/><path d=\"M17.41 7.96l-1.37-1.37c-.4-.4-.92-.59-1.43-.59-.52 0-1.04.2-1.43.59L10.3 9.45l-7.72 7.72c-.78.78-.78 2.05 0 2.83L4 21.41c.39.39.9.59 1.41.59.51 0 1.02-.2 1.41-.59l7.78-7.78 2.81-2.81c.8-.78.8-2.07 0-2.86zM5.41 20L4 18.59l7.72-7.72 1.47 1.35L5.41 20z\"/>\n",
              "  </svg>\n",
              "      </button>\n",
              "      \n",
              "  <style>\n",
              "    .colab-df-container {\n",
              "      display:flex;\n",
              "      flex-wrap:wrap;\n",
              "      gap: 12px;\n",
              "    }\n",
              "\n",
              "    .colab-df-convert {\n",
              "      background-color: #E8F0FE;\n",
              "      border: none;\n",
              "      border-radius: 50%;\n",
              "      cursor: pointer;\n",
              "      display: none;\n",
              "      fill: #1967D2;\n",
              "      height: 32px;\n",
              "      padding: 0 0 0 0;\n",
              "      width: 32px;\n",
              "    }\n",
              "\n",
              "    .colab-df-convert:hover {\n",
              "      background-color: #E2EBFA;\n",
              "      box-shadow: 0px 1px 2px rgba(60, 64, 67, 0.3), 0px 1px 3px 1px rgba(60, 64, 67, 0.15);\n",
              "      fill: #174EA6;\n",
              "    }\n",
              "\n",
              "    [theme=dark] .colab-df-convert {\n",
              "      background-color: #3B4455;\n",
              "      fill: #D2E3FC;\n",
              "    }\n",
              "\n",
              "    [theme=dark] .colab-df-convert:hover {\n",
              "      background-color: #434B5C;\n",
              "      box-shadow: 0px 1px 3px 1px rgba(0, 0, 0, 0.15);\n",
              "      filter: drop-shadow(0px 1px 2px rgba(0, 0, 0, 0.3));\n",
              "      fill: #FFFFFF;\n",
              "    }\n",
              "  </style>\n",
              "\n",
              "      <script>\n",
              "        const buttonEl =\n",
              "          document.querySelector('#df-931d0644-309f-46e5-accf-39221f908b51 button.colab-df-convert');\n",
              "        buttonEl.style.display =\n",
              "          google.colab.kernel.accessAllowed ? 'block' : 'none';\n",
              "\n",
              "        async function convertToInteractive(key) {\n",
              "          const element = document.querySelector('#df-931d0644-309f-46e5-accf-39221f908b51');\n",
              "          const dataTable =\n",
              "            await google.colab.kernel.invokeFunction('convertToInteractive',\n",
              "                                                     [key], {});\n",
              "          if (!dataTable) return;\n",
              "\n",
              "          const docLinkHtml = 'Like what you see? Visit the ' +\n",
              "            '<a target=\"_blank\" href=https://colab.research.google.com/notebooks/data_table.ipynb>data table notebook</a>'\n",
              "            + ' to learn more about interactive tables.';\n",
              "          element.innerHTML = '';\n",
              "          dataTable['output_type'] = 'display_data';\n",
              "          await google.colab.output.renderOutput(dataTable, element);\n",
              "          const docLink = document.createElement('div');\n",
              "          docLink.innerHTML = docLinkHtml;\n",
              "          element.appendChild(docLink);\n",
              "        }\n",
              "      </script>\n",
              "    </div>\n",
              "  </div>\n",
              "  "
            ],
            "text/plain": [
              "               count\n",
              "count  433597.000000\n",
              "mean        3.184139\n",
              "std        18.851753\n",
              "min         1.000000\n",
              "25%         1.000000\n",
              "50%         1.000000\n",
              "75%         2.000000\n",
              "max      2202.000000"
            ]
          },
          "metadata": {},
          "execution_count": 44
        }
      ]
    },
    {
      "cell_type": "markdown",
      "source": [
        "由统计数据可以看出，平均共现次数3.18，最高为2202。\n",
        "\n",
        "说明用户看的新闻，相关性是比较强的。"
      ],
      "metadata": {
        "id": "QN4yKmSf5a4t"
      }
    },
    {
      "cell_type": "code",
      "source": [
        "#画个图直观地看一看\n",
        "x = union_item['click_article_id']\n",
        "y = union_item['count']\n",
        "plt.scatter(x, y)"
      ],
      "metadata": {
        "colab": {
          "base_uri": "https://localhost:8080/",
          "height": 286
        },
        "id": "iGcW6wSx5bqD",
        "outputId": "ce620b39-a11e-4a15-be32-61aa1d1c0c4f"
      },
      "execution_count": 45,
      "outputs": [
        {
          "output_type": "execute_result",
          "data": {
            "text/plain": [
              "<matplotlib.collections.PathCollection at 0x7f632bfdd590>"
            ]
          },
          "metadata": {},
          "execution_count": 45
        },
        {
          "output_type": "display_data",
          "data": {
            "image/png": "[encoded data removed]",
            "text/plain": [
              "<Figure size 432x288 with 1 Axes>"
            ]
          },
          "metadata": {
            "needs_background": "light"
          }
        }
      ]
    },
    {
      "cell_type": "code",
      "source": [
        "plt.plot(union_item['count'].values[40000:])\n",
        "#大概有75000个pair至少共现一次"
      ],
      "metadata": {
        "colab": {
          "base_uri": "https://localhost:8080/",
          "height": 286
        },
        "id": "_YBR97Yj5fkN",
        "outputId": "96c7ef4a-1b52-401c-f90e-a5e3e97b76ca"
      },
      "execution_count": 46,
      "outputs": [
        {
          "output_type": "execute_result",
          "data": {
            "text/plain": [
              "[<matplotlib.lines.Line2D at 0x7f632cae5d50>]"
            ]
          },
          "metadata": {},
          "execution_count": 46
        },
        {
          "output_type": "display_data",
          "data": {
            "image/png": "[encoded data removed]",
            "text/plain": [
              "<Figure size 432x288 with 1 Axes>"
            ]
          },
          "metadata": {
            "needs_background": "light"
          }
        }
      ]
    },
    {
      "cell_type": "markdown",
      "source": [
        "#新闻文章信息\n"
      ],
      "metadata": {
        "id": "6dMnov7Q5lxx"
      }
    },
    {
      "cell_type": "code",
      "source": [
        "#不同类型的新闻出现的次数\n",
        "plt.plot(user_click_merge['category_id'].value_counts().values)"
      ],
      "metadata": {
        "colab": {
          "base_uri": "https://localhost:8080/",
          "height": 286
        },
        "id": "8dyH7Mac5faW",
        "outputId": "0817b418-bdeb-4fbe-e72c-ecd21b840ece"
      },
      "execution_count": 47,
      "outputs": [
        {
          "output_type": "execute_result",
          "data": {
            "text/plain": [
              "[<matplotlib.lines.Line2D at 0x7f632c508750>]"
            ]
          },
          "metadata": {},
          "execution_count": 47
        },
        {
          "output_type": "display_data",
          "data": {
            "image/png": "[encoded data removed]",
            "text/plain": [
              "<Figure size 432x288 with 1 Axes>"
            ]
          },
          "metadata": {
            "needs_background": "light"
          }
        }
      ]
    },
    {
      "cell_type": "code",
      "source": [
        "#出现次数比较少的新闻类型, 有些新闻类型，基本上就出现过几次\n",
        "plt.plot(user_click_merge['category_id'].value_counts().values[150:])"
      ],
      "metadata": {
        "colab": {
          "base_uri": "https://localhost:8080/",
          "height": 286
        },
        "id": "Uv8KXn-f5rYI",
        "outputId": "53aa368c-5960-4881-8596-8627b3a0c324"
      },
      "execution_count": 48,
      "outputs": [
        {
          "output_type": "execute_result",
          "data": {
            "text/plain": [
              "[<matplotlib.lines.Line2D at 0x7f632cc3df10>]"
            ]
          },
          "metadata": {},
          "execution_count": 48
        },
        {
          "output_type": "display_data",
          "data": {
            "image/png": "[encoded data removed]",
            "text/plain": [
              "<Figure size 432x288 with 1 Axes>"
            ]
          },
          "metadata": {
            "needs_background": "light"
          }
        }
      ]
    },
    {
      "cell_type": "code",
      "source": [
        "#新闻字数的描述性统计\n",
        "user_click_merge['words_count'].describe()"
      ],
      "metadata": {
        "colab": {
          "base_uri": "https://localhost:8080/"
        },
        "id": "imfBwEHP5wil",
        "outputId": "686e6e08-42ae-4db4-b644-210ee8f98ea7"
      },
      "execution_count": 49,
      "outputs": [
        {
          "output_type": "execute_result",
          "data": {
            "text/plain": [
              "count    1.630633e+06\n",
              "mean     2.043012e+02\n",
              "std      6.382198e+01\n",
              "min      0.000000e+00\n",
              "25%      1.720000e+02\n",
              "50%      1.970000e+02\n",
              "75%      2.290000e+02\n",
              "max      6.690000e+03\n",
              "Name: words_count, dtype: float64"
            ]
          },
          "metadata": {},
          "execution_count": 49
        }
      ]
    },
    {
      "cell_type": "code",
      "source": [
        "plt.plot(user_click_merge['words_count'].values)"
      ],
      "metadata": {
        "colab": {
          "base_uri": "https://localhost:8080/",
          "height": 307
        },
        "id": "Ihq9n-2a51H_",
        "outputId": "a7245965-d013-4402-a733-ca7d2789cc3f"
      },
      "execution_count": 50,
      "outputs": [
        {
          "output_type": "execute_result",
          "data": {
            "text/plain": [
              "[<matplotlib.lines.Line2D at 0x7f632c667410>]"
            ]
          },
          "metadata": {},
          "execution_count": 50
        },
        {
          "output_type": "display_data",
          "data": {
            "image/png": "[encoded data removed]",
            "text/plain": [
              "<Figure size 432x288 with 1 Axes>"
            ]
          },
          "metadata": {
            "needs_background": "light"
          }
        }
      ]
    },
    {
      "cell_type": "markdown",
      "source": [
        "#用户点击的新闻类型的偏好\n",
        "此特征可以用于度量用户的兴趣是否广泛"
      ],
      "metadata": {
        "id": "qjP-SGAX54ak"
      }
    },
    {
      "cell_type": "code",
      "source": [
        "plt.plot(sorted(user_click_merge.groupby('user_id')['category_id'].nunique(), reverse=True))"
      ],
      "metadata": {
        "colab": {
          "base_uri": "https://localhost:8080/",
          "height": 286
        },
        "id": "1fgg-n1o56Ye",
        "outputId": "bca88a8f-ea70-439c-a696-c8312403968f"
      },
      "execution_count": 51,
      "outputs": [
        {
          "output_type": "execute_result",
          "data": {
            "text/plain": [
              "[<matplotlib.lines.Line2D at 0x7f632c482a90>]"
            ]
          },
          "metadata": {},
          "execution_count": 51
        },
        {
          "output_type": "display_data",
          "data": {
            "image/png": "[encoded data removed]",
            "text/plain": [
              "<Figure size 432x288 with 1 Axes>"
            ]
          },
          "metadata": {
            "needs_background": "light"
          }
        }
      ]
    },
    {
      "cell_type": "code",
      "source": [
        "#从上图中可以看出有一小部分用户阅读类型是极其广泛的，大部分人都处在20个新闻类型以下。\n",
        "user_click_merge.groupby('user_id')['category_id'].nunique().reset_index().describe()"
      ],
      "metadata": {
        "colab": {
          "base_uri": "https://localhost:8080/",
          "height": 300
        },
        "id": "xe4zv6sk59rO",
        "outputId": "43943b62-c951-4f6c-8dad-d55032b56dad"
      },
      "execution_count": 52,
      "outputs": [
        {
          "output_type": "execute_result",
          "data": {
            "text/html": [
              "\n",
              "  <div id=\"df-2a1e7d6e-b850-4af5-a4ae-91385667303c\">\n",
              "    <div class=\"colab-df-container\">\n",
              "      <div>\n",
              "<style scoped>\n",
              "    .dataframe tbody tr th:only-of-type {\n",
              "        vertical-align: middle;\n",
              "    }\n",
              "\n",
              "    .dataframe tbody tr th {\n",
              "        vertical-align: top;\n",
              "    }\n",
              "\n",
              "    .dataframe thead th {\n",
              "        text-align: right;\n",
              "    }\n",
              "</style>\n",
              "<table border=\"1\" class=\"dataframe\">\n",
              "  <thead>\n",
              "    <tr style=\"text-align: right;\">\n",
              "      <th></th>\n",
              "      <th>user_id</th>\n",
              "      <th>category_id</th>\n",
              "    </tr>\n",
              "  </thead>\n",
              "  <tbody>\n",
              "    <tr>\n",
              "      <th>count</th>\n",
              "      <td>250000.000000</td>\n",
              "      <td>250000.000000</td>\n",
              "    </tr>\n",
              "    <tr>\n",
              "      <th>mean</th>\n",
              "      <td>124999.500000</td>\n",
              "      <td>4.573188</td>\n",
              "    </tr>\n",
              "    <tr>\n",
              "      <th>std</th>\n",
              "      <td>72168.927986</td>\n",
              "      <td>4.419800</td>\n",
              "    </tr>\n",
              "    <tr>\n",
              "      <th>min</th>\n",
              "      <td>0.000000</td>\n",
              "      <td>1.000000</td>\n",
              "    </tr>\n",
              "    <tr>\n",
              "      <th>25%</th>\n",
              "      <td>62499.750000</td>\n",
              "      <td>2.000000</td>\n",
              "    </tr>\n",
              "    <tr>\n",
              "      <th>50%</th>\n",
              "      <td>124999.500000</td>\n",
              "      <td>3.000000</td>\n",
              "    </tr>\n",
              "    <tr>\n",
              "      <th>75%</th>\n",
              "      <td>187499.250000</td>\n",
              "      <td>6.000000</td>\n",
              "    </tr>\n",
              "    <tr>\n",
              "      <th>max</th>\n",
              "      <td>249999.000000</td>\n",
              "      <td>95.000000</td>\n",
              "    </tr>\n",
              "  </tbody>\n",
              "</table>\n",
              "</div>\n",
              "      <button class=\"colab-df-convert\" onclick=\"convertToInteractive('df-2a1e7d6e-b850-4af5-a4ae-91385667303c')\"\n",
              "              title=\"Convert this dataframe to an interactive table.\"\n",
              "              style=\"display:none;\">\n",
              "        \n",
              "  <svg xmlns=\"http://www.w3.org/2000/svg\" height=\"24px\"viewBox=\"0 0 24 24\"\n",
              "       width=\"24px\">\n",
              "    <path d=\"M0 0h24v24H0V0z\" fill=\"none\"/>\n",
              "    <path d=\"M18.56 5.44l.94 2.06.94-2.06 2.06-.94-2.06-.94-.94-2.06-.94 2.06-2.06.94zm-11 1L8.5 8.5l.94-2.06 2.06-.94-2.06-.94L8.5 2.5l-.94 2.06-2.06.94zm10 10l.94 2.06.94-2.06 2.06-.94-2.06-.94-.94-2.06-.94 2.06-2.06.94z\"/><path d=\"M17.41 7.96l-1.37-1.37c-.4-.4-.92-.59-1.43-.59-.52 0-1.04.2-1.43.59L10.3 9.45l-7.72 7.72c-.78.78-.78 2.05 0 2.83L4 21.41c.39.39.9.59 1.41.59.51 0 1.02-.2 1.41-.59l7.78-7.78 2.81-2.81c.8-.78.8-2.07 0-2.86zM5.41 20L4 18.59l7.72-7.72 1.47 1.35L5.41 20z\"/>\n",
              "  </svg>\n",
              "      </button>\n",
              "      \n",
              "  <style>\n",
              "    .colab-df-container {\n",
              "      display:flex;\n",
              "      flex-wrap:wrap;\n",
              "      gap: 12px;\n",
              "    }\n",
              "\n",
              "    .colab-df-convert {\n",
              "      background-color: #E8F0FE;\n",
              "      border: none;\n",
              "      border-radius: 50%;\n",
              "      cursor: pointer;\n",
              "      display: none;\n",
              "      fill: #1967D2;\n",
              "      height: 32px;\n",
              "      padding: 0 0 0 0;\n",
              "      width: 32px;\n",
              "    }\n",
              "\n",
              "    .colab-df-convert:hover {\n",
              "      background-color: #E2EBFA;\n",
              "      box-shadow: 0px 1px 2px rgba(60, 64, 67, 0.3), 0px 1px 3px 1px rgba(60, 64, 67, 0.15);\n",
              "      fill: #174EA6;\n",
              "    }\n",
              "\n",
              "    [theme=dark] .colab-df-convert {\n",
              "      background-color: #3B4455;\n",
              "      fill: #D2E3FC;\n",
              "    }\n",
              "\n",
              "    [theme=dark] .colab-df-convert:hover {\n",
              "      background-color: #434B5C;\n",
              "      box-shadow: 0px 1px 3px 1px rgba(0, 0, 0, 0.15);\n",
              "      filter: drop-shadow(0px 1px 2px rgba(0, 0, 0, 0.3));\n",
              "      fill: #FFFFFF;\n",
              "    }\n",
              "  </style>\n",
              "\n",
              "      <script>\n",
              "        const buttonEl =\n",
              "          document.querySelector('#df-2a1e7d6e-b850-4af5-a4ae-91385667303c button.colab-df-convert');\n",
              "        buttonEl.style.display =\n",
              "          google.colab.kernel.accessAllowed ? 'block' : 'none';\n",
              "\n",
              "        async function convertToInteractive(key) {\n",
              "          const element = document.querySelector('#df-2a1e7d6e-b850-4af5-a4ae-91385667303c');\n",
              "          const dataTable =\n",
              "            await google.colab.kernel.invokeFunction('convertToInteractive',\n",
              "                                                     [key], {});\n",
              "          if (!dataTable) return;\n",
              "\n",
              "          const docLinkHtml = 'Like what you see? Visit the ' +\n",
              "            '<a target=\"_blank\" href=https://colab.research.google.com/notebooks/data_table.ipynb>data table notebook</a>'\n",
              "            + ' to learn more about interactive tables.';\n",
              "          element.innerHTML = '';\n",
              "          dataTable['output_type'] = 'display_data';\n",
              "          await google.colab.output.renderOutput(dataTable, element);\n",
              "          const docLink = document.createElement('div');\n",
              "          docLink.innerHTML = docLinkHtml;\n",
              "          element.appendChild(docLink);\n",
              "        }\n",
              "      </script>\n",
              "    </div>\n",
              "  </div>\n",
              "  "
            ],
            "text/plain": [
              "             user_id    category_id\n",
              "count  250000.000000  250000.000000\n",
              "mean   124999.500000       4.573188\n",
              "std     72168.927986       4.419800\n",
              "min         0.000000       1.000000\n",
              "25%     62499.750000       2.000000\n",
              "50%    124999.500000       3.000000\n",
              "75%    187499.250000       6.000000\n",
              "max    249999.000000      95.000000"
            ]
          },
          "metadata": {},
          "execution_count": 52
        }
      ]
    },
    {
      "cell_type": "markdown",
      "source": [
        "#用户查看文章的长度的分布\n",
        "通过统计不同用户点击新闻的平均字数，这个可以反映用户是对长文更感兴趣还是对短文更感兴趣。"
      ],
      "metadata": {
        "id": "e4qAB7TA6Eqo"
      }
    },
    {
      "cell_type": "code",
      "source": [
        "plt.plot(sorted(user_click_merge.groupby('user_id')['words_count'].mean(), reverse=True))\n",
        "#从上图中可以发现有一小部分人看的文章平均词数非常高，也有一小部分人看的平均文章次数非常低。大多数人偏好于阅读字数在200-400字之间的新闻。"
      ],
      "metadata": {
        "colab": {
          "base_uri": "https://localhost:8080/",
          "height": 286
        },
        "id": "-t-9GvRO6M6x",
        "outputId": "2cb47f04-45be-4011-87b9-6dbf9aacb222"
      },
      "execution_count": 53,
      "outputs": [
        {
          "output_type": "execute_result",
          "data": {
            "text/plain": [
              "[<matplotlib.lines.Line2D at 0x7f62fca19790>]"
            ]
          },
          "metadata": {},
          "execution_count": 53
        },
        {
          "output_type": "display_data",
          "data": {
            "image/png": "[encoded data removed]",
            "text/plain": [
              "<Figure size 432x288 with 1 Axes>"
            ]
          },
          "metadata": {
            "needs_background": "light"
          }
        }
      ]
    },
    {
      "cell_type": "code",
      "source": [
        "#挑出大多数人的区间仔细看看\n",
        "plt.plot(sorted(user_click_merge.groupby('user_id')['words_count'].mean(), reverse=True)[1000:45000])#可以发现大多数人都是看250字以下的文章"
      ],
      "metadata": {
        "colab": {
          "base_uri": "https://localhost:8080/",
          "height": 286
        },
        "id": "DReMW25v6PYD",
        "outputId": "788bc109-e797-49f7-bbda-6834622e9f3e"
      },
      "execution_count": 54,
      "outputs": [
        {
          "output_type": "execute_result",
          "data": {
            "text/plain": [
              "[<matplotlib.lines.Line2D at 0x7f62fc936590>]"
            ]
          },
          "metadata": {},
          "execution_count": 54
        },
        {
          "output_type": "display_data",
          "data": {
            "image/png": "[encoded data removed]",
            "text/plain": [
              "<Figure size 432x288 with 1 Axes>"
            ]
          },
          "metadata": {
            "needs_background": "light"
          }
        }
      ]
    },
    {
      "cell_type": "code",
      "source": [
        "#更加详细的参数\n",
        "user_click_merge.groupby('user_id')['words_count'].mean().reset_index().describe()"
      ],
      "metadata": {
        "colab": {
          "base_uri": "https://localhost:8080/",
          "height": 300
        },
        "id": "077nctIe6Zpi",
        "outputId": "884e4efd-1e89-40b9-d755-51d9f2f15ac5"
      },
      "execution_count": 55,
      "outputs": [
        {
          "output_type": "execute_result",
          "data": {
            "text/html": [
              "\n",
              "  <div id=\"df-c817af49-e551-4bea-af3e-15a89b693a3f\">\n",
              "    <div class=\"colab-df-container\">\n",
              "      <div>\n",
              "<style scoped>\n",
              "    .dataframe tbody tr th:only-of-type {\n",
              "        vertical-align: middle;\n",
              "    }\n",
              "\n",
              "    .dataframe tbody tr th {\n",
              "        vertical-align: top;\n",
              "    }\n",
              "\n",
              "    .dataframe thead th {\n",
              "        text-align: right;\n",
              "    }\n",
              "</style>\n",
              "<table border=\"1\" class=\"dataframe\">\n",
              "  <thead>\n",
              "    <tr style=\"text-align: right;\">\n",
              "      <th></th>\n",
              "      <th>user_id</th>\n",
              "      <th>words_count</th>\n",
              "    </tr>\n",
              "  </thead>\n",
              "  <tbody>\n",
              "    <tr>\n",
              "      <th>count</th>\n",
              "      <td>250000.000000</td>\n",
              "      <td>250000.000000</td>\n",
              "    </tr>\n",
              "    <tr>\n",
              "      <th>mean</th>\n",
              "      <td>124999.500000</td>\n",
              "      <td>205.830189</td>\n",
              "    </tr>\n",
              "    <tr>\n",
              "      <th>std</th>\n",
              "      <td>72168.927986</td>\n",
              "      <td>47.174030</td>\n",
              "    </tr>\n",
              "    <tr>\n",
              "      <th>min</th>\n",
              "      <td>0.000000</td>\n",
              "      <td>8.000000</td>\n",
              "    </tr>\n",
              "    <tr>\n",
              "      <th>25%</th>\n",
              "      <td>62499.750000</td>\n",
              "      <td>187.500000</td>\n",
              "    </tr>\n",
              "    <tr>\n",
              "      <th>50%</th>\n",
              "      <td>124999.500000</td>\n",
              "      <td>202.000000</td>\n",
              "    </tr>\n",
              "    <tr>\n",
              "      <th>75%</th>\n",
              "      <td>187499.250000</td>\n",
              "      <td>217.750000</td>\n",
              "    </tr>\n",
              "    <tr>\n",
              "      <th>max</th>\n",
              "      <td>249999.000000</td>\n",
              "      <td>3434.500000</td>\n",
              "    </tr>\n",
              "  </tbody>\n",
              "</table>\n",
              "</div>\n",
              "      <button class=\"colab-df-convert\" onclick=\"convertToInteractive('df-c817af49-e551-4bea-af3e-15a89b693a3f')\"\n",
              "              title=\"Convert this dataframe to an interactive table.\"\n",
              "              style=\"display:none;\">\n",
              "        \n",
              "  <svg xmlns=\"http://www.w3.org/2000/svg\" height=\"24px\"viewBox=\"0 0 24 24\"\n",
              "       width=\"24px\">\n",
              "    <path d=\"M0 0h24v24H0V0z\" fill=\"none\"/>\n",
              "    <path d=\"M18.56 5.44l.94 2.06.94-2.06 2.06-.94-2.06-.94-.94-2.06-.94 2.06-2.06.94zm-11 1L8.5 8.5l.94-2.06 2.06-.94-2.06-.94L8.5 2.5l-.94 2.06-2.06.94zm10 10l.94 2.06.94-2.06 2.06-.94-2.06-.94-.94-2.06-.94 2.06-2.06.94z\"/><path d=\"M17.41 7.96l-1.37-1.37c-.4-.4-.92-.59-1.43-.59-.52 0-1.04.2-1.43.59L10.3 9.45l-7.72 7.72c-.78.78-.78 2.05 0 2.83L4 21.41c.39.39.9.59 1.41.59.51 0 1.02-.2 1.41-.59l7.78-7.78 2.81-2.81c.8-.78.8-2.07 0-2.86zM5.41 20L4 18.59l7.72-7.72 1.47 1.35L5.41 20z\"/>\n",
              "  </svg>\n",
              "      </button>\n",
              "      \n",
              "  <style>\n",
              "    .colab-df-container {\n",
              "      display:flex;\n",
              "      flex-wrap:wrap;\n",
              "      gap: 12px;\n",
              "    }\n",
              "\n",
              "    .colab-df-convert {\n",
              "      background-color: #E8F0FE;\n",
              "      border: none;\n",
              "      border-radius: 50%;\n",
              "      cursor: pointer;\n",
              "      display: none;\n",
              "      fill: #1967D2;\n",
              "      height: 32px;\n",
              "      padding: 0 0 0 0;\n",
              "      width: 32px;\n",
              "    }\n",
              "\n",
              "    .colab-df-convert:hover {\n",
              "      background-color: #E2EBFA;\n",
              "      box-shadow: 0px 1px 2px rgba(60, 64, 67, 0.3), 0px 1px 3px 1px rgba(60, 64, 67, 0.15);\n",
              "      fill: #174EA6;\n",
              "    }\n",
              "\n",
              "    [theme=dark] .colab-df-convert {\n",
              "      background-color: #3B4455;\n",
              "      fill: #D2E3FC;\n",
              "    }\n",
              "\n",
              "    [theme=dark] .colab-df-convert:hover {\n",
              "      background-color: #434B5C;\n",
              "      box-shadow: 0px 1px 3px 1px rgba(0, 0, 0, 0.15);\n",
              "      filter: drop-shadow(0px 1px 2px rgba(0, 0, 0, 0.3));\n",
              "      fill: #FFFFFF;\n",
              "    }\n",
              "  </style>\n",
              "\n",
              "      <script>\n",
              "        const buttonEl =\n",
              "          document.querySelector('#df-c817af49-e551-4bea-af3e-15a89b693a3f button.colab-df-convert');\n",
              "        buttonEl.style.display =\n",
              "          google.colab.kernel.accessAllowed ? 'block' : 'none';\n",
              "\n",
              "        async function convertToInteractive(key) {\n",
              "          const element = document.querySelector('#df-c817af49-e551-4bea-af3e-15a89b693a3f');\n",
              "          const dataTable =\n",
              "            await google.colab.kernel.invokeFunction('convertToInteractive',\n",
              "                                                     [key], {});\n",
              "          if (!dataTable) return;\n",
              "\n",
              "          const docLinkHtml = 'Like what you see? Visit the ' +\n",
              "            '<a target=\"_blank\" href=https://colab.research.google.com/notebooks/data_table.ipynb>data table notebook</a>'\n",
              "            + ' to learn more about interactive tables.';\n",
              "          element.innerHTML = '';\n",
              "          dataTable['output_type'] = 'display_data';\n",
              "          await google.colab.output.renderOutput(dataTable, element);\n",
              "          const docLink = document.createElement('div');\n",
              "          docLink.innerHTML = docLinkHtml;\n",
              "          element.appendChild(docLink);\n",
              "        }\n",
              "      </script>\n",
              "    </div>\n",
              "  </div>\n",
              "  "
            ],
            "text/plain": [
              "             user_id    words_count\n",
              "count  250000.000000  250000.000000\n",
              "mean   124999.500000     205.830189\n",
              "std     72168.927986      47.174030\n",
              "min         0.000000       8.000000\n",
              "25%     62499.750000     187.500000\n",
              "50%    124999.500000     202.000000\n",
              "75%    187499.250000     217.750000\n",
              "max    249999.000000    3434.500000"
            ]
          },
          "metadata": {},
          "execution_count": 55
        }
      ]
    },
    {
      "cell_type": "markdown",
      "source": [
        "#用户点击新闻的时间分析\n"
      ],
      "metadata": {
        "id": "tknGOhnL6eB-"
      }
    },
    {
      "cell_type": "code",
      "source": [
        "#为了更好的可视化，这里把时间进行归一化操作\n",
        "from sklearn.preprocessing import MinMaxScaler\n",
        "mm = MinMaxScaler()\n",
        "user_click_merge['click_timestamp'] = mm.fit_transform(user_click_merge[['click_timestamp']])\n",
        "user_click_merge['created_at_ts'] = mm.fit_transform(user_click_merge[['created_at_ts']])\n",
        "\n",
        "user_click_merge = user_click_merge.sort_values('click_timestamp')"
      ],
      "metadata": {
        "id": "pJ-VRYkz6jJl"
      },
      "execution_count": 56,
      "outputs": []
    },
    {
      "cell_type": "code",
      "source": [
        "user_click_merge.head()"
      ],
      "metadata": {
        "colab": {
          "base_uri": "https://localhost:8080/",
          "height": 206
        },
        "id": "j1TkO6TR6kqe",
        "outputId": "6880de74-1a97-4e09-a1eb-645de6d93c4a"
      },
      "execution_count": 57,
      "outputs": [
        {
          "output_type": "execute_result",
          "data": {
            "text/html": [
              "\n",
              "  <div id=\"df-183010e8-e6c6-4da2-a691-3a894a822b27\">\n",
              "    <div class=\"colab-df-container\">\n",
              "      <div>\n",
              "<style scoped>\n",
              "    .dataframe tbody tr th:only-of-type {\n",
              "        vertical-align: middle;\n",
              "    }\n",
              "\n",
              "    .dataframe tbody tr th {\n",
              "        vertical-align: top;\n",
              "    }\n",
              "\n",
              "    .dataframe thead th {\n",
              "        text-align: right;\n",
              "    }\n",
              "</style>\n",
              "<table border=\"1\" class=\"dataframe\">\n",
              "  <thead>\n",
              "    <tr style=\"text-align: right;\">\n",
              "      <th></th>\n",
              "      <th>user_id</th>\n",
              "      <th>click_article_id</th>\n",
              "      <th>click_timestamp</th>\n",
              "      <th>click_environment</th>\n",
              "      <th>click_deviceGroup</th>\n",
              "      <th>click_os</th>\n",
              "      <th>click_country</th>\n",
              "      <th>click_region</th>\n",
              "      <th>click_referrer_type</th>\n",
              "      <th>rank</th>\n",
              "      <th>click_cnts</th>\n",
              "      <th>category_id</th>\n",
              "      <th>created_at_ts</th>\n",
              "      <th>words_count</th>\n",
              "    </tr>\n",
              "  </thead>\n",
              "  <tbody>\n",
              "    <tr>\n",
              "      <th>18</th>\n",
              "      <td>249990</td>\n",
              "      <td>162300</td>\n",
              "      <td>0.000000</td>\n",
              "      <td>4</td>\n",
              "      <td>3</td>\n",
              "      <td>20</td>\n",
              "      <td>1</td>\n",
              "      <td>25</td>\n",
              "      <td>2</td>\n",
              "      <td>5</td>\n",
              "      <td>5</td>\n",
              "      <td>281</td>\n",
              "      <td>0.989186</td>\n",
              "      <td>193</td>\n",
              "    </tr>\n",
              "    <tr>\n",
              "      <th>2</th>\n",
              "      <td>249998</td>\n",
              "      <td>160974</td>\n",
              "      <td>0.000002</td>\n",
              "      <td>4</td>\n",
              "      <td>1</td>\n",
              "      <td>12</td>\n",
              "      <td>1</td>\n",
              "      <td>13</td>\n",
              "      <td>2</td>\n",
              "      <td>5</td>\n",
              "      <td>5</td>\n",
              "      <td>281</td>\n",
              "      <td>0.989092</td>\n",
              "      <td>259</td>\n",
              "    </tr>\n",
              "    <tr>\n",
              "      <th>30</th>\n",
              "      <td>249985</td>\n",
              "      <td>160974</td>\n",
              "      <td>0.000003</td>\n",
              "      <td>4</td>\n",
              "      <td>1</td>\n",
              "      <td>17</td>\n",
              "      <td>1</td>\n",
              "      <td>8</td>\n",
              "      <td>2</td>\n",
              "      <td>8</td>\n",
              "      <td>8</td>\n",
              "      <td>281</td>\n",
              "      <td>0.989092</td>\n",
              "      <td>259</td>\n",
              "    </tr>\n",
              "    <tr>\n",
              "      <th>50</th>\n",
              "      <td>249979</td>\n",
              "      <td>162300</td>\n",
              "      <td>0.000004</td>\n",
              "      <td>4</td>\n",
              "      <td>1</td>\n",
              "      <td>17</td>\n",
              "      <td>1</td>\n",
              "      <td>25</td>\n",
              "      <td>2</td>\n",
              "      <td>2</td>\n",
              "      <td>2</td>\n",
              "      <td>281</td>\n",
              "      <td>0.989186</td>\n",
              "      <td>193</td>\n",
              "    </tr>\n",
              "    <tr>\n",
              "      <th>25</th>\n",
              "      <td>249988</td>\n",
              "      <td>160974</td>\n",
              "      <td>0.000004</td>\n",
              "      <td>4</td>\n",
              "      <td>1</td>\n",
              "      <td>17</td>\n",
              "      <td>1</td>\n",
              "      <td>21</td>\n",
              "      <td>2</td>\n",
              "      <td>17</td>\n",
              "      <td>17</td>\n",
              "      <td>281</td>\n",
              "      <td>0.989092</td>\n",
              "      <td>259</td>\n",
              "    </tr>\n",
              "  </tbody>\n",
              "</table>\n",
              "</div>\n",
              "      <button class=\"colab-df-convert\" onclick=\"convertToInteractive('df-183010e8-e6c6-4da2-a691-3a894a822b27')\"\n",
              "              title=\"Convert this dataframe to an interactive table.\"\n",
              "              style=\"display:none;\">\n",
              "        \n",
              "  <svg xmlns=\"http://www.w3.org/2000/svg\" height=\"24px\"viewBox=\"0 0 24 24\"\n",
              "       width=\"24px\">\n",
              "    <path d=\"M0 0h24v24H0V0z\" fill=\"none\"/>\n",
              "    <path d=\"M18.56 5.44l.94 2.06.94-2.06 2.06-.94-2.06-.94-.94-2.06-.94 2.06-2.06.94zm-11 1L8.5 8.5l.94-2.06 2.06-.94-2.06-.94L8.5 2.5l-.94 2.06-2.06.94zm10 10l.94 2.06.94-2.06 2.06-.94-2.06-.94-.94-2.06-.94 2.06-2.06.94z\"/><path d=\"M17.41 7.96l-1.37-1.37c-.4-.4-.92-.59-1.43-.59-.52 0-1.04.2-1.43.59L10.3 9.45l-7.72 7.72c-.78.78-.78 2.05 0 2.83L4 21.41c.39.39.9.59 1.41.59.51 0 1.02-.2 1.41-.59l7.78-7.78 2.81-2.81c.8-.78.8-2.07 0-2.86zM5.41 20L4 18.59l7.72-7.72 1.47 1.35L5.41 20z\"/>\n",
              "  </svg>\n",
              "      </button>\n",
              "      \n",
              "  <style>\n",
              "    .colab-df-container {\n",
              "      display:flex;\n",
              "      flex-wrap:wrap;\n",
              "      gap: 12px;\n",
              "    }\n",
              "\n",
              "    .colab-df-convert {\n",
              "      background-color: #E8F0FE;\n",
              "      border: none;\n",
              "      border-radius: 50%;\n",
              "      cursor: pointer;\n",
              "      display: none;\n",
              "      fill: #1967D2;\n",
              "      height: 32px;\n",
              "      padding: 0 0 0 0;\n",
              "      width: 32px;\n",
              "    }\n",
              "\n",
              "    .colab-df-convert:hover {\n",
              "      background-color: #E2EBFA;\n",
              "      box-shadow: 0px 1px 2px rgba(60, 64, 67, 0.3), 0px 1px 3px 1px rgba(60, 64, 67, 0.15);\n",
              "      fill: #174EA6;\n",
              "    }\n",
              "\n",
              "    [theme=dark] .colab-df-convert {\n",
              "      background-color: #3B4455;\n",
              "      fill: #D2E3FC;\n",
              "    }\n",
              "\n",
              "    [theme=dark] .colab-df-convert:hover {\n",
              "      background-color: #434B5C;\n",
              "      box-shadow: 0px 1px 3px 1px rgba(0, 0, 0, 0.15);\n",
              "      filter: drop-shadow(0px 1px 2px rgba(0, 0, 0, 0.3));\n",
              "      fill: #FFFFFF;\n",
              "    }\n",
              "  </style>\n",
              "\n",
              "      <script>\n",
              "        const buttonEl =\n",
              "          document.querySelector('#df-183010e8-e6c6-4da2-a691-3a894a822b27 button.colab-df-convert');\n",
              "        buttonEl.style.display =\n",
              "          google.colab.kernel.accessAllowed ? 'block' : 'none';\n",
              "\n",
              "        async function convertToInteractive(key) {\n",
              "          const element = document.querySelector('#df-183010e8-e6c6-4da2-a691-3a894a822b27');\n",
              "          const dataTable =\n",
              "            await google.colab.kernel.invokeFunction('convertToInteractive',\n",
              "                                                     [key], {});\n",
              "          if (!dataTable) return;\n",
              "\n",
              "          const docLinkHtml = 'Like what you see? Visit the ' +\n",
              "            '<a target=\"_blank\" href=https://colab.research.google.com/notebooks/data_table.ipynb>data table notebook</a>'\n",
              "            + ' to learn more about interactive tables.';\n",
              "          element.innerHTML = '';\n",
              "          dataTable['output_type'] = 'display_data';\n",
              "          await google.colab.output.renderOutput(dataTable, element);\n",
              "          const docLink = document.createElement('div');\n",
              "          docLink.innerHTML = docLinkHtml;\n",
              "          element.appendChild(docLink);\n",
              "        }\n",
              "      </script>\n",
              "    </div>\n",
              "  </div>\n",
              "  "
            ],
            "text/plain": [
              "    user_id  click_article_id  ...  created_at_ts  words_count\n",
              "18   249990            162300  ...       0.989186          193\n",
              "2    249998            160974  ...       0.989092          259\n",
              "30   249985            160974  ...       0.989092          259\n",
              "50   249979            162300  ...       0.989186          193\n",
              "25   249988            160974  ...       0.989092          259\n",
              "\n",
              "[5 rows x 14 columns]"
            ]
          },
          "metadata": {},
          "execution_count": 57
        }
      ]
    },
    {
      "cell_type": "code",
      "source": [
        "def mean_diff_time_func(df, col):\n",
        "    df = pd.DataFrame(df, columns={col})\n",
        "    df['time_shift1'] = df[col].shift(1).fillna(0)\n",
        "    df['diff_time'] = abs(df[col] - df['time_shift1'])\n",
        "    return df['diff_time'].mean()"
      ],
      "metadata": {
        "id": "Mmxbuo3a6oNw"
      },
      "execution_count": 58,
      "outputs": []
    },
    {
      "cell_type": "code",
      "source": [
        "# 点击时间差的平均值\n",
        "mean_diff_click_time = user_click_merge.groupby('user_id')['click_timestamp', 'created_at_ts'].apply(lambda x: mean_diff_time_func(x, 'click_timestamp'))\n",
        "plt.plot(sorted(mean_diff_click_time.values, reverse=True))#从上图可以发现不同用户点击文章的时间差是有差异的"
      ],
      "metadata": {
        "colab": {
          "base_uri": "https://localhost:8080/",
          "height": 286
        },
        "id": "Xg_6V-n56phg",
        "outputId": "09a4ad41-6113-4510-c766-a67439c79ecc"
      },
      "execution_count": 59,
      "outputs": [
        {
          "output_type": "execute_result",
          "data": {
            "text/plain": [
              "[<matplotlib.lines.Line2D at 0x7f62fc511990>]"
            ]
          },
          "metadata": {},
          "execution_count": 59
        },
        {
          "output_type": "display_data",
          "data": {
            "image/png": "[encoded data removed]",
            "text/plain": [
              "<Figure size 432x288 with 1 Axes>"
            ]
          },
          "metadata": {
            "needs_background": "light"
          }
        }
      ]
    },
    {
      "cell_type": "code",
      "source": [
        "# 前后点击文章的创建时间差的平均值\n",
        "mean_diff_created_time = user_click_merge.groupby('user_id')['click_timestamp', 'created_at_ts'].apply(lambda x: mean_diff_time_func(x, 'created_at_ts'))\n",
        "plt.plot(sorted(mean_diff_created_time.values, reverse=True))#从图中可以发现用户先后点击文章，文章的创建时间也是有差异的"
      ],
      "metadata": {
        "colab": {
          "base_uri": "https://localhost:8080/",
          "height": 286
        },
        "id": "7pTzqvb16zPc",
        "outputId": "eb9ebb93-bb91-41a8-fe61-260bc9a72294"
      },
      "execution_count": 60,
      "outputs": [
        {
          "output_type": "execute_result",
          "data": {
            "text/plain": [
              "[<matplotlib.lines.Line2D at 0x7f62fc4a6d10>]"
            ]
          },
          "metadata": {},
          "execution_count": 60
        },
        {
          "output_type": "display_data",
          "data": {
            "image/png": "[encoded data removed]",
            "text/plain": [
              "<Figure size 432x288 with 1 Axes>"
            ]
          },
          "metadata": {
            "needs_background": "light"
          }
        }
      ]
    },
    {
      "cell_type": "code",
      "source": [
        "#从图中可以发现用户先后点击文章，文章的创建时间也是有差异的\n",
        "# 安装gensim\n",
        "!pip install gensim\n"
      ],
      "metadata": {
        "colab": {
          "base_uri": "https://localhost:8080/"
        },
        "id": "yStUKUMT68pA",
        "outputId": "815506ed-43bc-49a9-886d-ba87d01a3706"
      },
      "execution_count": 61,
      "outputs": [
        {
          "output_type": "stream",
          "name": "stdout",
          "text": [
            "Requirement already satisfied: gensim in /usr/local/lib/python3.7/dist-packages (3.6.0)\n",
            "Requirement already satisfied: numpy>=1.11.3 in /usr/local/lib/python3.7/dist-packages (from gensim) (1.21.5)\n",
            "Requirement already satisfied: scipy>=0.18.1 in /usr/local/lib/python3.7/dist-packages (from gensim) (1.4.1)\n",
            "Requirement already satisfied: smart-open>=1.2.1 in /usr/local/lib/python3.7/dist-packages (from gensim) (5.2.1)\n",
            "Requirement already satisfied: six>=1.5.0 in /usr/local/lib/python3.7/dist-packages (from gensim) (1.15.0)\n"
          ]
        }
      ]
    },
    {
      "cell_type": "code",
      "source": [
        "from gensim.models import Word2Vec\n",
        "import logging, pickle\n",
        "\n",
        "# 需要注意这里模型只迭代了一次\n",
        "def trian_item_word2vec(click_df, embed_size=16, save_name='item_w2v_emb.pkl', split_char=' '):\n",
        "    click_df = click_df.sort_values('click_timestamp')\n",
        "    # 只有转换成字符串才可以进行训练\n",
        "    click_df['click_article_id'] = click_df['click_article_id'].astype(str)\n",
        "    # 转换成句子的形式\n",
        "    docs = click_df.groupby(['user_id'])['click_article_id'].apply(lambda x: list(x)).reset_index()\n",
        "    docs = docs['click_article_id'].values.tolist()\n",
        "\n",
        "    # 为了方便查看训练的进度，这里设定一个log信息\n",
        "    logging.basicConfig(format='%(asctime)s:%(levelname)s:%(message)s', level=logging.INFO)\n",
        "\n",
        "    # 这里的参数对训练得到的向量影响也很大,默认负采样为5\n",
        "    w2v = Word2Vec(docs, size=16, sg=1, window=5, seed=2020, workers=24, min_count=1, iter=10)\n",
        "    \n",
        "    # 保存成字典的形式\n",
        "    item_w2v_emb_dict = {k: w2v[k] for k in click_df['click_article_id']}\n",
        "    \n",
        "    return item_w2v_emb_dict"
      ],
      "metadata": {
        "id": "N_NmNmNH7HZM"
      },
      "execution_count": 62,
      "outputs": []
    },
    {
      "cell_type": "code",
      "source": [
        "item_w2v_emb_dict = trian_item_word2vec(user_click_merge)"
      ],
      "metadata": {
        "colab": {
          "base_uri": "https://localhost:8080/"
        },
        "id": "Tde_IQGd7IwA",
        "outputId": "dddda062-a80c-4feb-a040-51a485ebbd9d"
      },
      "execution_count": 63,
      "outputs": [
        {
          "output_type": "stream",
          "name": "stderr",
          "text": [
            "2022-02-16 05:17:29,190:INFO:collecting all words and their counts\n",
            "2022-02-16 05:17:29,198:INFO:PROGRESS: at sentence #0, processed 0 words, keeping 0 word types\n",
            "2022-02-16 05:17:29,219:INFO:PROGRESS: at sentence #10000, processed 25727 words, keeping 3473 word types\n",
            "2022-02-16 05:17:29,245:INFO:PROGRESS: at sentence #20000, processed 53883 words, keeping 5811 word types\n",
            "2022-02-16 05:17:29,281:INFO:PROGRESS: at sentence #30000, processed 84881 words, keeping 7676 word types\n",
            "2022-02-16 05:17:29,313:INFO:PROGRESS: at sentence #40000, processed 118390 words, keeping 9297 word types\n",
            "2022-02-16 05:17:29,345:INFO:PROGRESS: at sentence #50000, processed 154179 words, keeping 10844 word types\n",
            "2022-02-16 05:17:29,373:INFO:PROGRESS: at sentence #60000, processed 192350 words, keeping 12357 word types\n",
            "2022-02-16 05:17:29,408:INFO:PROGRESS: at sentence #70000, processed 233685 words, keeping 13473 word types\n",
            "2022-02-16 05:17:29,454:INFO:PROGRESS: at sentence #80000, processed 281335 words, keeping 14939 word types\n",
            "2022-02-16 05:17:29,488:INFO:PROGRESS: at sentence #90000, processed 329973 words, keeping 16420 word types\n",
            "2022-02-16 05:17:29,521:INFO:PROGRESS: at sentence #100000, processed 379428 words, keeping 17904 word types\n",
            "2022-02-16 05:17:29,562:INFO:PROGRESS: at sentence #110000, processed 431464 words, keeping 18928 word types\n",
            "2022-02-16 05:17:29,604:INFO:PROGRESS: at sentence #120000, processed 489655 words, keeping 20157 word types\n",
            "2022-02-16 05:17:29,648:INFO:PROGRESS: at sentence #130000, processed 550375 words, keeping 21588 word types\n",
            "2022-02-16 05:17:29,705:INFO:PROGRESS: at sentence #140000, processed 613031 words, keeping 22923 word types\n",
            "2022-02-16 05:17:29,789:INFO:PROGRESS: at sentence #150000, processed 678645 words, keeping 24209 word types\n",
            "2022-02-16 05:17:29,861:INFO:PROGRESS: at sentence #160000, processed 749559 words, keeping 25743 word types\n",
            "2022-02-16 05:17:29,920:INFO:PROGRESS: at sentence #170000, processed 831064 words, keeping 27232 word types\n",
            "2022-02-16 05:17:30,025:INFO:PROGRESS: at sentence #180000, processed 914233 words, keeping 28612 word types\n",
            "2022-02-16 05:17:30,085:INFO:PROGRESS: at sentence #190000, processed 1004976 words, keeping 29699 word types\n",
            "2022-02-16 05:17:30,158:INFO:PROGRESS: at sentence #200000, processed 1112623 words, keeping 31116 word types\n",
            "2022-02-16 05:17:30,253:INFO:PROGRESS: at sentence #210000, processed 1200577 words, keeping 31798 word types\n",
            "2022-02-16 05:17:30,339:INFO:PROGRESS: at sentence #220000, processed 1285942 words, keeping 32381 word types\n",
            "2022-02-16 05:17:30,395:INFO:PROGRESS: at sentence #230000, processed 1380836 words, keeping 33131 word types\n",
            "2022-02-16 05:17:30,472:INFO:PROGRESS: at sentence #240000, processed 1498710 words, keeping 34213 word types\n",
            "2022-02-16 05:17:30,558:INFO:collected 35380 word types from a corpus of 1630633 raw words and 250000 sentences\n",
            "2022-02-16 05:17:30,564:INFO:Loading a fresh vocabulary\n",
            "2022-02-16 05:17:30,704:INFO:effective_min_count=1 retains 35380 unique words (100% of original 35380, drops 0)\n",
            "2022-02-16 05:17:30,710:INFO:effective_min_count=1 leaves 1630633 word corpus (100% of original 1630633, drops 0)\n",
            "2022-02-16 05:17:30,879:INFO:deleting the raw counts dictionary of 35380 items\n",
            "2022-02-16 05:17:30,886:INFO:sample=0.001 downsamples 73 most-common words\n",
            "2022-02-16 05:17:30,891:INFO:downsampling leaves estimated 1452855 word corpus (89.1% of prior 1630633)\n",
            "2022-02-16 05:17:31,038:INFO:estimated required memory for 35380 words and 16 dimensions: 22218640 bytes\n",
            "2022-02-16 05:17:31,045:INFO:resetting layer weights\n",
            "2022-02-16 05:17:42,892:INFO:training model with 24 workers on 35380 vocabulary and 16 features, using sg=1 hs=0 sample=0.001 negative=5 window=5\n",
            "2022-02-16 05:17:44,003:INFO:EPOCH 1 - PROGRESS: at 41.62% examples, 328306 words/s, in_qsize 47, out_qsize 0\n",
            "2022-02-16 05:17:45,060:INFO:EPOCH 1 - PROGRESS: at 63.45% examples, 310750 words/s, in_qsize 48, out_qsize 8\n",
            "2022-02-16 05:17:46,246:INFO:EPOCH 1 - PROGRESS: at 85.84% examples, 332719 words/s, in_qsize 39, out_qsize 1\n",
            "2022-02-16 05:17:46,409:INFO:worker thread finished; awaiting finish of 23 more threads\n",
            "2022-02-16 05:17:46,431:INFO:worker thread finished; awaiting finish of 22 more threads\n",
            "2022-02-16 05:17:46,442:INFO:worker thread finished; awaiting finish of 21 more threads\n",
            "2022-02-16 05:17:46,473:INFO:worker thread finished; awaiting finish of 20 more threads\n",
            "2022-02-16 05:17:46,500:INFO:worker thread finished; awaiting finish of 19 more threads\n",
            "2022-02-16 05:17:46,514:INFO:worker thread finished; awaiting finish of 18 more threads\n",
            "2022-02-16 05:17:46,544:INFO:worker thread finished; awaiting finish of 17 more threads\n",
            "2022-02-16 05:17:46,580:INFO:worker thread finished; awaiting finish of 16 more threads\n",
            "2022-02-16 05:17:46,598:INFO:worker thread finished; awaiting finish of 15 more threads\n",
            "2022-02-16 05:17:46,642:INFO:worker thread finished; awaiting finish of 14 more threads\n",
            "2022-02-16 05:17:46,661:INFO:worker thread finished; awaiting finish of 13 more threads\n",
            "2022-02-16 05:17:46,772:INFO:worker thread finished; awaiting finish of 12 more threads\n",
            "2022-02-16 05:17:46,791:INFO:worker thread finished; awaiting finish of 11 more threads\n",
            "2022-02-16 05:17:46,809:INFO:worker thread finished; awaiting finish of 10 more threads\n",
            "2022-02-16 05:17:46,814:INFO:worker thread finished; awaiting finish of 9 more threads\n",
            "2022-02-16 05:17:46,835:INFO:worker thread finished; awaiting finish of 8 more threads\n",
            "2022-02-16 05:17:46,837:INFO:worker thread finished; awaiting finish of 7 more threads\n",
            "2022-02-16 05:17:46,840:INFO:worker thread finished; awaiting finish of 6 more threads\n",
            "2022-02-16 05:17:46,844:INFO:worker thread finished; awaiting finish of 5 more threads\n",
            "2022-02-16 05:17:46,853:INFO:worker thread finished; awaiting finish of 4 more threads\n",
            "2022-02-16 05:17:46,863:INFO:worker thread finished; awaiting finish of 3 more threads\n",
            "2022-02-16 05:17:46,865:INFO:worker thread finished; awaiting finish of 2 more threads\n",
            "2022-02-16 05:17:46,871:INFO:worker thread finished; awaiting finish of 1 more threads\n",
            "2022-02-16 05:17:46,874:INFO:worker thread finished; awaiting finish of 0 more threads\n",
            "2022-02-16 05:17:46,875:INFO:EPOCH - 1 : training on 1630633 raw words (1452909 effective words) took 4.0s, 366612 effective words/s\n",
            "2022-02-16 05:17:47,997:INFO:EPOCH 2 - PROGRESS: at 41.42% examples, 323642 words/s, in_qsize 6, out_qsize 2\n",
            "2022-02-16 05:17:49,041:INFO:EPOCH 2 - PROGRESS: at 71.32% examples, 375955 words/s, in_qsize 45, out_qsize 2\n",
            "2022-02-16 05:17:50,084:INFO:EPOCH 2 - PROGRESS: at 85.86% examples, 347180 words/s, in_qsize 39, out_qsize 1\n",
            "2022-02-16 05:17:50,595:INFO:worker thread finished; awaiting finish of 23 more threads\n",
            "2022-02-16 05:17:50,626:INFO:worker thread finished; awaiting finish of 22 more threads\n",
            "2022-02-16 05:17:50,657:INFO:worker thread finished; awaiting finish of 21 more threads\n",
            "2022-02-16 05:17:50,663:INFO:worker thread finished; awaiting finish of 20 more threads\n",
            "2022-02-16 05:17:50,666:INFO:worker thread finished; awaiting finish of 19 more threads\n",
            "2022-02-16 05:17:50,667:INFO:worker thread finished; awaiting finish of 18 more threads\n",
            "2022-02-16 05:17:50,668:INFO:worker thread finished; awaiting finish of 17 more threads\n",
            "2022-02-16 05:17:50,669:INFO:worker thread finished; awaiting finish of 16 more threads\n",
            "2022-02-16 05:17:50,677:INFO:worker thread finished; awaiting finish of 15 more threads\n",
            "2022-02-16 05:17:50,704:INFO:worker thread finished; awaiting finish of 14 more threads\n",
            "2022-02-16 05:17:50,725:INFO:worker thread finished; awaiting finish of 13 more threads\n",
            "2022-02-16 05:17:50,728:INFO:worker thread finished; awaiting finish of 12 more threads\n",
            "2022-02-16 05:17:50,765:INFO:worker thread finished; awaiting finish of 11 more threads\n",
            "2022-02-16 05:17:50,781:INFO:worker thread finished; awaiting finish of 10 more threads\n",
            "2022-02-16 05:17:50,856:INFO:worker thread finished; awaiting finish of 9 more threads\n",
            "2022-02-16 05:17:50,861:INFO:worker thread finished; awaiting finish of 8 more threads\n",
            "2022-02-16 05:17:50,939:INFO:worker thread finished; awaiting finish of 7 more threads\n",
            "2022-02-16 05:17:50,945:INFO:worker thread finished; awaiting finish of 6 more threads\n",
            "2022-02-16 05:17:50,947:INFO:worker thread finished; awaiting finish of 5 more threads\n",
            "2022-02-16 05:17:50,948:INFO:worker thread finished; awaiting finish of 4 more threads\n",
            "2022-02-16 05:17:50,957:INFO:worker thread finished; awaiting finish of 3 more threads\n",
            "2022-02-16 05:17:50,961:INFO:worker thread finished; awaiting finish of 2 more threads\n",
            "2022-02-16 05:17:50,963:INFO:worker thread finished; awaiting finish of 1 more threads\n",
            "2022-02-16 05:17:50,966:INFO:worker thread finished; awaiting finish of 0 more threads\n",
            "2022-02-16 05:17:50,967:INFO:EPOCH - 2 : training on 1630633 raw words (1453134 effective words) took 4.1s, 356331 effective words/s\n",
            "2022-02-16 05:17:52,143:INFO:EPOCH 3 - PROGRESS: at 42.38% examples, 317976 words/s, in_qsize 48, out_qsize 0\n",
            "2022-02-16 05:17:53,199:INFO:EPOCH 3 - PROGRESS: at 64.52% examples, 308004 words/s, in_qsize 45, out_qsize 2\n",
            "2022-02-16 05:17:54,203:INFO:EPOCH 3 - PROGRESS: at 83.67% examples, 331389 words/s, in_qsize 41, out_qsize 4\n",
            "2022-02-16 05:17:54,603:INFO:worker thread finished; awaiting finish of 23 more threads\n",
            "2022-02-16 05:17:54,617:INFO:worker thread finished; awaiting finish of 22 more threads\n",
            "2022-02-16 05:17:54,658:INFO:worker thread finished; awaiting finish of 21 more threads\n",
            "2022-02-16 05:17:54,725:INFO:worker thread finished; awaiting finish of 20 more threads\n",
            "2022-02-16 05:17:54,739:INFO:worker thread finished; awaiting finish of 19 more threads\n",
            "2022-02-16 05:17:54,815:INFO:worker thread finished; awaiting finish of 18 more threads\n",
            "2022-02-16 05:17:54,826:INFO:worker thread finished; awaiting finish of 17 more threads\n",
            "2022-02-16 05:17:54,829:INFO:worker thread finished; awaiting finish of 16 more threads\n",
            "2022-02-16 05:17:54,855:INFO:worker thread finished; awaiting finish of 15 more threads\n",
            "2022-02-16 05:17:54,863:INFO:worker thread finished; awaiting finish of 14 more threads\n",
            "2022-02-16 05:17:54,886:INFO:worker thread finished; awaiting finish of 13 more threads\n",
            "2022-02-16 05:17:54,990:INFO:worker thread finished; awaiting finish of 12 more threads\n",
            "2022-02-16 05:17:54,992:INFO:worker thread finished; awaiting finish of 11 more threads\n",
            "2022-02-16 05:17:54,993:INFO:worker thread finished; awaiting finish of 10 more threads\n",
            "2022-02-16 05:17:54,996:INFO:worker thread finished; awaiting finish of 9 more threads\n",
            "2022-02-16 05:17:54,999:INFO:worker thread finished; awaiting finish of 8 more threads\n",
            "2022-02-16 05:17:55,011:INFO:worker thread finished; awaiting finish of 7 more threads\n",
            "2022-02-16 05:17:55,018:INFO:worker thread finished; awaiting finish of 6 more threads\n",
            "2022-02-16 05:17:55,022:INFO:worker thread finished; awaiting finish of 5 more threads\n",
            "2022-02-16 05:17:55,029:INFO:worker thread finished; awaiting finish of 4 more threads\n",
            "2022-02-16 05:17:55,031:INFO:worker thread finished; awaiting finish of 3 more threads\n",
            "2022-02-16 05:17:55,033:INFO:worker thread finished; awaiting finish of 2 more threads\n",
            "2022-02-16 05:17:55,035:INFO:worker thread finished; awaiting finish of 1 more threads\n",
            "2022-02-16 05:17:55,037:INFO:worker thread finished; awaiting finish of 0 more threads\n",
            "2022-02-16 05:17:55,038:INFO:EPOCH - 3 : training on 1630633 raw words (1453318 effective words) took 4.1s, 358743 effective words/s\n",
            "2022-02-16 05:17:56,172:INFO:EPOCH 4 - PROGRESS: at 45.29% examples, 361108 words/s, in_qsize 47, out_qsize 0\n",
            "2022-02-16 05:17:57,330:INFO:EPOCH 4 - PROGRESS: at 64.94% examples, 303406 words/s, in_qsize 46, out_qsize 12\n",
            "2022-02-16 05:17:58,542:INFO:EPOCH 4 - PROGRESS: at 89.05% examples, 335174 words/s, in_qsize 33, out_qsize 0\n",
            "2022-02-16 05:17:58,811:INFO:worker thread finished; awaiting finish of 23 more threads\n",
            "2022-02-16 05:17:58,822:INFO:worker thread finished; awaiting finish of 22 more threads\n",
            "2022-02-16 05:17:58,827:INFO:worker thread finished; awaiting finish of 21 more threads\n",
            "2022-02-16 05:17:58,841:INFO:worker thread finished; awaiting finish of 20 more threads\n",
            "2022-02-16 05:17:58,850:INFO:worker thread finished; awaiting finish of 19 more threads\n",
            "2022-02-16 05:17:58,854:INFO:worker thread finished; awaiting finish of 18 more threads\n",
            "2022-02-16 05:17:58,865:INFO:worker thread finished; awaiting finish of 17 more threads\n",
            "2022-02-16 05:17:58,868:INFO:worker thread finished; awaiting finish of 16 more threads\n",
            "2022-02-16 05:17:58,874:INFO:worker thread finished; awaiting finish of 15 more threads\n",
            "2022-02-16 05:17:58,882:INFO:worker thread finished; awaiting finish of 14 more threads\n",
            "2022-02-16 05:17:58,888:INFO:worker thread finished; awaiting finish of 13 more threads\n",
            "2022-02-16 05:17:58,891:INFO:worker thread finished; awaiting finish of 12 more threads\n",
            "2022-02-16 05:17:58,897:INFO:worker thread finished; awaiting finish of 11 more threads\n",
            "2022-02-16 05:17:58,904:INFO:worker thread finished; awaiting finish of 10 more threads\n",
            "2022-02-16 05:17:58,910:INFO:worker thread finished; awaiting finish of 9 more threads\n",
            "2022-02-16 05:17:58,913:INFO:worker thread finished; awaiting finish of 8 more threads\n",
            "2022-02-16 05:17:59,048:INFO:worker thread finished; awaiting finish of 7 more threads\n",
            "2022-02-16 05:17:59,053:INFO:worker thread finished; awaiting finish of 6 more threads\n",
            "2022-02-16 05:17:59,056:INFO:worker thread finished; awaiting finish of 5 more threads\n",
            "2022-02-16 05:17:59,057:INFO:worker thread finished; awaiting finish of 4 more threads\n",
            "2022-02-16 05:17:59,061:INFO:worker thread finished; awaiting finish of 3 more threads\n",
            "2022-02-16 05:17:59,062:INFO:worker thread finished; awaiting finish of 2 more threads\n",
            "2022-02-16 05:17:59,063:INFO:worker thread finished; awaiting finish of 1 more threads\n",
            "2022-02-16 05:17:59,065:INFO:worker thread finished; awaiting finish of 0 more threads\n",
            "2022-02-16 05:17:59,067:INFO:EPOCH - 4 : training on 1630633 raw words (1452932 effective words) took 4.0s, 362154 effective words/s\n",
            "2022-02-16 05:18:00,121:INFO:EPOCH 5 - PROGRESS: at 33.42% examples, 256867 words/s, in_qsize 47, out_qsize 0\n",
            "2022-02-16 05:18:01,394:INFO:EPOCH 5 - PROGRESS: at 68.01% examples, 322485 words/s, in_qsize 47, out_qsize 0\n",
            "2022-02-16 05:18:02,504:INFO:EPOCH 5 - PROGRESS: at 89.06% examples, 342012 words/s, in_qsize 31, out_qsize 2\n",
            "2022-02-16 05:18:02,886:INFO:worker thread finished; awaiting finish of 23 more threads\n",
            "2022-02-16 05:18:02,893:INFO:worker thread finished; awaiting finish of 22 more threads\n",
            "2022-02-16 05:18:02,898:INFO:worker thread finished; awaiting finish of 21 more threads\n",
            "2022-02-16 05:18:02,901:INFO:worker thread finished; awaiting finish of 20 more threads\n",
            "2022-02-16 05:18:02,905:INFO:worker thread finished; awaiting finish of 19 more threads\n",
            "2022-02-16 05:18:02,925:INFO:worker thread finished; awaiting finish of 18 more threads\n",
            "2022-02-16 05:18:02,931:INFO:worker thread finished; awaiting finish of 17 more threads\n",
            "2022-02-16 05:18:02,932:INFO:worker thread finished; awaiting finish of 16 more threads\n",
            "2022-02-16 05:18:02,946:INFO:worker thread finished; awaiting finish of 15 more threads\n",
            "2022-02-16 05:18:02,949:INFO:worker thread finished; awaiting finish of 14 more threads\n",
            "2022-02-16 05:18:02,960:INFO:worker thread finished; awaiting finish of 13 more threads\n",
            "2022-02-16 05:18:02,966:INFO:worker thread finished; awaiting finish of 12 more threads\n",
            "2022-02-16 05:18:02,971:INFO:worker thread finished; awaiting finish of 11 more threads\n",
            "2022-02-16 05:18:02,975:INFO:worker thread finished; awaiting finish of 10 more threads\n",
            "2022-02-16 05:18:02,984:INFO:worker thread finished; awaiting finish of 9 more threads\n",
            "2022-02-16 05:18:03,013:INFO:worker thread finished; awaiting finish of 8 more threads\n",
            "2022-02-16 05:18:03,017:INFO:worker thread finished; awaiting finish of 7 more threads\n",
            "2022-02-16 05:18:03,025:INFO:worker thread finished; awaiting finish of 6 more threads\n",
            "2022-02-16 05:18:03,050:INFO:worker thread finished; awaiting finish of 5 more threads\n",
            "2022-02-16 05:18:03,054:INFO:worker thread finished; awaiting finish of 4 more threads\n",
            "2022-02-16 05:18:03,063:INFO:worker thread finished; awaiting finish of 3 more threads\n",
            "2022-02-16 05:18:03,080:INFO:worker thread finished; awaiting finish of 2 more threads\n",
            "2022-02-16 05:18:03,093:INFO:worker thread finished; awaiting finish of 1 more threads\n",
            "2022-02-16 05:18:03,099:INFO:worker thread finished; awaiting finish of 0 more threads\n",
            "2022-02-16 05:18:03,100:INFO:EPOCH - 5 : training on 1630633 raw words (1453208 effective words) took 4.0s, 362005 effective words/s\n",
            "2022-02-16 05:18:04,160:INFO:EPOCH 6 - PROGRESS: at 43.07% examples, 360201 words/s, in_qsize 46, out_qsize 1\n",
            "2022-02-16 05:18:05,177:INFO:EPOCH 6 - PROGRESS: at 63.95% examples, 325909 words/s, in_qsize 48, out_qsize 0\n",
            "2022-02-16 05:18:06,193:INFO:EPOCH 6 - PROGRESS: at 77.37% examples, 303555 words/s, in_qsize 45, out_qsize 5\n",
            "2022-02-16 05:18:06,948:INFO:worker thread finished; awaiting finish of 23 more threads\n",
            "2022-02-16 05:18:06,952:INFO:worker thread finished; awaiting finish of 22 more threads\n",
            "2022-02-16 05:18:06,962:INFO:worker thread finished; awaiting finish of 21 more threads\n",
            "2022-02-16 05:18:06,969:INFO:worker thread finished; awaiting finish of 20 more threads\n",
            "2022-02-16 05:18:06,971:INFO:worker thread finished; awaiting finish of 19 more threads\n",
            "2022-02-16 05:18:06,973:INFO:worker thread finished; awaiting finish of 18 more threads\n",
            "2022-02-16 05:18:06,976:INFO:worker thread finished; awaiting finish of 17 more threads\n",
            "2022-02-16 05:18:06,997:INFO:worker thread finished; awaiting finish of 16 more threads\n",
            "2022-02-16 05:18:07,014:INFO:worker thread finished; awaiting finish of 15 more threads\n",
            "2022-02-16 05:18:07,016:INFO:worker thread finished; awaiting finish of 14 more threads\n",
            "2022-02-16 05:18:07,023:INFO:worker thread finished; awaiting finish of 13 more threads\n",
            "2022-02-16 05:18:07,035:INFO:worker thread finished; awaiting finish of 12 more threads\n",
            "2022-02-16 05:18:07,045:INFO:worker thread finished; awaiting finish of 11 more threads\n",
            "2022-02-16 05:18:07,071:INFO:worker thread finished; awaiting finish of 10 more threads\n",
            "2022-02-16 05:18:07,088:INFO:worker thread finished; awaiting finish of 9 more threads\n",
            "2022-02-16 05:18:07,169:INFO:worker thread finished; awaiting finish of 8 more threads\n",
            "2022-02-16 05:18:07,204:INFO:EPOCH 6 - PROGRESS: at 97.84% examples, 340070 words/s, in_qsize 7, out_qsize 0\n",
            "2022-02-16 05:18:07,209:INFO:worker thread finished; awaiting finish of 7 more threads\n",
            "2022-02-16 05:18:07,214:INFO:worker thread finished; awaiting finish of 6 more threads\n",
            "2022-02-16 05:18:07,229:INFO:worker thread finished; awaiting finish of 5 more threads\n",
            "2022-02-16 05:18:07,232:INFO:worker thread finished; awaiting finish of 4 more threads\n",
            "2022-02-16 05:18:07,246:INFO:worker thread finished; awaiting finish of 3 more threads\n",
            "2022-02-16 05:18:07,248:INFO:worker thread finished; awaiting finish of 2 more threads\n",
            "2022-02-16 05:18:07,252:INFO:worker thread finished; awaiting finish of 1 more threads\n",
            "2022-02-16 05:18:07,256:INFO:worker thread finished; awaiting finish of 0 more threads\n",
            "2022-02-16 05:18:07,257:INFO:EPOCH - 6 : training on 1630633 raw words (1453011 effective words) took 4.1s, 350776 effective words/s\n",
            "2022-02-16 05:18:08,338:INFO:EPOCH 7 - PROGRESS: at 29.13% examples, 211076 words/s, in_qsize 45, out_qsize 8\n",
            "2022-02-16 05:18:09,564:INFO:EPOCH 7 - PROGRESS: at 69.95% examples, 343028 words/s, in_qsize 47, out_qsize 0\n",
            "2022-02-16 05:18:10,569:INFO:EPOCH 7 - PROGRESS: at 82.94% examples, 322235 words/s, in_qsize 46, out_qsize 0\n",
            "2022-02-16 05:18:11,124:INFO:worker thread finished; awaiting finish of 23 more threads\n",
            "2022-02-16 05:18:11,130:INFO:worker thread finished; awaiting finish of 22 more threads\n",
            "2022-02-16 05:18:11,145:INFO:worker thread finished; awaiting finish of 21 more threads\n",
            "2022-02-16 05:18:11,163:INFO:worker thread finished; awaiting finish of 20 more threads\n",
            "2022-02-16 05:18:11,243:INFO:worker thread finished; awaiting finish of 19 more threads\n",
            "2022-02-16 05:18:11,257:INFO:worker thread finished; awaiting finish of 18 more threads\n",
            "2022-02-16 05:18:11,304:INFO:worker thread finished; awaiting finish of 17 more threads\n",
            "2022-02-16 05:18:11,306:INFO:worker thread finished; awaiting finish of 16 more threads\n",
            "2022-02-16 05:18:11,310:INFO:worker thread finished; awaiting finish of 15 more threads\n",
            "2022-02-16 05:18:11,319:INFO:worker thread finished; awaiting finish of 14 more threads\n",
            "2022-02-16 05:18:11,324:INFO:worker thread finished; awaiting finish of 13 more threads\n",
            "2022-02-16 05:18:11,341:INFO:worker thread finished; awaiting finish of 12 more threads\n",
            "2022-02-16 05:18:11,378:INFO:worker thread finished; awaiting finish of 11 more threads\n",
            "2022-02-16 05:18:11,383:INFO:worker thread finished; awaiting finish of 10 more threads\n",
            "2022-02-16 05:18:11,392:INFO:worker thread finished; awaiting finish of 9 more threads\n",
            "2022-02-16 05:18:11,397:INFO:worker thread finished; awaiting finish of 8 more threads\n",
            "2022-02-16 05:18:11,408:INFO:worker thread finished; awaiting finish of 7 more threads\n",
            "2022-02-16 05:18:11,410:INFO:worker thread finished; awaiting finish of 6 more threads\n",
            "2022-02-16 05:18:11,426:INFO:worker thread finished; awaiting finish of 5 more threads\n",
            "2022-02-16 05:18:11,427:INFO:worker thread finished; awaiting finish of 4 more threads\n",
            "2022-02-16 05:18:11,431:INFO:worker thread finished; awaiting finish of 3 more threads\n",
            "2022-02-16 05:18:11,434:INFO:worker thread finished; awaiting finish of 2 more threads\n",
            "2022-02-16 05:18:11,440:INFO:worker thread finished; awaiting finish of 1 more threads\n",
            "2022-02-16 05:18:11,443:INFO:worker thread finished; awaiting finish of 0 more threads\n",
            "2022-02-16 05:18:11,446:INFO:EPOCH - 7 : training on 1630633 raw words (1453669 effective words) took 4.2s, 349431 effective words/s\n",
            "2022-02-16 05:18:12,542:INFO:EPOCH 8 - PROGRESS: at 32.59% examples, 238928 words/s, in_qsize 42, out_qsize 12\n",
            "2022-02-16 05:18:13,584:INFO:EPOCH 8 - PROGRESS: at 68.03% examples, 351247 words/s, in_qsize 47, out_qsize 0\n",
            "2022-02-16 05:18:14,602:INFO:EPOCH 8 - PROGRESS: at 82.07% examples, 331410 words/s, in_qsize 47, out_qsize 1\n",
            "2022-02-16 05:18:15,317:INFO:worker thread finished; awaiting finish of 23 more threads\n",
            "2022-02-16 05:18:15,320:INFO:worker thread finished; awaiting finish of 22 more threads\n",
            "2022-02-16 05:18:15,322:INFO:worker thread finished; awaiting finish of 21 more threads\n",
            "2022-02-16 05:18:15,391:INFO:worker thread finished; awaiting finish of 20 more threads\n",
            "2022-02-16 05:18:15,434:INFO:worker thread finished; awaiting finish of 19 more threads\n",
            "2022-02-16 05:18:15,480:INFO:worker thread finished; awaiting finish of 18 more threads\n",
            "2022-02-16 05:18:15,497:INFO:worker thread finished; awaiting finish of 17 more threads\n",
            "2022-02-16 05:18:15,508:INFO:worker thread finished; awaiting finish of 16 more threads\n",
            "2022-02-16 05:18:15,532:INFO:worker thread finished; awaiting finish of 15 more threads\n",
            "2022-02-16 05:18:15,612:INFO:EPOCH 8 - PROGRESS: at 95.76% examples, 320257 words/s, in_qsize 14, out_qsize 1\n",
            "2022-02-16 05:18:15,614:INFO:worker thread finished; awaiting finish of 14 more threads\n",
            "2022-02-16 05:18:15,638:INFO:worker thread finished; awaiting finish of 13 more threads\n",
            "2022-02-16 05:18:15,649:INFO:worker thread finished; awaiting finish of 12 more threads\n",
            "2022-02-16 05:18:15,678:INFO:worker thread finished; awaiting finish of 11 more threads\n",
            "2022-02-16 05:18:15,704:INFO:worker thread finished; awaiting finish of 10 more threads\n",
            "2022-02-16 05:18:15,706:INFO:worker thread finished; awaiting finish of 9 more threads\n",
            "2022-02-16 05:18:15,708:INFO:worker thread finished; awaiting finish of 8 more threads\n",
            "2022-02-16 05:18:15,712:INFO:worker thread finished; awaiting finish of 7 more threads\n",
            "2022-02-16 05:18:15,720:INFO:worker thread finished; awaiting finish of 6 more threads\n",
            "2022-02-16 05:18:15,744:INFO:worker thread finished; awaiting finish of 5 more threads\n",
            "2022-02-16 05:18:15,745:INFO:worker thread finished; awaiting finish of 4 more threads\n",
            "2022-02-16 05:18:15,750:INFO:worker thread finished; awaiting finish of 3 more threads\n",
            "2022-02-16 05:18:15,757:INFO:worker thread finished; awaiting finish of 2 more threads\n",
            "2022-02-16 05:18:15,761:INFO:worker thread finished; awaiting finish of 1 more threads\n",
            "2022-02-16 05:18:15,764:INFO:worker thread finished; awaiting finish of 0 more threads\n",
            "2022-02-16 05:18:15,765:INFO:EPOCH - 8 : training on 1630633 raw words (1453487 effective words) took 4.3s, 337849 effective words/s\n",
            "2022-02-16 05:18:16,871:INFO:EPOCH 9 - PROGRESS: at 43.88% examples, 354092 words/s, in_qsize 47, out_qsize 0\n",
            "2022-02-16 05:18:17,981:INFO:EPOCH 9 - PROGRESS: at 62.88% examples, 297466 words/s, in_qsize 46, out_qsize 9\n",
            "2022-02-16 05:18:19,083:INFO:EPOCH 9 - PROGRESS: at 85.82% examples, 336016 words/s, in_qsize 40, out_qsize 0\n",
            "2022-02-16 05:18:19,450:INFO:worker thread finished; awaiting finish of 23 more threads\n",
            "2022-02-16 05:18:19,456:INFO:worker thread finished; awaiting finish of 22 more threads\n",
            "2022-02-16 05:18:19,492:INFO:worker thread finished; awaiting finish of 21 more threads\n",
            "2022-02-16 05:18:19,522:INFO:worker thread finished; awaiting finish of 20 more threads\n",
            "2022-02-16 05:18:19,562:INFO:worker thread finished; awaiting finish of 19 more threads\n",
            "2022-02-16 05:18:19,565:INFO:worker thread finished; awaiting finish of 18 more threads\n",
            "2022-02-16 05:18:19,575:INFO:worker thread finished; awaiting finish of 17 more threads\n",
            "2022-02-16 05:18:19,579:INFO:worker thread finished; awaiting finish of 16 more threads\n",
            "2022-02-16 05:18:19,644:INFO:worker thread finished; awaiting finish of 15 more threads\n",
            "2022-02-16 05:18:19,650:INFO:worker thread finished; awaiting finish of 14 more threads\n",
            "2022-02-16 05:18:19,653:INFO:worker thread finished; awaiting finish of 13 more threads\n",
            "2022-02-16 05:18:19,654:INFO:worker thread finished; awaiting finish of 12 more threads\n",
            "2022-02-16 05:18:19,656:INFO:worker thread finished; awaiting finish of 11 more threads\n",
            "2022-02-16 05:18:19,772:INFO:worker thread finished; awaiting finish of 10 more threads\n",
            "2022-02-16 05:18:19,793:INFO:worker thread finished; awaiting finish of 9 more threads\n",
            "2022-02-16 05:18:19,805:INFO:worker thread finished; awaiting finish of 8 more threads\n",
            "2022-02-16 05:18:19,810:INFO:worker thread finished; awaiting finish of 7 more threads\n",
            "2022-02-16 05:18:19,814:INFO:worker thread finished; awaiting finish of 6 more threads\n",
            "2022-02-16 05:18:19,833:INFO:worker thread finished; awaiting finish of 5 more threads\n",
            "2022-02-16 05:18:19,836:INFO:worker thread finished; awaiting finish of 4 more threads\n",
            "2022-02-16 05:18:19,845:INFO:worker thread finished; awaiting finish of 3 more threads\n",
            "2022-02-16 05:18:19,846:INFO:worker thread finished; awaiting finish of 2 more threads\n",
            "2022-02-16 05:18:19,856:INFO:worker thread finished; awaiting finish of 1 more threads\n",
            "2022-02-16 05:18:19,859:INFO:worker thread finished; awaiting finish of 0 more threads\n",
            "2022-02-16 05:18:19,860:INFO:EPOCH - 9 : training on 1630633 raw words (1452323 effective words) took 4.1s, 356214 effective words/s\n",
            "2022-02-16 05:18:20,910:INFO:EPOCH 10 - PROGRESS: at 40.65% examples, 337169 words/s, in_qsize 47, out_qsize 0\n",
            "2022-02-16 05:18:21,968:INFO:EPOCH 10 - PROGRESS: at 64.50% examples, 325247 words/s, in_qsize 47, out_qsize 0\n",
            "2022-02-16 05:18:23,017:INFO:EPOCH 10 - PROGRESS: at 78.02% examples, 303071 words/s, in_qsize 35, out_qsize 12\n",
            "2022-02-16 05:18:23,878:INFO:worker thread finished; awaiting finish of 23 more threads\n",
            "2022-02-16 05:18:23,880:INFO:worker thread finished; awaiting finish of 22 more threads\n",
            "2022-02-16 05:18:23,884:INFO:worker thread finished; awaiting finish of 21 more threads\n",
            "2022-02-16 05:18:23,886:INFO:worker thread finished; awaiting finish of 20 more threads\n",
            "2022-02-16 05:18:23,891:INFO:worker thread finished; awaiting finish of 19 more threads\n",
            "2022-02-16 05:18:23,899:INFO:worker thread finished; awaiting finish of 18 more threads\n",
            "2022-02-16 05:18:23,900:INFO:worker thread finished; awaiting finish of 17 more threads\n",
            "2022-02-16 05:18:23,914:INFO:worker thread finished; awaiting finish of 16 more threads\n",
            "2022-02-16 05:18:23,915:INFO:worker thread finished; awaiting finish of 15 more threads\n",
            "2022-02-16 05:18:23,933:INFO:worker thread finished; awaiting finish of 14 more threads\n",
            "2022-02-16 05:18:23,938:INFO:worker thread finished; awaiting finish of 13 more threads\n",
            "2022-02-16 05:18:23,941:INFO:worker thread finished; awaiting finish of 12 more threads\n",
            "2022-02-16 05:18:23,947:INFO:worker thread finished; awaiting finish of 11 more threads\n",
            "2022-02-16 05:18:23,950:INFO:worker thread finished; awaiting finish of 10 more threads\n",
            "2022-02-16 05:18:23,958:INFO:worker thread finished; awaiting finish of 9 more threads\n",
            "2022-02-16 05:18:23,960:INFO:worker thread finished; awaiting finish of 8 more threads\n",
            "2022-02-16 05:18:23,962:INFO:worker thread finished; awaiting finish of 7 more threads\n",
            "2022-02-16 05:18:23,988:INFO:worker thread finished; awaiting finish of 6 more threads\n",
            "2022-02-16 05:18:23,994:INFO:worker thread finished; awaiting finish of 5 more threads\n",
            "2022-02-16 05:18:23,995:INFO:worker thread finished; awaiting finish of 4 more threads\n",
            "2022-02-16 05:18:24,041:INFO:EPOCH 10 - PROGRESS: at 99.10% examples, 342421 words/s, in_qsize 3, out_qsize 1\n",
            "2022-02-16 05:18:24,042:INFO:worker thread finished; awaiting finish of 3 more threads\n",
            "2022-02-16 05:18:24,045:INFO:worker thread finished; awaiting finish of 2 more threads\n",
            "2022-02-16 05:18:24,054:INFO:worker thread finished; awaiting finish of 1 more threads\n",
            "2022-02-16 05:18:24,062:INFO:worker thread finished; awaiting finish of 0 more threads\n",
            "2022-02-16 05:18:24,064:INFO:EPOCH - 10 : training on 1630633 raw words (1453305 effective words) took 4.2s, 346888 effective words/s\n",
            "2022-02-16 05:18:24,068:INFO:training on a 16306330 raw words (14531296 effective words) took 41.2s, 352924 effective words/s\n"
          ]
        }
      ]
    },
    {
      "cell_type": "code",
      "source": [
        "# 随机选择5个用户，查看这些用户前后查看文章的相似性\n",
        "sub_user_ids = np.random.choice(user_click_merge.user_id.unique(), size=15, replace=False)\n",
        "sub_user_info = user_click_merge[user_click_merge['user_id'].isin(sub_user_ids)]\n",
        "\n",
        "sub_user_info.head()"
      ],
      "metadata": {
        "colab": {
          "base_uri": "https://localhost:8080/",
          "height": 206
        },
        "id": "f1xf48Oi7Ldh",
        "outputId": "c64ef67c-94d4-4690-fad0-8cf390182446"
      },
      "execution_count": 64,
      "outputs": [
        {
          "output_type": "execute_result",
          "data": {
            "text/html": [
              "\n",
              "  <div id=\"df-a47b0b4e-5328-47de-8afa-8df0744b94ac\">\n",
              "    <div class=\"colab-df-container\">\n",
              "      <div>\n",
              "<style scoped>\n",
              "    .dataframe tbody tr th:only-of-type {\n",
              "        vertical-align: middle;\n",
              "    }\n",
              "\n",
              "    .dataframe tbody tr th {\n",
              "        vertical-align: top;\n",
              "    }\n",
              "\n",
              "    .dataframe thead th {\n",
              "        text-align: right;\n",
              "    }\n",
              "</style>\n",
              "<table border=\"1\" class=\"dataframe\">\n",
              "  <thead>\n",
              "    <tr style=\"text-align: right;\">\n",
              "      <th></th>\n",
              "      <th>user_id</th>\n",
              "      <th>click_article_id</th>\n",
              "      <th>click_timestamp</th>\n",
              "      <th>click_environment</th>\n",
              "      <th>click_deviceGroup</th>\n",
              "      <th>click_os</th>\n",
              "      <th>click_country</th>\n",
              "      <th>click_region</th>\n",
              "      <th>click_referrer_type</th>\n",
              "      <th>rank</th>\n",
              "      <th>click_cnts</th>\n",
              "      <th>category_id</th>\n",
              "      <th>created_at_ts</th>\n",
              "      <th>words_count</th>\n",
              "    </tr>\n",
              "  </thead>\n",
              "  <tbody>\n",
              "    <tr>\n",
              "      <th>37293</th>\n",
              "      <td>235538</td>\n",
              "      <td>300470</td>\n",
              "      <td>0.003315</td>\n",
              "      <td>4</td>\n",
              "      <td>1</td>\n",
              "      <td>17</td>\n",
              "      <td>1</td>\n",
              "      <td>18</td>\n",
              "      <td>2</td>\n",
              "      <td>17</td>\n",
              "      <td>17</td>\n",
              "      <td>428</td>\n",
              "      <td>0.989182</td>\n",
              "      <td>203</td>\n",
              "    </tr>\n",
              "    <tr>\n",
              "      <th>37294</th>\n",
              "      <td>235538</td>\n",
              "      <td>225463</td>\n",
              "      <td>0.003429</td>\n",
              "      <td>4</td>\n",
              "      <td>1</td>\n",
              "      <td>17</td>\n",
              "      <td>1</td>\n",
              "      <td>18</td>\n",
              "      <td>2</td>\n",
              "      <td>16</td>\n",
              "      <td>17</td>\n",
              "      <td>354</td>\n",
              "      <td>0.989195</td>\n",
              "      <td>220</td>\n",
              "    </tr>\n",
              "    <tr>\n",
              "      <th>37295</th>\n",
              "      <td>235538</td>\n",
              "      <td>337082</td>\n",
              "      <td>0.003437</td>\n",
              "      <td>4</td>\n",
              "      <td>1</td>\n",
              "      <td>17</td>\n",
              "      <td>1</td>\n",
              "      <td>18</td>\n",
              "      <td>2</td>\n",
              "      <td>15</td>\n",
              "      <td>17</td>\n",
              "      <td>437</td>\n",
              "      <td>0.989214</td>\n",
              "      <td>163</td>\n",
              "    </tr>\n",
              "    <tr>\n",
              "      <th>81105</th>\n",
              "      <td>219783</td>\n",
              "      <td>336607</td>\n",
              "      <td>0.006757</td>\n",
              "      <td>4</td>\n",
              "      <td>1</td>\n",
              "      <td>17</td>\n",
              "      <td>1</td>\n",
              "      <td>24</td>\n",
              "      <td>1</td>\n",
              "      <td>1</td>\n",
              "      <td>1</td>\n",
              "      <td>437</td>\n",
              "      <td>0.989230</td>\n",
              "      <td>173</td>\n",
              "    </tr>\n",
              "    <tr>\n",
              "      <th>4690</th>\n",
              "      <td>198289</td>\n",
              "      <td>36605</td>\n",
              "      <td>0.020581</td>\n",
              "      <td>4</td>\n",
              "      <td>1</td>\n",
              "      <td>17</td>\n",
              "      <td>1</td>\n",
              "      <td>8</td>\n",
              "      <td>2</td>\n",
              "      <td>5</td>\n",
              "      <td>5</td>\n",
              "      <td>43</td>\n",
              "      <td>0.989176</td>\n",
              "      <td>157</td>\n",
              "    </tr>\n",
              "  </tbody>\n",
              "</table>\n",
              "</div>\n",
              "      <button class=\"colab-df-convert\" onclick=\"convertToInteractive('df-a47b0b4e-5328-47de-8afa-8df0744b94ac')\"\n",
              "              title=\"Convert this dataframe to an interactive table.\"\n",
              "              style=\"display:none;\">\n",
              "        \n",
              "  <svg xmlns=\"http://www.w3.org/2000/svg\" height=\"24px\"viewBox=\"0 0 24 24\"\n",
              "       width=\"24px\">\n",
              "    <path d=\"M0 0h24v24H0V0z\" fill=\"none\"/>\n",
              "    <path d=\"M18.56 5.44l.94 2.06.94-2.06 2.06-.94-2.06-.94-.94-2.06-.94 2.06-2.06.94zm-11 1L8.5 8.5l.94-2.06 2.06-.94-2.06-.94L8.5 2.5l-.94 2.06-2.06.94zm10 10l.94 2.06.94-2.06 2.06-.94-2.06-.94-.94-2.06-.94 2.06-2.06.94z\"/><path d=\"M17.41 7.96l-1.37-1.37c-.4-.4-.92-.59-1.43-.59-.52 0-1.04.2-1.43.59L10.3 9.45l-7.72 7.72c-.78.78-.78 2.05 0 2.83L4 21.41c.39.39.9.59 1.41.59.51 0 1.02-.2 1.41-.59l7.78-7.78 2.81-2.81c.8-.78.8-2.07 0-2.86zM5.41 20L4 18.59l7.72-7.72 1.47 1.35L5.41 20z\"/>\n",
              "  </svg>\n",
              "      </button>\n",
              "      \n",
              "  <style>\n",
              "    .colab-df-container {\n",
              "      display:flex;\n",
              "      flex-wrap:wrap;\n",
              "      gap: 12px;\n",
              "    }\n",
              "\n",
              "    .colab-df-convert {\n",
              "      background-color: #E8F0FE;\n",
              "      border: none;\n",
              "      border-radius: 50%;\n",
              "      cursor: pointer;\n",
              "      display: none;\n",
              "      fill: #1967D2;\n",
              "      height: 32px;\n",
              "      padding: 0 0 0 0;\n",
              "      width: 32px;\n",
              "    }\n",
              "\n",
              "    .colab-df-convert:hover {\n",
              "      background-color: #E2EBFA;\n",
              "      box-shadow: 0px 1px 2px rgba(60, 64, 67, 0.3), 0px 1px 3px 1px rgba(60, 64, 67, 0.15);\n",
              "      fill: #174EA6;\n",
              "    }\n",
              "\n",
              "    [theme=dark] .colab-df-convert {\n",
              "      background-color: #3B4455;\n",
              "      fill: #D2E3FC;\n",
              "    }\n",
              "\n",
              "    [theme=dark] .colab-df-convert:hover {\n",
              "      background-color: #434B5C;\n",
              "      box-shadow: 0px 1px 3px 1px rgba(0, 0, 0, 0.15);\n",
              "      filter: drop-shadow(0px 1px 2px rgba(0, 0, 0, 0.3));\n",
              "      fill: #FFFFFF;\n",
              "    }\n",
              "  </style>\n",
              "\n",
              "      <script>\n",
              "        const buttonEl =\n",
              "          document.querySelector('#df-a47b0b4e-5328-47de-8afa-8df0744b94ac button.colab-df-convert');\n",
              "        buttonEl.style.display =\n",
              "          google.colab.kernel.accessAllowed ? 'block' : 'none';\n",
              "\n",
              "        async function convertToInteractive(key) {\n",
              "          const element = document.querySelector('#df-a47b0b4e-5328-47de-8afa-8df0744b94ac');\n",
              "          const dataTable =\n",
              "            await google.colab.kernel.invokeFunction('convertToInteractive',\n",
              "                                                     [key], {});\n",
              "          if (!dataTable) return;\n",
              "\n",
              "          const docLinkHtml = 'Like what you see? Visit the ' +\n",
              "            '<a target=\"_blank\" href=https://colab.research.google.com/notebooks/data_table.ipynb>data table notebook</a>'\n",
              "            + ' to learn more about interactive tables.';\n",
              "          element.innerHTML = '';\n",
              "          dataTable['output_type'] = 'display_data';\n",
              "          await google.colab.output.renderOutput(dataTable, element);\n",
              "          const docLink = document.createElement('div');\n",
              "          docLink.innerHTML = docLinkHtml;\n",
              "          element.appendChild(docLink);\n",
              "        }\n",
              "      </script>\n",
              "    </div>\n",
              "  </div>\n",
              "  "
            ],
            "text/plain": [
              "       user_id  click_article_id  ...  created_at_ts  words_count\n",
              "37293   235538            300470  ...       0.989182          203\n",
              "37294   235538            225463  ...       0.989195          220\n",
              "37295   235538            337082  ...       0.989214          163\n",
              "81105   219783            336607  ...       0.989230          173\n",
              "4690    198289             36605  ...       0.989176          157\n",
              "\n",
              "[5 rows x 14 columns]"
            ]
          },
          "metadata": {},
          "execution_count": 64
        }
      ]
    },
    {
      "cell_type": "code",
      "source": [
        "# 上一个版本，这个函数使用的是赛题提供的词向量，但是由于给出的embedding并不是所有的数据的embedding，所以运行下面画图函数的时候会报keyerror的错误\n",
        "# 为了防止出现这个错误，这里修改为使用word2vec训练得到的词向量进行可视化\n",
        "def get_item_sim_list(df):\n",
        "    sim_list = []\n",
        "    item_list = df['click_article_id'].values\n",
        "    for i in range(0, len(item_list)-1):\n",
        "        emb1 = item_w2v_emb_dict[str(item_list[i])] # 需要注意的是word2vec训练时候使用的是str类型的数据\n",
        "        emb2 = item_w2v_emb_dict[str(item_list[i+1])]\n",
        "        sim_list.append(np.dot(emb1,emb2)/(np.linalg.norm(emb1)*(np.linalg.norm(emb2))))\n",
        "    sim_list.append(0)\n",
        "    return sim_list"
      ],
      "metadata": {
        "id": "etJ-eVZz7Ndl"
      },
      "execution_count": 65,
      "outputs": []
    },
    {
      "cell_type": "code",
      "source": [
        "for _, user_df in sub_user_info.groupby('user_id'):\n",
        "    item_sim_list = get_item_sim_list(user_df)\n",
        "    plt.plot(item_sim_list)"
      ],
      "metadata": {
        "colab": {
          "base_uri": "https://localhost:8080/",
          "height": 268
        },
        "id": "koqyAzoZ7O6Q",
        "outputId": "946a3452-c9f2-4d86-f68a-00a190e7651e"
      },
      "execution_count": 66,
      "outputs": [
        {
          "output_type": "display_data",
          "data": {
            "image/png": "[encoded data removed]",
            "text/plain": [
              "<Figure size 432x288 with 1 Axes>"
            ]
          },
          "metadata": {
            "needs_background": "light"
          }
        }
      ]
    },
    {
      "cell_type": "markdown",
      "source": [
        "这里由于对词向量的训练迭代次数不是很多，所以看到的可视化结果不是很准确，可以训练更多次来观察具体的现象。\n",
        "\n"
      ],
      "metadata": {
        "id": "Y0YNhAYu7Rq2"
      }
    },
    {
      "cell_type": "markdown",
      "source": [
        "#总结\n",
        "\n",
        "1.   训练集和测试集的用户id没有重复，也就是测试集里面的用户模型是没有见过的\n",
        "2.   训练集中用户最少的点击文章数是2， 而测试集里面用户最少的点击文章数是1\n",
        "3.   用户对于文章存在重复点击的情况， 但这个都存在于训练集里面\n",
        "4.同一用户的点击环境存在不唯一的情况，后面做这部分特征的时候可以采用统计特征\n",
        "5.用户点击文章的次数有很大的区分度，后面可以根据这个制作衡量用户活跃度的特征\n",
        "6.文章被用户点击的次数也有很大的区分度，后面可以根据这个制作衡量文章热度的特征\n",
        "7.用户看的新闻，相关性是比较强的，所以往往我们判断用户是否对某篇文章感兴趣的时候候，在很大程度上会和他历史点击过的文章有关\n",
        "8.用户点击的文章字数有比较大的区别， 这个可以反映用户对于文章字数的区别\n",
        "9.用户点击过的文章主题也有很大的区别， 这个可以反映用户的主题偏好 10.不同用户点击文章的时间差也会有所区别， 这个可以反映用户对于文章时效性的偏好\n",
        "\n",
        "\n",
        "\n",
        "\n",
        "\n",
        "\n"
      ],
      "metadata": {
        "id": "M9W-oQ2x7VUT"
      }
    },
    {
      "cell_type": "code",
      "source": [
        ""
      ],
      "metadata": {
        "id": "v42p7gpQ7Q75"
      },
      "execution_count": null,
      "outputs": []
    }
  ]
}